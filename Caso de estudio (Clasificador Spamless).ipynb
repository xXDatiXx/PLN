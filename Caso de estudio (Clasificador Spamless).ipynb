{
 "cells": [
  {
   "cell_type": "markdown",
   "metadata": {
    "id": "ZGTi3ZIdH9GW"
   },
   "source": [
    "## Paso 01 - Lectura del conjunto de información"
   ]
  },
  {
   "cell_type": "code",
   "execution_count": 1,
   "metadata": {
    "id": "WxzlCeaWFMca"
   },
   "outputs": [],
   "source": [
    "# Importar las librerías de que nos ayudarán a obtener la información, organizarla y procesarla\n",
    "import pandas as pd"
   ]
  },
  {
   "cell_type": "code",
   "execution_count": 2,
   "metadata": {
    "id": "K4BDdkcYT2X8"
   },
   "outputs": [
    {
     "data": {
      "text/html": [
       "<div>\n",
       "<style scoped>\n",
       "    .dataframe tbody tr th:only-of-type {\n",
       "        vertical-align: middle;\n",
       "    }\n",
       "\n",
       "    .dataframe tbody tr th {\n",
       "        vertical-align: top;\n",
       "    }\n",
       "\n",
       "    .dataframe thead th {\n",
       "        text-align: right;\n",
       "    }\n",
       "</style>\n",
       "<table border=\"1\" class=\"dataframe\">\n",
       "  <thead>\n",
       "    <tr style=\"text-align: right;\">\n",
       "      <th></th>\n",
       "      <th>clase</th>\n",
       "      <th>mensaje</th>\n",
       "    </tr>\n",
       "  </thead>\n",
       "  <tbody>\n",
       "    <tr>\n",
       "      <th>0</th>\n",
       "      <td>NoSpam</td>\n",
       "      <td>Acuerdo para la reunión de planeación</td>\n",
       "    </tr>\n",
       "    <tr>\n",
       "      <th>1</th>\n",
       "      <td>NoSpam</td>\n",
       "      <td>[IMPORTANTE] Cambio de hora en la cita de mañana</td>\n",
       "    </tr>\n",
       "    <tr>\n",
       "      <th>2</th>\n",
       "      <td>NoSpam</td>\n",
       "      <td>Envio de información solicitada</td>\n",
       "    </tr>\n",
       "    <tr>\n",
       "      <th>3</th>\n",
       "      <td>NoSpam</td>\n",
       "      <td>Problema de autenticación resuelto</td>\n",
       "    </tr>\n",
       "    <tr>\n",
       "      <th>4</th>\n",
       "      <td>NoSpam</td>\n",
       "      <td>Activación correcta de tu cuenta</td>\n",
       "    </tr>\n",
       "    <tr>\n",
       "      <th>5</th>\n",
       "      <td>NoSpam</td>\n",
       "      <td>Fotos para enviar</td>\n",
       "    </tr>\n",
       "    <tr>\n",
       "      <th>6</th>\n",
       "      <td>NoSpam</td>\n",
       "      <td>Recibo del curso para escanear</td>\n",
       "    </tr>\n",
       "    <tr>\n",
       "      <th>7</th>\n",
       "      <td>NoSpam</td>\n",
       "      <td>Datos de las cuentas de acceso</td>\n",
       "    </tr>\n",
       "    <tr>\n",
       "      <th>8</th>\n",
       "      <td>NoSpam</td>\n",
       "      <td>Confirmación de proceso de Autovinculación</td>\n",
       "    </tr>\n",
       "    <tr>\n",
       "      <th>9</th>\n",
       "      <td>NoSpam</td>\n",
       "      <td>Confirmación de Activación de Cuenta en App Móvil</td>\n",
       "    </tr>\n",
       "    <tr>\n",
       "      <th>10</th>\n",
       "      <td>NoSpam</td>\n",
       "      <td>Por si les interesa: Vacante para Becario proy...</td>\n",
       "    </tr>\n",
       "    <tr>\n",
       "      <th>11</th>\n",
       "      <td>NoSpam</td>\n",
       "      <td>Información sobre seguro de gastos médicos may...</td>\n",
       "    </tr>\n",
       "    <tr>\n",
       "      <th>12</th>\n",
       "      <td>NoSpam</td>\n",
       "      <td>Se ha modificado la información de tu cuenta</td>\n",
       "    </tr>\n",
       "    <tr>\n",
       "      <th>13</th>\n",
       "      <td>NoSpam</td>\n",
       "      <td>Solicitud para cambio de contraseña</td>\n",
       "    </tr>\n",
       "    <tr>\n",
       "      <th>14</th>\n",
       "      <td>NoSpam</td>\n",
       "      <td>NaN</td>\n",
       "    </tr>\n",
       "    <tr>\n",
       "      <th>15</th>\n",
       "      <td>NoSpam</td>\n",
       "      <td>Confirmación de compra digital de Nintendo</td>\n",
       "    </tr>\n",
       "    <tr>\n",
       "      <th>16</th>\n",
       "      <td>NoSpam</td>\n",
       "      <td>Confirmación de fondos añadidos a tu cuenta</td>\n",
       "    </tr>\n",
       "    <tr>\n",
       "      <th>17</th>\n",
       "      <td>NoSpam</td>\n",
       "      <td>Aportación Voluntaria Depositada con Éxito</td>\n",
       "    </tr>\n",
       "    <tr>\n",
       "      <th>18</th>\n",
       "      <td>NoSpam</td>\n",
       "      <td>Este es su link de confirmación de correo</td>\n",
       "    </tr>\n",
       "    <tr>\n",
       "      <th>19</th>\n",
       "      <td>NoSpam</td>\n",
       "      <td>Confirmación de Orden de compra</td>\n",
       "    </tr>\n",
       "  </tbody>\n",
       "</table>\n",
       "</div>"
      ],
      "text/plain": [
       "     clase                                            mensaje\n",
       "0   NoSpam              Acuerdo para la reunión de planeación\n",
       "1   NoSpam   [IMPORTANTE] Cambio de hora en la cita de mañana\n",
       "2   NoSpam                    Envio de información solicitada\n",
       "3   NoSpam                 Problema de autenticación resuelto\n",
       "4   NoSpam                   Activación correcta de tu cuenta\n",
       "5   NoSpam                                  Fotos para enviar\n",
       "6   NoSpam                     Recibo del curso para escanear\n",
       "7   NoSpam                     Datos de las cuentas de acceso\n",
       "8   NoSpam         Confirmación de proceso de Autovinculación\n",
       "9   NoSpam  Confirmación de Activación de Cuenta en App Móvil\n",
       "10  NoSpam  Por si les interesa: Vacante para Becario proy...\n",
       "11  NoSpam  Información sobre seguro de gastos médicos may...\n",
       "12  NoSpam       Se ha modificado la información de tu cuenta\n",
       "13  NoSpam                Solicitud para cambio de contraseña\n",
       "14  NoSpam                                                NaN\n",
       "15  NoSpam         Confirmación de compra digital de Nintendo\n",
       "16  NoSpam        Confirmación de fondos añadidos a tu cuenta\n",
       "17  NoSpam         Aportación Voluntaria Depositada con Éxito\n",
       "18  NoSpam          Este es su link de confirmación de correo\n",
       "19  NoSpam                    Confirmación de Orden de compra"
      ]
     },
     "execution_count": 2,
     "metadata": {},
     "output_type": "execute_result"
    }
   ],
   "source": [
    "# Lectura del archivo que contiene el corpus con la información clasificada\n",
    "# y preprocesada (Ham VS Spam)\n",
    "df2 = pd.read_csv('DataSet_N Spamless.csv')\n",
    "df2.head(20)\n",
    "\n",
    "# Referencia para la lectura de archivos en: https://codeday.me/es/qa/20190412/477724.html"
   ]
  },
  {
   "cell_type": "markdown",
   "metadata": {
    "id": "39-gKrypIV_K"
   },
   "source": [
    "## Paso 02 - Verificación y validación de la información"
   ]
  },
  {
   "cell_type": "code",
   "execution_count": 3,
   "metadata": {
    "id": "VDTEjN9zUr4Y"
   },
   "outputs": [
    {
     "name": "stdout",
     "output_type": "stream",
     "text": [
      "Tamaño del data frame: 91\n",
      "Cantidad de filas vacías:\n",
      "clase      0\n",
      "mensaje    3\n",
      "dtype: int64\n",
      "\n",
      "Tamaño del data frame sin vacíos: 88\n"
     ]
    }
   ],
   "source": [
    "# Para detectar si tenemos filas vacías\n",
    "print(\"Tamaño del data frame: \" + str(len(df2)))\n",
    "print(\"Cantidad de filas vacías:\")\n",
    "print(df2.isnull().sum())\n",
    "\n",
    "# Eliminamos las filas vacías y vemos el tamaño del nuevo df\n",
    "df2 = df2.dropna()\n",
    "df2 = df2[df2['mensaje'] != \"\"]\n",
    "print(\"\\nTamaño del data frame sin vacíos: \" + str(len(df2)))"
   ]
  },
  {
   "cell_type": "code",
   "execution_count": 4,
   "metadata": {
    "id": "SBfWygp_VO78"
   },
   "outputs": [
    {
     "name": "stdout",
     "output_type": "stream",
     "text": [
      "Clases que tenemos en el DataSet:\n",
      "['NoSpam' 'Spam']\n",
      "\n",
      "Cantidad de ejemplos que tenemos por clase:\n",
      "clase\n",
      "Spam      60\n",
      "NoSpam    28\n",
      "Name: count, dtype: int64\n"
     ]
    }
   ],
   "source": [
    "# Verificar cuales son las clasificaciones que tenemos en nuestro DataSet\n",
    "print(\"Clases que tenemos en el DataSet:\")\n",
    "print(df2['clase'].unique())\n",
    "\n",
    "# Revisamos la cantidad de ejemplos que tenemos por cada clase\n",
    "print(\"\\nCantidad de ejemplos que tenemos por clase:\")\n",
    "print(df2['clase'].value_counts())"
   ]
  },
  {
   "cell_type": "code",
   "execution_count": 5,
   "metadata": {
    "id": "Z01qApnCiF4l"
   },
   "outputs": [
    {
     "data": {
      "image/png": "[encoded data removed]",
      "text/plain": [
       "<Figure size 640x480 with 1 Axes>"
      ]
     },
     "metadata": {},
     "output_type": "display_data"
    }
   ],
   "source": [
    "# Ploteamos la cantidad de ejemplos que tenemos de cada clase\n",
    "# para ver si esta se encuentra balanceada o no\n",
    "import matplotlib.pyplot as plt\n",
    "\n",
    "Totales = df2['clase'].value_counts()\n",
    "plt.bar(['Spam', 'NoSpam'], Totales)\n",
    "plt.xticks(rotation = 45)\n",
    "plt.title('Cantidad de ejemplos de cada clase')\n",
    "plt.show()"
   ]
  },
  {
   "cell_type": "markdown",
   "metadata": {},
   "source": [
    "Paso 03- Stopwords"
   ]
  },
  {
   "cell_type": "code",
   "execution_count": null,
   "metadata": {},
   "outputs": [],
   "source": [
    "#Quitar las stopwords\n",
    "from nltk.corpus import stopwords\n",
    "stopwords_sp = stopwords.words('spanish')\n",
    "\n",
    "# Función para quitar las stopwords\n",
    "def remove_stopwords(texto):\n",
    "    texto_filtrado = []\n",
    "    for palabra in texto.split():\n",
    "        if palabra.lower() not in stopwords_sp:\n",
    "            texto_filtrado.append(palabra)\n",
    "    return \" \".join(texto_filtrado)\n",
    "\n",
    "# Aplicamos la función para quitar las stopwords\n",
    "df2['mensaje'] = df2['mensaje'].apply(remove_stopwords)\n"
   ]
  },
  {
   "cell_type": "markdown",
   "metadata": {
    "id": "5y-Ad-FUQdGW"
   },
   "source": [
    "## Paso 04 - Buscar relaciones en la información"
   ]
  },
  {
   "cell_type": "code",
   "execution_count": 6,
   "metadata": {
    "id": "rb6tE8gliwua"
   },
   "outputs": [
    {
     "data": {
      "image/png": "[encoded data removed]",
      "text/plain": [
       "<Figure size 640x480 with 1 Axes>"
      ]
     },
     "metadata": {},
     "output_type": "display_data"
    }
   ],
   "source": [
    "# Para analizar la información, ploteamos un histograma\n",
    "# que nos indica la frecuencia de caracteres tanto en\n",
    "# Ham como en Spam para revisar su comportamiento\n",
    "\n",
    "Spams = []\n",
    "NoSpams = []\n",
    "for clase, mensaje in zip(df2['clase'], df2['mensaje']):\n",
    "    if clase == 'Spam':\n",
    "        Spams.append(len(mensaje))\n",
    "    else:\n",
    "        NoSpams.append(len(mensaje))\n",
    "\n",
    "\n",
    "plt.hist(Spams, bins=15)\n",
    "plt.hist(NoSpams, bins=15)\n",
    "plt.legend(['Spam', 'No Spam'])\n",
    "plt.xlabel('Cantidad de Caracteres en los ejemplos')\n",
    "plt.ylabel('Total de ejemplos')\n",
    "plt.show()"
   ]
  },
  {
   "cell_type": "code",
   "execution_count": 7,
   "metadata": {
    "id": "qM7mv7_7anFe"
   },
   "outputs": [
    {
     "ename": "OSError",
     "evalue": "[E050] Can't find model 'es_core_news_lg'. It doesn't seem to be a Python package or a valid path to a data directory.",
     "output_type": "error",
     "traceback": [
      "\u001b[0;31m---------------------------------------------------------------------------\u001b[0m",
      "\u001b[0;31mOSError\u001b[0m                                   Traceback (most recent call last)",
      "Cell \u001b[0;32mIn[7], line 3\u001b[0m\n\u001b[1;32m      1\u001b[0m \u001b[39m# Importamos el núcleo de trabajo para hacer la tokenización\u001b[39;00m\n\u001b[1;32m      2\u001b[0m \u001b[39mimport\u001b[39;00m \u001b[39mspacy\u001b[39;00m\n\u001b[0;32m----> 3\u001b[0m nlp_es \u001b[39m=\u001b[39m spacy\u001b[39m.\u001b[39;49mload(\u001b[39m'\u001b[39;49m\u001b[39mes_core_news_lg\u001b[39;49m\u001b[39m'\u001b[39;49m)\n\u001b[1;32m      5\u001b[0m \u001b[39m# Gráfica de los tokens más utilizados para Spam\u001b[39;00m\n\u001b[1;32m      6\u001b[0m Palabras_Spam \u001b[39m=\u001b[39m {}\n",
      "File \u001b[0;32m~/.local/lib/python3.10/site-packages/spacy/__init__.py:51\u001b[0m, in \u001b[0;36mload\u001b[0;34m(name, vocab, disable, enable, exclude, config)\u001b[0m\n\u001b[1;32m     27\u001b[0m \u001b[39mdef\u001b[39;00m \u001b[39mload\u001b[39m(\n\u001b[1;32m     28\u001b[0m     name: Union[\u001b[39mstr\u001b[39m, Path],\n\u001b[1;32m     29\u001b[0m     \u001b[39m*\u001b[39m,\n\u001b[0;32m   (...)\u001b[0m\n\u001b[1;32m     34\u001b[0m     config: Union[Dict[\u001b[39mstr\u001b[39m, Any], Config] \u001b[39m=\u001b[39m util\u001b[39m.\u001b[39mSimpleFrozenDict(),\n\u001b[1;32m     35\u001b[0m ) \u001b[39m-\u001b[39m\u001b[39m>\u001b[39m Language:\n\u001b[1;32m     36\u001b[0m \u001b[39m    \u001b[39m\u001b[39m\"\"\"Load a spaCy model from an installed package or a local path.\u001b[39;00m\n\u001b[1;32m     37\u001b[0m \n\u001b[1;32m     38\u001b[0m \u001b[39m    name (str): Package name or model path.\u001b[39;00m\n\u001b[0;32m   (...)\u001b[0m\n\u001b[1;32m     49\u001b[0m \u001b[39m    RETURNS (Language): The loaded nlp object.\u001b[39;00m\n\u001b[1;32m     50\u001b[0m \u001b[39m    \"\"\"\u001b[39;00m\n\u001b[0;32m---> 51\u001b[0m     \u001b[39mreturn\u001b[39;00m util\u001b[39m.\u001b[39;49mload_model(\n\u001b[1;32m     52\u001b[0m         name,\n\u001b[1;32m     53\u001b[0m         vocab\u001b[39m=\u001b[39;49mvocab,\n\u001b[1;32m     54\u001b[0m         disable\u001b[39m=\u001b[39;49mdisable,\n\u001b[1;32m     55\u001b[0m         enable\u001b[39m=\u001b[39;49menable,\n\u001b[1;32m     56\u001b[0m         exclude\u001b[39m=\u001b[39;49mexclude,\n\u001b[1;32m     57\u001b[0m         config\u001b[39m=\u001b[39;49mconfig,\n\u001b[1;32m     58\u001b[0m     )\n",
      "File \u001b[0;32m~/.local/lib/python3.10/site-packages/spacy/util.py:472\u001b[0m, in \u001b[0;36mload_model\u001b[0;34m(name, vocab, disable, enable, exclude, config)\u001b[0m\n\u001b[1;32m    470\u001b[0m \u001b[39mif\u001b[39;00m name \u001b[39min\u001b[39;00m OLD_MODEL_SHORTCUTS:\n\u001b[1;32m    471\u001b[0m     \u001b[39mraise\u001b[39;00m \u001b[39mIOError\u001b[39;00m(Errors\u001b[39m.\u001b[39mE941\u001b[39m.\u001b[39mformat(name\u001b[39m=\u001b[39mname, full\u001b[39m=\u001b[39mOLD_MODEL_SHORTCUTS[name]))  \u001b[39m# type: ignore[index]\u001b[39;00m\n\u001b[0;32m--> 472\u001b[0m \u001b[39mraise\u001b[39;00m \u001b[39mIOError\u001b[39;00m(Errors\u001b[39m.\u001b[39mE050\u001b[39m.\u001b[39mformat(name\u001b[39m=\u001b[39mname))\n",
      "\u001b[0;31mOSError\u001b[0m: [E050] Can't find model 'es_core_news_lg'. It doesn't seem to be a Python package or a valid path to a data directory."
     ]
    }
   ],
   "source": [
    "# Importamos el núcleo de trabajo para hacer la tokenización\n",
    "import spacy\n",
    "nlp_es = spacy.load('es_core_news_lg')\n",
    "\n",
    "# Gráfica de los tokens más utilizados para Spam\n",
    "Palabras_Spam = {}\n",
    "\n",
    "for clase, mensaje in zip(df2['clase'], df2['mensaje']):\n",
    "    if clase == 'Spam':\n",
    "        for token in nlp_es(mensaje):\n",
    "            if(Palabras_Spam.get(token.text) == None):\n",
    "                Palabras_Spam.setdefault(token.text, 1)\n",
    "            else:\n",
    "                Palabras_Spam[token.text] += 1\n",
    "\n",
    "Palabras_Spam2 = {}\n",
    "for clave, valor in zip(Palabras_Spam.keys(), Palabras_Spam.values()):\n",
    "    if(valor >= 5):\n",
    "        Palabras_Spam2.setdefault(clave, valor)\n",
    "\n",
    "plt.figure(figsize=(10,6))\n",
    "plt.bar(Palabras_Spam2.keys(), Palabras_Spam2.values())\n",
    "plt.title('Palabras más importantes para Spam')\n",
    "plt.xticks(rotation=80)\n",
    "plt.show()"
   ]
  },
  {
   "cell_type": "code",
   "execution_count": null,
   "metadata": {
    "id": "1PFw9RbIanBl"
   },
   "outputs": [
    {
     "data": {
      "image/png": "[encoded data removed]",
      "text/plain": [
       "<Figure size 1000x600 with 1 Axes>"
      ]
     },
     "metadata": {},
     "output_type": "display_data"
    }
   ],
   "source": [
    "# Gráfica de los tokens más utilizados para No Spam\n",
    "Palabras_NoSpam = {}\n",
    "\n",
    "for clase, mensaje in zip(df2['clase'], df2['mensaje']):\n",
    "    if clase == 'NoSpam':\n",
    "        for token in nlp_es(mensaje):\n",
    "            if(Palabras_NoSpam.get(token.text) == None):\n",
    "                Palabras_NoSpam.setdefault(token.text, 1)\n",
    "            else:\n",
    "                Palabras_NoSpam[token.text] += 1\n",
    "\n",
    "Palabras_NoSpam2 = {}\n",
    "for clave, valor in zip(Palabras_NoSpam.keys(), Palabras_NoSpam.values()):\n",
    "    if(valor >= 2):\n",
    "        Palabras_NoSpam2.setdefault(clave, valor)\n",
    "\n",
    "plt.figure(figsize=(10,6))\n",
    "plt.bar(Palabras_NoSpam2.keys(), Palabras_NoSpam2.values())\n",
    "plt.title('Palabras más importantes para NoSpam')\n",
    "plt.xticks(rotation=80)\n",
    "plt.show()"
   ]
  },
  {
   "cell_type": "markdown",
   "metadata": {
    "id": "A7wK3-yEQrj7"
   },
   "source": [
    "## Paso05 - Construcción del modelo de NLP"
   ]
  },
  {
   "cell_type": "code",
   "execution_count": null,
   "metadata": {
    "id": "unryiPTmO9QD"
   },
   "outputs": [],
   "source": [
    "# Separar la información (Dataset) en conjuntos de entrenamiento y validación\n",
    "\n",
    "# Importar la librería de Sklearn\n",
    "from sklearn.model_selection import train_test_split\n",
    "\n",
    "# Definimos nuestra información (Nombre de la clase (Y) y valor (X))\n",
    "X = df2['mensaje'] # Entrada (Información que tenemos)\n",
    "Y = df2['clase'] # Salidas (Respuestas deseadas para cada texto de entrada)\n",
    "\n",
    "# Segmentamos la información en conjuntos de entrenamiento y de validación (80 / 20)\n",
    "X_train, X_test, Y_train, Y_test = train_test_split(X, Y, test_size = 0.2)"
   ]
  },
  {
   "cell_type": "code",
   "execution_count": null,
   "metadata": {
    "id": "wMEa9UraTSka",
    "scrolled": true
   },
   "outputs": [],
   "source": [
    "# Se importa la librería para extraccion de características y vectorización\n",
    "# de los ejemplos usando la función CountVectorizer()\n",
    "# (Permite conocer información de los daros de entrenamiento)\n",
    "from sklearn.feature_extraction.text import CountVectorizer\n",
    "count_vect = CountVectorizer()\n",
    "\n",
    "#  Con esta línea se construye un diccionario (Vocabulario de palabras) y se\n",
    "# cuenta el número de palabras que hay para cada elemento del diccionario\n",
    "X_train_counts = count_vect.fit_transform(X_train)\n",
    "\n",
    "# (Shape) El primer número representa los mensajes, y el segundo el vocabulario usado\n",
    "X_train_counts.shape"
   ]
  },
  {
   "cell_type": "code",
   "execution_count": null,
   "metadata": {
    "id": "axp9LE877oim"
   },
   "outputs": [],
   "source": [
    "# Se crea un Pipeline para asignar la secuencia de procesos\n",
    "from sklearn.pipeline import Pipeline\n",
    "from sklearn.feature_extraction.text import TfidfVectorizer\n",
    "from sklearn.svm import LinearSVC\n",
    "\n",
    "# En el Pipeline se mete en un arreglo la secuencia de pasos que se desea\n",
    "# seguir, o elementos que se desea enviar, en este caso 1) Vector de Tf-idf\n",
    "# 2) El modelo LinearSVC\n",
    "# En esta línea se hace la vectorización y se ejecuta el clasificador en un solo paso\n",
    "clasificador_Texto = Pipeline([('tfidf', TfidfVectorizer()),('clf', LinearSVC())])"
   ]
  },
  {
   "cell_type": "code",
   "execution_count": null,
   "metadata": {
    "id": "fI2JbgOa7ofy"
   },
   "outputs": [],
   "source": [
    "# Visualizamos los parámetros de nuestro modelo (De referencia)\n",
    "print(clasificador_Texto.get_params().keys())\n",
    "\n",
    "# Podemos cambiar algunos de los parámetros como por ejempplo, uso de minúsculas\n",
    "# filtrado de stopwords y máximo de características a usar\n",
    "clasificador_Texto.set_params(tfidf__lowercase=True, tfidf__stop_words=['de', 'para'], tfidf__max_features=None)"
   ]
  },
  {
   "cell_type": "code",
   "execution_count": null,
   "metadata": {
    "id": "vjswMTZX7ob5"
   },
   "outputs": [],
   "source": [
    "clasificador_Texto.fit(X_train, Y_train) # Entrasas VS Salidas\n",
    "Predicciones = clasificador_Texto.predict(X_test) # Usar conjunto de pruebas\n",
    "print(X_test)\n",
    "print(Predicciones)"
   ]
  },
  {
   "cell_type": "code",
   "execution_count": null,
   "metadata": {
    "id": "Xian3OLy7oad"
   },
   "outputs": [],
   "source": [
    "clasificador_Texto.predict([\"Gracias por cofirmar tu asistencia\",\n",
    "                            \"Hola usuario, tenemos una oferta para tí\",\n",
    "                            \"Solo por hoy, el precio ha bajado\",\n",
    "                            \"Esperamos que te encuentras bien, ya hemos hecho la activación de tu cuenta\",\n",
    "                            \"Porqué no revisas estos ofertones??\",\n",
    "                            \"Mantequilla\"])"
   ]
  },
  {
   "cell_type": "markdown",
   "metadata": {
    "id": "YHQgl3tb-rIi"
   },
   "source": [
    "## Matriz de confusión"
   ]
  },
  {
   "cell_type": "code",
   "execution_count": null,
   "metadata": {
    "id": "Nq4Q6FFdZjON"
   },
   "outputs": [],
   "source": [
    "# Matriz de confusión y Métricas de evaluación del modelo\n",
    "from sklearn.metrics import confusion_matrix, classification_report\n",
    "from sklearn import metrics\n",
    "\n",
    "# Impresión de matriz de confusión\n",
    "print(\"Matriz de confusión:\")\n",
    "print(confusion_matrix(Y_test, Predicciones))\n",
    "\n",
    "# Impresión de procentaje de Accuracy del modelo\n",
    "print(\"\\nAccuracy del modelo: \")\n",
    "print(metrics.accuracy_score(Y_test, Predicciones))\n",
    "\n",
    "# Impresión de las métricas para el modelo\n",
    "print(\"\\nMétricas de evaluación:\")\n",
    "print(classification_report(Y_test, Predicciones))"
   ]
  },
  {
   "cell_type": "code",
   "execution_count": null,
   "metadata": {
    "id": "qwQKn1pnXp3-"
   },
   "outputs": [],
   "source": []
  }
 ],
 "metadata": {
  "colab": {
   "provenance": []
  },
  "kernelspec": {
   "display_name": "Python 3 (ipykernel)",
   "language": "python",
   "name": "python3"
  },
  "language_info": {
   "codemirror_mode": {
    "name": "ipython",
    "version": 3
   },
   "file_extension": ".py",
   "mimetype": "text/x-python",
   "name": "python",
   "nbconvert_exporter": "python",
   "pygments_lexer": "ipython3",
   "version": "3.10.12"
  }
 },
 "nbformat": 4,
 "nbformat_minor": 1
}
