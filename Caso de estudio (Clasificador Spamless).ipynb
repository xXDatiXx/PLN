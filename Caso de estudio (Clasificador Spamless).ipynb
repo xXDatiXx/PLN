{
 "cells": [
  {
   "cell_type": "markdown",
   "metadata": {
    "id": "ZGTi3ZIdH9GW"
   },
   "source": [
    "## Paso 01 - Lectura del conjunto de información"
   ]
  },
  {
   "cell_type": "code",
   "execution_count": 1,
   "metadata": {
    "id": "WxzlCeaWFMca"
   },
   "outputs": [],
   "source": [
    "# Importar las librerías de que nos ayudarán a obtener la información, organizarla y procesarla\n",
    "import pandas as pd"
   ]
  },
  {
   "cell_type": "code",
   "execution_count": 2,
   "metadata": {
    "id": "K4BDdkcYT2X8"
   },
   "outputs": [
    {
     "data": {
      "text/html": [
       "<div>\n",
       "<style scoped>\n",
       "    .dataframe tbody tr th:only-of-type {\n",
       "        vertical-align: middle;\n",
       "    }\n",
       "\n",
       "    .dataframe tbody tr th {\n",
       "        vertical-align: top;\n",
       "    }\n",
       "\n",
       "    .dataframe thead th {\n",
       "        text-align: right;\n",
       "    }\n",
       "</style>\n",
       "<table border=\"1\" class=\"dataframe\">\n",
       "  <thead>\n",
       "    <tr style=\"text-align: right;\">\n",
       "      <th></th>\n",
       "      <th>clase</th>\n",
       "      <th>mensaje</th>\n",
       "    </tr>\n",
       "  </thead>\n",
       "  <tbody>\n",
       "    <tr>\n",
       "      <th>0</th>\n",
       "      <td>NoSpam</td>\n",
       "      <td>Acuerdo para la reunión de planeación</td>\n",
       "    </tr>\n",
       "    <tr>\n",
       "      <th>1</th>\n",
       "      <td>NoSpam</td>\n",
       "      <td>[IMPORTANTE] Cambio de hora en la cita de mañana</td>\n",
       "    </tr>\n",
       "    <tr>\n",
       "      <th>2</th>\n",
       "      <td>NoSpam</td>\n",
       "      <td>Envio de información solicitada</td>\n",
       "    </tr>\n",
       "    <tr>\n",
       "      <th>3</th>\n",
       "      <td>NoSpam</td>\n",
       "      <td>Problema de autenticación resuelto</td>\n",
       "    </tr>\n",
       "    <tr>\n",
       "      <th>4</th>\n",
       "      <td>NoSpam</td>\n",
       "      <td>Activación correcta de tu cuenta</td>\n",
       "    </tr>\n",
       "    <tr>\n",
       "      <th>5</th>\n",
       "      <td>NoSpam</td>\n",
       "      <td>Fotos para enviar</td>\n",
       "    </tr>\n",
       "    <tr>\n",
       "      <th>6</th>\n",
       "      <td>NoSpam</td>\n",
       "      <td>Recibo del curso para escanear</td>\n",
       "    </tr>\n",
       "    <tr>\n",
       "      <th>7</th>\n",
       "      <td>NoSpam</td>\n",
       "      <td>Datos de las cuentas de acceso</td>\n",
       "    </tr>\n",
       "    <tr>\n",
       "      <th>8</th>\n",
       "      <td>NoSpam</td>\n",
       "      <td>Confirmación de proceso de Autovinculación</td>\n",
       "    </tr>\n",
       "    <tr>\n",
       "      <th>9</th>\n",
       "      <td>NoSpam</td>\n",
       "      <td>Confirmación de Activación de Cuenta en App Móvil</td>\n",
       "    </tr>\n",
       "    <tr>\n",
       "      <th>10</th>\n",
       "      <td>NoSpam</td>\n",
       "      <td>Por si les interesa: Vacante para Becario proy...</td>\n",
       "    </tr>\n",
       "    <tr>\n",
       "      <th>11</th>\n",
       "      <td>NoSpam</td>\n",
       "      <td>Información sobre seguro de gastos médicos may...</td>\n",
       "    </tr>\n",
       "    <tr>\n",
       "      <th>12</th>\n",
       "      <td>NoSpam</td>\n",
       "      <td>Se ha modificado la información de tu cuenta</td>\n",
       "    </tr>\n",
       "    <tr>\n",
       "      <th>13</th>\n",
       "      <td>NoSpam</td>\n",
       "      <td>Solicitud para cambio de contraseña</td>\n",
       "    </tr>\n",
       "    <tr>\n",
       "      <th>14</th>\n",
       "      <td>NoSpam</td>\n",
       "      <td>NaN</td>\n",
       "    </tr>\n",
       "    <tr>\n",
       "      <th>15</th>\n",
       "      <td>NoSpam</td>\n",
       "      <td>Confirmación de compra digital de Nintendo</td>\n",
       "    </tr>\n",
       "    <tr>\n",
       "      <th>16</th>\n",
       "      <td>NoSpam</td>\n",
       "      <td>Confirmación de fondos añadidos a tu cuenta</td>\n",
       "    </tr>\n",
       "    <tr>\n",
       "      <th>17</th>\n",
       "      <td>NoSpam</td>\n",
       "      <td>Aportación Voluntaria Depositada con Éxito</td>\n",
       "    </tr>\n",
       "    <tr>\n",
       "      <th>18</th>\n",
       "      <td>NoSpam</td>\n",
       "      <td>Este es su link de confirmación de correo</td>\n",
       "    </tr>\n",
       "    <tr>\n",
       "      <th>19</th>\n",
       "      <td>NoSpam</td>\n",
       "      <td>Confirmación de Orden de compra</td>\n",
       "    </tr>\n",
       "  </tbody>\n",
       "</table>\n",
       "</div>"
      ],
      "text/plain": [
       "     clase                                            mensaje\n",
       "0   NoSpam              Acuerdo para la reunión de planeación\n",
       "1   NoSpam   [IMPORTANTE] Cambio de hora en la cita de mañana\n",
       "2   NoSpam                    Envio de información solicitada\n",
       "3   NoSpam                 Problema de autenticación resuelto\n",
       "4   NoSpam                   Activación correcta de tu cuenta\n",
       "5   NoSpam                                  Fotos para enviar\n",
       "6   NoSpam                     Recibo del curso para escanear\n",
       "7   NoSpam                     Datos de las cuentas de acceso\n",
       "8   NoSpam         Confirmación de proceso de Autovinculación\n",
       "9   NoSpam  Confirmación de Activación de Cuenta en App Móvil\n",
       "10  NoSpam  Por si les interesa: Vacante para Becario proy...\n",
       "11  NoSpam  Información sobre seguro de gastos médicos may...\n",
       "12  NoSpam       Se ha modificado la información de tu cuenta\n",
       "13  NoSpam                Solicitud para cambio de contraseña\n",
       "14  NoSpam                                                NaN\n",
       "15  NoSpam         Confirmación de compra digital de Nintendo\n",
       "16  NoSpam        Confirmación de fondos añadidos a tu cuenta\n",
       "17  NoSpam         Aportación Voluntaria Depositada con Éxito\n",
       "18  NoSpam          Este es su link de confirmación de correo\n",
       "19  NoSpam                    Confirmación de Orden de compra"
      ]
     },
     "execution_count": 2,
     "metadata": {},
     "output_type": "execute_result"
    }
   ],
   "source": [
    "# Lectura del archivo que contiene el corpus con la información clasificada\n",
    "# y preprocesada (Ham VS Spam)\n",
    "df2 = pd.read_csv('DataSet_N Spamless.csv')\n",
    "df2.head(20)\n",
    "\n",
    "# Referencia para la lectura de archivos en: https://codeday.me/es/qa/20190412/477724.html"
   ]
  },
  {
   "cell_type": "markdown",
   "metadata": {
    "id": "39-gKrypIV_K"
   },
   "source": [
    "## Paso 02 - Verificación y validación de la información"
   ]
  },
  {
   "cell_type": "code",
   "execution_count": 3,
   "metadata": {
    "id": "VDTEjN9zUr4Y"
   },
   "outputs": [
    {
     "name": "stdout",
     "output_type": "stream",
     "text": [
      "Tamaño del data frame: 91\n",
      "Cantidad de filas vacías:\n",
      "clase      0\n",
      "mensaje    3\n",
      "dtype: int64\n",
      "\n",
      "Tamaño del data frame sin vacíos: 88\n"
     ]
    }
   ],
   "source": [
    "# Para detectar si tenemos filas vacías\n",
    "print(\"Tamaño del data frame: \" + str(len(df2)))\n",
    "print(\"Cantidad de filas vacías:\")\n",
    "print(df2.isnull().sum())\n",
    "\n",
    "# Eliminamos las filas vacías y vemos el tamaño del nuevo df\n",
    "df2 = df2.dropna()\n",
    "df2 = df2[df2['mensaje'] != \"\"]\n",
    "print(\"\\nTamaño del data frame sin vacíos: \" + str(len(df2)))"
   ]
  },
  {
   "cell_type": "code",
   "execution_count": 4,
   "metadata": {
    "id": "SBfWygp_VO78"
   },
   "outputs": [
    {
     "name": "stdout",
     "output_type": "stream",
     "text": [
      "Clases que tenemos en el DataSet:\n"
     ]
    },
    {
     "name": "stdout",
     "output_type": "stream",
     "text": [
      "['NoSpam' 'Spam']\n",
      "\n",
      "Cantidad de ejemplos que tenemos por clase:\n",
      "clase\n",
      "Spam      60\n",
      "NoSpam    28\n",
      "Name: count, dtype: int64\n"
     ]
    }
   ],
   "source": [
    "# Verificar cuales son las clasificaciones que tenemos en nuestro DataSet\n",
    "print(\"Clases que tenemos en el DataSet:\")\n",
    "print(df2['clase'].unique())\n",
    "\n",
    "# Revisamos la cantidad de ejemplos que tenemos por cada clase\n",
    "print(\"\\nCantidad de ejemplos que tenemos por clase:\")\n",
    "print(df2['clase'].value_counts())"
   ]
  },
  {
   "cell_type": "code",
   "execution_count": 5,
   "metadata": {
    "id": "Z01qApnCiF4l"
   },
   "outputs": [
    {
     "data": {
      "image/png": "[encoded data removed]",
      "text/plain": [
       "<Figure size 640x480 with 1 Axes>"
      ]
     },
     "metadata": {},
     "output_type": "display_data"
    }
   ],
   "source": [
    "# Ploteamos la cantidad de ejemplos que tenemos de cada clase\n",
    "# para ver si esta se encuentra balanceada o no\n",
    "import matplotlib.pyplot as plt\n",
    "\n",
    "Totales = df2['clase'].value_counts()\n",
    "plt.bar(['Spam', 'NoSpam'], Totales)\n",
    "plt.xticks(rotation = 45)\n",
    "plt.title('Cantidad de ejemplos de cada clase')\n",
    "plt.show()"
   ]
  },
  {
   "cell_type": "markdown",
   "metadata": {},
   "source": [
    "Paso 03- Stopwords"
   ]
  },
  {
   "cell_type": "code",
   "execution_count": 6,
   "metadata": {},
   "outputs": [],
   "source": [
    "#Quitar las stopwords\n",
    "from nltk.corpus import stopwords\n",
    "stopwords_sp = stopwords.words('spanish')\n",
    "\n",
    "# Función para quitar las stopwords\n",
    "def remove_stopwords(texto):\n",
    "    texto_filtrado = []\n",
    "    for palabra in texto.split():\n",
    "        if palabra.lower() not in stopwords_sp:\n",
    "            texto_filtrado.append(palabra)\n",
    "    return \" \".join(texto_filtrado)\n",
    "\n",
    "# Aplicamos la función para quitar las stopwords\n",
    "df2['mensaje'] = df2['mensaje'].apply(remove_stopwords)\n"
   ]
  },
  {
   "cell_type": "markdown",
   "metadata": {
    "id": "5y-Ad-FUQdGW"
   },
   "source": [
    "## Paso 04 - Buscar relaciones en la información"
   ]
  },
  {
   "cell_type": "code",
   "execution_count": 7,
   "metadata": {
    "id": "rb6tE8gliwua"
   },
   "outputs": [
    {
     "data": {
      "image/png": "[encoded data removed]",
      "text/plain": [
       "<Figure size 640x480 with 1 Axes>"
      ]
     },
     "metadata": {},
     "output_type": "display_data"
    }
   ],
   "source": [
    "# Para analizar la información, ploteamos un histograma\n",
    "# que nos indica la frecuencia de caracteres tanto en\n",
    "# Ham como en Spam para revisar su comportamiento\n",
    "\n",
    "Spams = []\n",
    "NoSpams = []\n",
    "for clase, mensaje in zip(df2['clase'], df2['mensaje']):\n",
    "    if clase == 'Spam':\n",
    "        Spams.append(len(mensaje))\n",
    "    else:\n",
    "        NoSpams.append(len(mensaje))\n",
    "\n",
    "\n",
    "plt.hist(Spams, bins=15)\n",
    "plt.hist(NoSpams, bins=15)\n",
    "plt.legend(['Spam', 'No Spam'])\n",
    "plt.xlabel('Cantidad de Caracteres en los ejemplos')\n",
    "plt.ylabel('Total de ejemplos')\n",
    "plt.show()"
   ]
  },
  {
   "cell_type": "code",
   "execution_count": 8,
   "metadata": {
    "id": "qM7mv7_7anFe"
   },
   "outputs": [
    {
     "data": {
      "image/png": "[encoded data removed]",
      "text/plain": [
       "<Figure size 1000x600 with 1 Axes>"
      ]
     },
     "metadata": {},
     "output_type": "display_data"
    }
   ],
   "source": [
    "# Importamos el núcleo de trabajo para hacer la tokenización\n",
    "import spacy\n",
    "nlp_es = spacy.load('es_core_news_lg')\n",
    "\n",
    "# Gráfica de los tokens más utilizados para Spam\n",
    "Palabras_Spam = {}\n",
    "\n",
    "for clase, mensaje in zip(df2['clase'], df2['mensaje']):\n",
    "    if clase == 'Spam':\n",
    "        for token in nlp_es(mensaje):\n",
    "            if(Palabras_Spam.get(token.text) == None):\n",
    "                Palabras_Spam.setdefault(token.text, 1)\n",
    "            else:\n",
    "                Palabras_Spam[token.text] += 1\n",
    "\n",
    "Palabras_Spam2 = {}\n",
    "for clave, valor in zip(Palabras_Spam.keys(), Palabras_Spam.values()):\n",
    "    if(valor >= 5):\n",
    "        Palabras_Spam2.setdefault(clave, valor)\n",
    "\n",
    "plt.figure(figsize=(10,6))\n",
    "plt.bar(Palabras_Spam2.keys(), Palabras_Spam2.values())\n",
    "plt.title('Palabras más importantes para Spam')\n",
    "plt.xticks(rotation=80)\n",
    "plt.show()"
   ]
  },
  {
   "cell_type": "code",
   "execution_count": 9,
   "metadata": {
    "id": "1PFw9RbIanBl"
   },
   "outputs": [
    {
     "data": {
      "image/png": "[encoded data removed]",
      "text/plain": [
       "<Figure size 1000x600 with 1 Axes>"
      ]
     },
     "metadata": {},
     "output_type": "display_data"
    }
   ],
   "source": [
    "# Gráfica de los tokens más utilizados para No Spam\n",
    "Palabras_NoSpam = {}\n",
    "\n",
    "for clase, mensaje in zip(df2['clase'], df2['mensaje']):\n",
    "    if clase == 'NoSpam':\n",
    "        for token in nlp_es(mensaje):\n",
    "            if(Palabras_NoSpam.get(token.text) == None):\n",
    "                Palabras_NoSpam.setdefault(token.text, 1)\n",
    "            else:\n",
    "                Palabras_NoSpam[token.text] += 1\n",
    "\n",
    "Palabras_NoSpam2 = {}\n",
    "for clave, valor in zip(Palabras_NoSpam.keys(), Palabras_NoSpam.values()):\n",
    "    if(valor >= 2):\n",
    "        Palabras_NoSpam2.setdefault(clave, valor)\n",
    "\n",
    "plt.figure(figsize=(10,6))\n",
    "plt.bar(Palabras_NoSpam2.keys(), Palabras_NoSpam2.values())\n",
    "plt.title('Palabras más importantes para NoSpam')\n",
    "plt.xticks(rotation=80)\n",
    "plt.show()"
   ]
  },
  {
   "cell_type": "markdown",
   "metadata": {
    "id": "A7wK3-yEQrj7"
   },
   "source": [
    "## Paso05 - Construcción del modelo de NLP"
   ]
  },
  {
   "cell_type": "code",
   "execution_count": 10,
   "metadata": {
    "id": "unryiPTmO9QD"
   },
   "outputs": [],
   "source": [
    "# Separar la información (Dataset) en conjuntos de entrenamiento y validación\n",
    "\n",
    "# Importar la librería de Sklearn\n",
    "from sklearn.model_selection import train_test_split\n",
    "\n",
    "# Definimos nuestra información (Nombre de la clase (Y) y valor (X))\n",
    "X = df2['mensaje'] # Entrada (Información que tenemos)\n",
    "Y = df2['clase'] # Salidas (Respuestas deseadas para cada texto de entrada)\n",
    "\n",
    "# Segmentamos la información en conjuntos de entrenamiento y de validación (80 / 20)\n",
    "X_train, X_test, Y_train, Y_test = train_test_split(X, Y, test_size = 0.2)"
   ]
  },
  {
   "cell_type": "code",
   "execution_count": 11,
   "metadata": {
    "id": "wMEa9UraTSka",
    "scrolled": true
   },
   "outputs": [
    {
     "data": {
      "text/plain": [
       "(70, 271)"
      ]
     },
     "execution_count": 11,
     "metadata": {},
     "output_type": "execute_result"
    }
   ],
   "source": [
    "# Se importa la librería para extraccion de características y vectorización\n",
    "# de los ejemplos usando la función CountVectorizer()\n",
    "# (Permite conocer información de los daros de entrenamiento)\n",
    "from sklearn.feature_extraction.text import CountVectorizer\n",
    "count_vect = CountVectorizer()\n",
    "\n",
    "#  Con esta línea se construye un diccionario (Vocabulario de palabras) y se\n",
    "# cuenta el número de palabras que hay para cada elemento del diccionario\n",
    "X_train_counts = count_vect.fit_transform(X_train)\n",
    "\n",
    "# (Shape) El primer número representa los mensajes, y el segundo el vocabulario usado\n",
    "X_train_counts.shape"
   ]
  },
  {
   "cell_type": "code",
   "execution_count": 12,
   "metadata": {
    "id": "axp9LE877oim"
   },
   "outputs": [],
   "source": [
    "# Se crea un Pipeline para asignar la secuencia de procesos\n",
    "from sklearn.pipeline import Pipeline\n",
    "from sklearn.feature_extraction.text import TfidfVectorizer\n",
    "from sklearn.svm import LinearSVC\n",
    "\n",
    "# En el Pipeline se mete en un arreglo la secuencia de pasos que se desea\n",
    "# seguir, o elementos que se desea enviar, en este caso 1) Vector de Tf-idf\n",
    "# 2) El modelo LinearSVC\n",
    "# En esta línea se hace la vectorización y se ejecuta el clasificador en un solo paso\n",
    "clasificador_Texto = Pipeline([('tfidf', TfidfVectorizer()),('clf', LinearSVC())])"
   ]
  },
  {
   "cell_type": "code",
   "execution_count": 13,
   "metadata": {
    "id": "fI2JbgOa7ofy"
   },
   "outputs": [
    {
     "name": "stdout",
     "output_type": "stream",
     "text": [
      "dict_keys(['memory', 'steps', 'verbose', 'tfidf', 'clf', 'tfidf__analyzer', 'tfidf__binary', 'tfidf__decode_error', 'tfidf__dtype', 'tfidf__encoding', 'tfidf__input', 'tfidf__lowercase', 'tfidf__max_df', 'tfidf__max_features', 'tfidf__min_df', 'tfidf__ngram_range', 'tfidf__norm', 'tfidf__preprocessor', 'tfidf__smooth_idf', 'tfidf__stop_words', 'tfidf__strip_accents', 'tfidf__sublinear_tf', 'tfidf__token_pattern', 'tfidf__tokenizer', 'tfidf__use_idf', 'tfidf__vocabulary', 'clf__C', 'clf__class_weight', 'clf__dual', 'clf__fit_intercept', 'clf__intercept_scaling', 'clf__loss', 'clf__max_iter', 'clf__multi_class', 'clf__penalty', 'clf__random_state', 'clf__tol', 'clf__verbose'])\n"
     ]
    },
    {
     "data": {
      "text/html": [
       "<style>#sk-container-id-1 {color: black;}#sk-container-id-1 pre{padding: 0;}#sk-container-id-1 div.sk-toggleable {background-color: white;}#sk-container-id-1 label.sk-toggleable__label {cursor: pointer;display: block;width: 100%;margin-bottom: 0;padding: 0.3em;box-sizing: border-box;text-align: center;}#sk-container-id-1 label.sk-toggleable__label-arrow:before {content: \"▸\";float: left;margin-right: 0.25em;color: #696969;}#sk-container-id-1 label.sk-toggleable__label-arrow:hover:before {color: black;}#sk-container-id-1 div.sk-estimator:hover label.sk-toggleable__label-arrow:before {color: black;}#sk-container-id-1 div.sk-toggleable__content {max-height: 0;max-width: 0;overflow: hidden;text-align: left;background-color: #f0f8ff;}#sk-container-id-1 div.sk-toggleable__content pre {margin: 0.2em;color: black;border-radius: 0.25em;background-color: #f0f8ff;}#sk-container-id-1 input.sk-toggleable__control:checked~div.sk-toggleable__content {max-height: 200px;max-width: 100%;overflow: auto;}#sk-container-id-1 input.sk-toggleable__control:checked~label.sk-toggleable__label-arrow:before {content: \"▾\";}#sk-container-id-1 div.sk-estimator input.sk-toggleable__control:checked~label.sk-toggleable__label {background-color: #d4ebff;}#sk-container-id-1 div.sk-label input.sk-toggleable__control:checked~label.sk-toggleable__label {background-color: #d4ebff;}#sk-container-id-1 input.sk-hidden--visually {border: 0;clip: rect(1px 1px 1px 1px);clip: rect(1px, 1px, 1px, 1px);height: 1px;margin: -1px;overflow: hidden;padding: 0;position: absolute;width: 1px;}#sk-container-id-1 div.sk-estimator {font-family: monospace;background-color: #f0f8ff;border: 1px dotted black;border-radius: 0.25em;box-sizing: border-box;margin-bottom: 0.5em;}#sk-container-id-1 div.sk-estimator:hover {background-color: #d4ebff;}#sk-container-id-1 div.sk-parallel-item::after {content: \"\";width: 100%;border-bottom: 1px solid gray;flex-grow: 1;}#sk-container-id-1 div.sk-label:hover label.sk-toggleable__label {background-color: #d4ebff;}#sk-container-id-1 div.sk-serial::before {content: \"\";position: absolute;border-left: 1px solid gray;box-sizing: border-box;top: 0;bottom: 0;left: 50%;z-index: 0;}#sk-container-id-1 div.sk-serial {display: flex;flex-direction: column;align-items: center;background-color: white;padding-right: 0.2em;padding-left: 0.2em;position: relative;}#sk-container-id-1 div.sk-item {position: relative;z-index: 1;}#sk-container-id-1 div.sk-parallel {display: flex;align-items: stretch;justify-content: center;background-color: white;position: relative;}#sk-container-id-1 div.sk-item::before, #sk-container-id-1 div.sk-parallel-item::before {content: \"\";position: absolute;border-left: 1px solid gray;box-sizing: border-box;top: 0;bottom: 0;left: 50%;z-index: -1;}#sk-container-id-1 div.sk-parallel-item {display: flex;flex-direction: column;z-index: 1;position: relative;background-color: white;}#sk-container-id-1 div.sk-parallel-item:first-child::after {align-self: flex-end;width: 50%;}#sk-container-id-1 div.sk-parallel-item:last-child::after {align-self: flex-start;width: 50%;}#sk-container-id-1 div.sk-parallel-item:only-child::after {width: 0;}#sk-container-id-1 div.sk-dashed-wrapped {border: 1px dashed gray;margin: 0 0.4em 0.5em 0.4em;box-sizing: border-box;padding-bottom: 0.4em;background-color: white;}#sk-container-id-1 div.sk-label label {font-family: monospace;font-weight: bold;display: inline-block;line-height: 1.2em;}#sk-container-id-1 div.sk-label-container {text-align: center;}#sk-container-id-1 div.sk-container {/* jupyter's `normalize.less` sets `[hidden] { display: none; }` but bootstrap.min.css set `[hidden] { display: none !important; }` so we also need the `!important` here to be able to override the default hidden behavior on the sphinx rendered scikit-learn.org. See: https://github.com/scikit-learn/scikit-learn/issues/21755 */display: inline-block !important;position: relative;}#sk-container-id-1 div.sk-text-repr-fallback {display: none;}</style><div id=\"sk-container-id-1\" class=\"sk-top-container\"><div class=\"sk-text-repr-fallback\"><pre>Pipeline(steps=[(&#x27;tfidf&#x27;, TfidfVectorizer(stop_words=[&#x27;de&#x27;, &#x27;para&#x27;])),\n",
       "                (&#x27;clf&#x27;, LinearSVC())])</pre><b>In a Jupyter environment, please rerun this cell to show the HTML representation or trust the notebook. <br />On GitHub, the HTML representation is unable to render, please try loading this page with nbviewer.org.</b></div><div class=\"sk-container\" hidden><div class=\"sk-item sk-dashed-wrapped\"><div class=\"sk-label-container\"><div class=\"sk-label sk-toggleable\"><input class=\"sk-toggleable__control sk-hidden--visually\" id=\"sk-estimator-id-1\" type=\"checkbox\" ><label for=\"sk-estimator-id-1\" class=\"sk-toggleable__label sk-toggleable__label-arrow\">Pipeline</label><div class=\"sk-toggleable__content\"><pre>Pipeline(steps=[(&#x27;tfidf&#x27;, TfidfVectorizer(stop_words=[&#x27;de&#x27;, &#x27;para&#x27;])),\n",
       "                (&#x27;clf&#x27;, LinearSVC())])</pre></div></div></div><div class=\"sk-serial\"><div class=\"sk-item\"><div class=\"sk-estimator sk-toggleable\"><input class=\"sk-toggleable__control sk-hidden--visually\" id=\"sk-estimator-id-2\" type=\"checkbox\" ><label for=\"sk-estimator-id-2\" class=\"sk-toggleable__label sk-toggleable__label-arrow\">TfidfVectorizer</label><div class=\"sk-toggleable__content\"><pre>TfidfVectorizer(stop_words=[&#x27;de&#x27;, &#x27;para&#x27;])</pre></div></div></div><div class=\"sk-item\"><div class=\"sk-estimator sk-toggleable\"><input class=\"sk-toggleable__control sk-hidden--visually\" id=\"sk-estimator-id-3\" type=\"checkbox\" ><label for=\"sk-estimator-id-3\" class=\"sk-toggleable__label sk-toggleable__label-arrow\">LinearSVC</label><div class=\"sk-toggleable__content\"><pre>LinearSVC()</pre></div></div></div></div></div></div></div>"
      ],
      "text/plain": [
       "Pipeline(steps=[('tfidf', TfidfVectorizer(stop_words=['de', 'para'])),\n",
       "                ('clf', LinearSVC())])"
      ]
     },
     "execution_count": 13,
     "metadata": {},
     "output_type": "execute_result"
    }
   ],
   "source": [
    "# Visualizamos los parámetros de nuestro modelo (De referencia)\n",
    "print(clasificador_Texto.get_params().keys())\n",
    "\n",
    "# Podemos cambiar algunos de los parámetros como por ejempplo, uso de minúsculas\n",
    "# filtrado de stopwords y máximo de características a usar\n",
    "clasificador_Texto.set_params(tfidf__lowercase=True, tfidf__stop_words=['de', 'para'], tfidf__max_features=None)"
   ]
  },
  {
   "cell_type": "code",
   "execution_count": 14,
   "metadata": {
    "id": "vjswMTZX7ob5"
   },
   "outputs": [
    {
     "name": "stdout",
     "output_type": "stream",
     "text": [
      "69    Announcing 50,000 Bertelsmann Technology Schol...\n",
      "50    Usuario: esperan hermosas playas impresionante...\n",
      "34          Usuario, agregamos película podría gustarte\n",
      "63                            ¡MOVO sigue consintiendo!\n",
      "78        Usuario, disfruta ventajas Genius Nivel 2 año\n",
      "27                      favor, finaliza registro evento\n",
      "76    [Participa] Promoción desarrolladores Skilss A...\n",
      "48                                 aguacate 15% 25% OFF\n",
      "58    Usuario, entabla conversación nuevo contacto, ...\n",
      "71    Usuario, mira entró lista LinkedIn Top Startup...\n",
      "12                        modificado información cuenta\n",
      "60      ¿Tienes agenda apretada? problema, adaptamos tí\n",
      "38    [Regístrate Webinar] Desarrolla primer juego t...\n",
      "62      Discover the better way to learn (+25% off Pro)\n",
      "8                  Confirmación proceso Autovinculación\n",
      "21                             Invitación participantes\n",
      "36                 DrossOficial acaba subir nuevo vídeo\n",
      "72          Agrega cuenta bancaria PayPal 25 septiembre\n",
      "Name: mensaje, dtype: object\n",
      "['Spam' 'Spam' 'Spam' 'Spam' 'Spam' 'NoSpam' 'Spam' 'Spam' 'Spam' 'Spam'\n",
      " 'NoSpam' 'Spam' 'Spam' 'Spam' 'NoSpam' 'Spam' 'Spam' 'Spam']\n"
     ]
    },
    {
     "name": "stderr",
     "output_type": "stream",
     "text": [
      "/home/dati/.local/lib/python3.10/site-packages/sklearn/svm/_classes.py:32: FutureWarning: The default value of `dual` will change from `True` to `'auto'` in 1.5. Set the value of `dual` explicitly to suppress the warning.\n",
      "  warnings.warn(\n"
     ]
    }
   ],
   "source": [
    "clasificador_Texto.fit(X_train, Y_train) # Entrasas VS Salidas\n",
    "Predicciones = clasificador_Texto.predict(X_test) # Usar conjunto de pruebas\n",
    "print(X_test)\n",
    "print(Predicciones)"
   ]
  },
  {
   "cell_type": "code",
   "execution_count": 15,
   "metadata": {
    "id": "Xian3OLy7oad"
   },
   "outputs": [
    {
     "data": {
      "text/plain": [
       "array(['NoSpam', 'Spam', 'Spam', 'NoSpam', 'Spam', 'Spam'], dtype=object)"
      ]
     },
     "execution_count": 15,
     "metadata": {},
     "output_type": "execute_result"
    }
   ],
   "source": [
    "clasificador_Texto.predict([\"Gracias por cofirmar tu asistencia\",\n",
    "                            \"Hola usuario, tenemos una oferta para tí\",\n",
    "                            \"Solo por hoy, el precio ha bajado\",\n",
    "                            \"Esperamos que te encuentras bien, ya hemos hecho la activación de tu cuenta\",\n",
    "                            \"Porqué no revisas estos ofertones??\",\n",
    "                            \"Mantequilla\"])"
   ]
  },
  {
   "cell_type": "markdown",
   "metadata": {
    "id": "YHQgl3tb-rIi"
   },
   "source": [
    "## Matriz de confusión"
   ]
  },
  {
   "cell_type": "code",
   "execution_count": 16,
   "metadata": {
    "id": "Nq4Q6FFdZjON"
   },
   "outputs": [
    {
     "name": "stdout",
     "output_type": "stream",
     "text": [
      "Matriz de confusión:\n",
      "[[ 3  1]\n",
      " [ 0 14]]\n",
      "\n",
      "Accuracy del modelo: \n",
      "0.9444444444444444\n",
      "\n",
      "Métricas de evaluación:\n",
      "              precision    recall  f1-score   support\n",
      "\n",
      "      NoSpam       1.00      0.75      0.86         4\n",
      "        Spam       0.93      1.00      0.97        14\n",
      "\n",
      "    accuracy                           0.94        18\n",
      "   macro avg       0.97      0.88      0.91        18\n",
      "weighted avg       0.95      0.94      0.94        18\n",
      "\n"
     ]
    }
   ],
   "source": [
    "# Matriz de confusión y Métricas de evaluación del modelo\n",
    "from sklearn.metrics import confusion_matrix, classification_report\n",
    "from sklearn import metrics\n",
    "\n",
    "# Impresión de matriz de confusión\n",
    "print(\"Matriz de confusión:\")\n",
    "print(confusion_matrix(Y_test, Predicciones))\n",
    "\n",
    "# Impresión de procentaje de Accuracy del modelo\n",
    "print(\"\\nAccuracy del modelo: \")\n",
    "print(metrics.accuracy_score(Y_test, Predicciones))\n",
    "\n",
    "# Impresión de las métricas para el modelo\n",
    "print(\"\\nMétricas de evaluación:\")\n",
    "print(classification_report(Y_test, Predicciones))"
   ]
  },
  {
   "cell_type": "code",
   "execution_count": null,
   "metadata": {
    "id": "qwQKn1pnXp3-"
   },
   "outputs": [],
   "source": []
  }
 ],
 "metadata": {
  "colab": {
   "provenance": []
  },
  "kernelspec": {
   "display_name": "Python 3 (ipykernel)",
   "language": "python",
   "name": "python3"
  },
  "language_info": {
   "codemirror_mode": {
    "name": "ipython",
    "version": 3
   },
   "file_extension": ".py",
   "mimetype": "text/x-python",
   "name": "python",
   "nbconvert_exporter": "python",
   "pygments_lexer": "ipython3",
   "version": "3.10.12"
  }
 },
 "nbformat": 4,
 "nbformat_minor": 1
}
