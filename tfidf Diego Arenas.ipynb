{
 "cells": [
  {
   "cell_type": "markdown",
   "metadata": {
    "id": "NAcwj-B-cML3"
   },
   "source": [
    "## Uso del criterio Tf-IDF"
   ]
  },
  {
   "cell_type": "code",
   "execution_count": 11,
   "metadata": {
    "id": "VwMQ_MffvjNB"
   },
   "outputs": [
    {
     "name": "stderr",
     "output_type": "stream",
     "text": [
      "[nltk_data] Downloading package stopwords to /home/dati/nltk_data...\n",
      "[nltk_data]   Package stopwords is already up-to-date!\n"
     ]
    },
    {
     "data": {
      "text/plain": [
       "True"
      ]
     },
     "execution_count": 11,
     "metadata": {},
     "output_type": "execute_result"
    }
   ],
   "source": [
    "# Importamos las librerías de pandas y Sklearn\n",
    "import pandas as pd\n",
    "from sklearn.feature_extraction.text import TfidfTransformer\n",
    "from sklearn.feature_extraction.text import CountVectorizer\n",
    "import nltk\n",
    "from nltk.corpus import stopwords\n",
    "nltk.download('stopwords')"
   ]
  },
  {
   "cell_type": "code",
   "execution_count": 12,
   "metadata": {
    "id": "pcNCXqfuvlJX"
   },
   "outputs": [],
   "source": [
    "# Descripciones de series de Netflix tomadas de Wikipedia\n",
    "# (Cada elemento del arreglo contiene descripciones concatenadas de\n",
    "# un solo género, siendo los siguientes:)\n",
    "\n",
    "# 1) Ciencia Ficción [Stranger Things | Black Mirror | The walking dead | Rick y Morty]\n",
    "# 2) Drama / Comedia [Friends | La teoría del Big Bang | Orange is the new black | Esposas desesperadas, The Office]\n",
    "# 3) Super Héroes [Daredevil | Jessica Jones | Los defensores | Agentes de S.H.I.E.L.D.]\n",
    "\n",
    "Stranger_Things = \"La historia arranca durante la década de los 80, en el pueblo ficticio de Hawkins, Indiana, cuando un niño llamado Will Byers desaparece, hecho que destapa los extraños sucesos que tienen lugar en la zona, producto de una serie de experimentos que realiza el gobierno en un laboratorio científico cercano.\"\n",
    "Black_Mirror = \"Black Mirror es una producción británica desarrollada por Charlie Brooker ('Dead set: Muerte en directo'), Una serie de episodios independientes entre sí y, con un reparto y tramas totalmente diferentes, cuyo único punto común es el poder de las nuevas tecnologías para mover el mundo.\"\n",
    "Walking_dead = \"The Walking Dead es una serie de televisión creada y producida por Robert Kirkman y Frank Darabont, basada en el cómic homónimo de Robert Kirkman. La serie se sitúa en un mundo postapocalíptico y está protagonizada por Rick Grimes (Andrew Lincoln), un oficial de policía que al despertar de un coma se encuentra con que la civilización ha desaparecido debido a un inexplicable fenómeno que hace que las personas muertas se pongan en pie y ataquen a las personas vivas, transformándolas a su vez en caminantes muertos (walking dead). Al encontrar a su familia, Rick se une a un grupo de supervivientes convirtiéndose en su líder. La historia narra las vivencias de dicho grupo, que debe enfrentarse tanto a los caminantes muertos, como a otros grupos de personas vivas que también luchan por subsistir e imponer su poder.\"\n",
    "Rick_and_Morty = \"Rick por diferentes razones termina mudándose a la casa de su hija Beth y en ese momento se encuentra con su nieto Morty; un joven de 14 años tímido y no muy listo. Al juntarse con su nieto, Rick y Morty vivirán una variedad de aventuras a lo largo del Cosmos y Universos paralelos.\"\n",
    "\n",
    "Friends = \"La serie trata sobre la vida de un grupo de amigos, Chandler Bing, Phoebe Buffay, Monica Geller, Ross Geller, Rachel Green y Joey Tribbiani que residen en Manhattan, Nueva York. Suceden tanto buenos como malos momentos, pero con una crítica cómica a los hechos más trascendentales de la actualidad.\"\n",
    "Teoria_Big_Bang = \"La serie comienza con la llegada de Penny (Kaley Cuoco), la nueva vecina que se instala en el piso de enfrente. Penny, que habita las antípodas vitales e intelectuales de ambos cerebritos, altera la tranquila vida sentimental de Leonard y resulta un continuo detonador para el desorden obsesivo-compulsivo de Sheldon.\"\n",
    "Orange_is_the_new_black = \"Orange is the New Black sigue las vivencias reales de Piper Chapman, una mujer culpable de transportar dinero proveniente del narcotráfico, y sus compañeras de la cárcel Litchfield. La serie trata temas como lesbianismo, racismo, injusticias del sistema penitenciario, represión sexual y corrupción policial.\"\n",
    "Esposas_desesperadas = \"La serie se desarrolla en Wisteria Lane, zona residencial situada en la imaginaria ciudad de Fairview, Eagle State. Trata de las vidas de cinco amas de casa, a través de sus vidas domésticas a la vez que se revelan varios misterios acerca de sus maridos, amigos y vecinos.\"\n",
    "The_office = \"Michael es el gerente de una empresa papelera de Pensilvania en la que tiene bajo su mando a personajes como Dwight, su asistente; Pam, la recepcionista; Jim, un vendedor, o Ryan, un joven con contrato temporal que pronto se dará cuenta de que en esta compañía nada es lo que parece.\"\n",
    "\n",
    "Daredevil = \"Marvel's Daredevil o simplemente Daredevil es una serie de televisión estadounidense de género dramático y acción, creada por Drew Goddard y basada en la historia del superhéroe de Marvel Comics del mismo nombre. Es producida por Marvel Television, en asociación con ABC Studios, DeKnight Prods. y Goddard Textiles, distribuida en el servicio de streaming Netflix y ambientada en el Universo cinematográfico de Marvel.\"\n",
    "Jessica_Jones = \"Pese a que su corta vida como superheroina terminó en tragedia, Jessica Jones ha estado reconstruyendo su vida personal y su carrera como una temperamental y irascible detective privada en Hell's Kitchen, en la ciudad de Nueva York.\"\n",
    "Defensores = \"Marvel's The Defenders o simplemente The Defenders es una serie de televisión incluida en el Universo cinematográfico de Marvel. Su estreno tuvo lugar el 18 de agosto de 2017 en el servicio de streaming de Netflix. Está basada en la historia del grupo de mismo nombre de Marvel Comics. Se trata de un crossover de 4 personajes de diferentes series distribuidas también por Netflix, en este grupo se incluye a los superhéroes Daredevil, Jessica Jones, Luke Cage y Iron Fist.\"\n",
    "Agentes_SHIELD = \"Marvel's Agents of S.H.I.E.L.D.,3​ o simplemente Agents of S.H.I.E.L.D., es una serie de televisión estadounidense, basada en la organización del mismo nombre que aparece en Marvel Comics. Producida por Marvel Television y emitida en la cadena ABC, constituye la primera serie de acción real del estudio​ y forma parte del universo cinematográfico de Marvel, compartiendo continuidad con las demás películas y series de la franquicia. El piloto fue escrito por Joss Whedon, Jed Whedon y Maurissa Tancharoen, y dirigido por el primero.\"\n",
    "\n",
    "Descripciones = [Stranger_Things + \" \" + Black_Mirror + \" \" + Walking_dead + \" \" + Rick_and_Morty,\n",
    "                 Friends + \" \" + Teoria_Big_Bang + \" \" + Orange_is_the_new_black + \" \" + Esposas_desesperadas + \" \" + The_office,\n",
    "                 Daredevil + \" \" + Jessica_Jones + \" \" + Defensores + \" \"  + Agentes_SHIELD]\n",
    "\n"
   ]
  },
  {
   "cell_type": "code",
   "execution_count": 13,
   "metadata": {},
   "outputs": [],
   "source": [
    "\n",
    "#Stopwords en español\n",
    "stopWords = set(stopwords.words('spanish'))\n",
    "\n",
    "\n",
    "nuevasDescripciones = []\n",
    "for frase in Descripciones:\n",
    "    for palabra in frase.split():\n",
    "        if palabra in stopWords:\n",
    "            frase = frase.replace(palabra, '')\n",
    "    #Agregamos a nuevasDescripciones\n",
    "    \n",
    "    nuevasDescripciones.append(frase)"
   ]
  },
  {
   "cell_type": "code",
   "execution_count": 14,
   "metadata": {
    "colab": {
     "base_uri": "https://localhost:8080/",
     "height": 34
    },
    "id": "xNYLKtMpvlG0",
    "outputId": "401d5ad7-6342-4a53-b3b5-7674e0ac7ac0"
   },
   "outputs": [
    {
     "name": "stdout",
     "output_type": "stream",
     "text": [
      "Forma del vector(Textos, Vocabulario) = (3, 355)\n"
     ]
    }
   ],
   "source": [
    "# Inicializar el vectorizador\n",
    "CV = CountVectorizer()\n",
    "# Convertir el arreglo de descripciones en un modelo de Textos Vs Vocabulario\n",
    "VectorPalabras = CV.fit_transform(nuevasDescripciones)\n",
    "# Forma del vector resultante (Textos, Vocabulario)\n",
    "print(\"Forma del vector(Textos, Vocabulario) = \" + str(VectorPalabras.shape))"
   ]
  },
  {
   "cell_type": "code",
   "execution_count": 15,
   "metadata": {
    "colab": {
     "base_uri": "https://localhost:8080/",
     "height": 419
    },
    "id": "ek4KKDx7vlEt",
    "outputId": "58912a2e-f6bc-4b2b-ca7f-bcec4da7a385"
   },
   "outputs": [
    {
     "data": {
      "text/html": [
       "<div>\n",
       "<style scoped>\n",
       "    .dataframe tbody tr th:only-of-type {\n",
       "        vertical-align: middle;\n",
       "    }\n",
       "\n",
       "    .dataframe tbody tr th {\n",
       "        vertical-align: top;\n",
       "    }\n",
       "\n",
       "    .dataframe thead th {\n",
       "        text-align: right;\n",
       "    }\n",
       "</style>\n",
       "<table border=\"1\" class=\"dataframe\">\n",
       "  <thead>\n",
       "    <tr style=\"text-align: right;\">\n",
       "      <th></th>\n",
       "      <th>Pesos-IDF</th>\n",
       "    </tr>\n",
       "  </thead>\n",
       "  <tbody>\n",
       "    <tr>\n",
       "      <th>ri</th>\n",
       "      <td>1.000000</td>\n",
       "    </tr>\n",
       "    <tr>\n",
       "      <th>tr</th>\n",
       "      <td>1.287682</td>\n",
       "    </tr>\n",
       "    <tr>\n",
       "      <th>vid</th>\n",
       "      <td>1.287682</td>\n",
       "    </tr>\n",
       "    <tr>\n",
       "      <th>trt</th>\n",
       "      <td>1.287682</td>\n",
       "    </tr>\n",
       "    <tr>\n",
       "      <th>vivcis</th>\n",
       "      <td>1.287682</td>\n",
       "    </tr>\n",
       "    <tr>\n",
       "      <th>...</th>\n",
       "      <td>...</td>\n",
       "    </tr>\n",
       "    <tr>\n",
       "      <th>hwkins</th>\n",
       "      <td>1.693147</td>\n",
       "    </tr>\n",
       "    <tr>\n",
       "      <th>homónimo</th>\n",
       "      <td>1.693147</td>\n",
       "    </tr>\n",
       "    <tr>\n",
       "      <th>hl</th>\n",
       "      <td>1.693147</td>\n",
       "    </tr>\n",
       "    <tr>\n",
       "      <th>injusticis</th>\n",
       "      <td>1.693147</td>\n",
       "    </tr>\n",
       "    <tr>\n",
       "      <th>único</th>\n",
       "      <td>1.693147</td>\n",
       "    </tr>\n",
       "  </tbody>\n",
       "</table>\n",
       "<p>355 rows × 1 columns</p>\n",
       "</div>"
      ],
      "text/plain": [
       "            Pesos-IDF\n",
       "ri           1.000000\n",
       "tr           1.287682\n",
       "vid          1.287682\n",
       "trt          1.287682\n",
       "vivcis       1.287682\n",
       "...               ...\n",
       "hwkins       1.693147\n",
       "homónimo     1.693147\n",
       "hl           1.693147\n",
       "injusticis   1.693147\n",
       "único        1.693147\n",
       "\n",
       "[355 rows x 1 columns]"
      ]
     },
     "execution_count": 15,
     "metadata": {},
     "output_type": "execute_result"
    }
   ],
   "source": [
    "# Creamos un transformador de nuestro vector\n",
    "tfidf_transformer = TfidfTransformer(use_idf=True)\n",
    "tfidf_transformer.fit(VectorPalabras)\n",
    "\n",
    "#Quitamos las palabras que no son relevantes\n",
    "tfidf_transformer.idf_\n",
    "\n",
    "\n",
    "# Insertamos los valores en un DataSet\n",
    "df_idf = pd.DataFrame(tfidf_transformer.idf_, index = CV.get_feature_names_out(), columns = [\"Pesos-IDF\"])\n",
    "\n",
    "# Ordenams los valores del de menor relevancia hasta el de mayor relevancia\n",
    "df_idf.sort_values(by=['Pesos-IDF'])"
   ]
  },
  {
   "cell_type": "code",
   "execution_count": 16,
   "metadata": {
    "colab": {
     "base_uri": "https://localhost:8080/",
     "height": 419
    },
    "id": "0P18-6HXvlB4",
    "outputId": "a3f20433-32e8-4974-8b06-aed3e93af8e2"
   },
   "outputs": [
    {
     "data": {
      "text/html": [
       "<div>\n",
       "<style scoped>\n",
       "    .dataframe tbody tr th:only-of-type {\n",
       "        vertical-align: middle;\n",
       "    }\n",
       "\n",
       "    .dataframe tbody tr th {\n",
       "        vertical-align: top;\n",
       "    }\n",
       "\n",
       "    .dataframe thead th {\n",
       "        text-align: right;\n",
       "    }\n",
       "</style>\n",
       "<table border=\"1\" class=\"dataframe\">\n",
       "  <thead>\n",
       "    <tr style=\"text-align: right;\">\n",
       "      <th></th>\n",
       "      <th>TfIdf1 CiFi</th>\n",
       "      <th>TfIdf2 Drama</th>\n",
       "      <th>TfIdf3 Marvel</th>\n",
       "    </tr>\n",
       "  </thead>\n",
       "  <tbody>\n",
       "    <tr>\n",
       "      <th>rick</th>\n",
       "      <td>0.282474</td>\n",
       "      <td>0.000000</td>\n",
       "      <td>0.000000</td>\n",
       "    </tr>\n",
       "    <tr>\n",
       "      <th>prsons</th>\n",
       "      <td>0.211856</td>\n",
       "      <td>0.000000</td>\n",
       "      <td>0.000000</td>\n",
       "    </tr>\n",
       "    <tr>\n",
       "      <th>ri</th>\n",
       "      <td>0.166834</td>\n",
       "      <td>0.189094</td>\n",
       "      <td>0.059395</td>\n",
       "    </tr>\n",
       "    <tr>\n",
       "      <th>al</th>\n",
       "      <td>0.141237</td>\n",
       "      <td>0.000000</td>\n",
       "      <td>0.000000</td>\n",
       "    </tr>\n",
       "    <tr>\n",
       "      <th>cminnt</th>\n",
       "      <td>0.141237</td>\n",
       "      <td>0.000000</td>\n",
       "      <td>0.000000</td>\n",
       "    </tr>\n",
       "    <tr>\n",
       "      <th>...</th>\n",
       "      <td>...</td>\n",
       "      <td>...</td>\n",
       "      <td>...</td>\n",
       "    </tr>\n",
       "    <tr>\n",
       "      <th>textil</th>\n",
       "      <td>0.000000</td>\n",
       "      <td>0.000000</td>\n",
       "      <td>0.050282</td>\n",
       "    </tr>\n",
       "    <tr>\n",
       "      <th>tnchr</th>\n",
       "      <td>0.000000</td>\n",
       "      <td>0.000000</td>\n",
       "      <td>0.050282</td>\n",
       "    </tr>\n",
       "    <tr>\n",
       "      <th>trgedi</th>\n",
       "      <td>0.000000</td>\n",
       "      <td>0.000000</td>\n",
       "      <td>0.050282</td>\n",
       "    </tr>\n",
       "    <tr>\n",
       "      <th>tudi</th>\n",
       "      <td>0.000000</td>\n",
       "      <td>0.000000</td>\n",
       "      <td>0.050282</td>\n",
       "    </tr>\n",
       "    <tr>\n",
       "      <th>tuv</th>\n",
       "      <td>0.000000</td>\n",
       "      <td>0.000000</td>\n",
       "      <td>0.050282</td>\n",
       "    </tr>\n",
       "  </tbody>\n",
       "</table>\n",
       "<p>355 rows × 3 columns</p>\n",
       "</div>"
      ],
      "text/plain": [
       "        TfIdf1 CiFi  TfIdf2 Drama  TfIdf3 Marvel\n",
       "rick       0.282474      0.000000       0.000000\n",
       "prsons     0.211856      0.000000       0.000000\n",
       "ri         0.166834      0.189094       0.059395\n",
       "al         0.141237      0.000000       0.000000\n",
       "cminnt     0.141237      0.000000       0.000000\n",
       "...             ...           ...            ...\n",
       "textil     0.000000      0.000000       0.050282\n",
       "tnchr      0.000000      0.000000       0.050282\n",
       "trgedi     0.000000      0.000000       0.050282\n",
       "tudi       0.000000      0.000000       0.050282\n",
       "tuv        0.000000      0.000000       0.050282\n",
       "\n",
       "[355 rows x 3 columns]"
      ]
     },
     "execution_count": 16,
     "metadata": {},
     "output_type": "execute_result"
    }
   ],
   "source": [
    "# Creamos el \"count vector\" el cuál indica la cantidad de\n",
    "# veces que se repite cada token único\n",
    "count_vector = CV.transform(nuevasDescripciones)\n",
    "\n",
    "# Cálculo de los valores para tf-idf\n",
    "tf_idf_vector = tfidf_transformer.transform(count_vector)\n",
    "\n",
    "# Generamos un DataFrame con los valores tf-idf de cada token\n",
    "# para cada texto\n",
    "df = pd.DataFrame(tf_idf_vector.T.todense(),\n",
    "                  index = CV.get_feature_names_out(),\n",
    "                  columns = [\"TfIdf1 CiFi\", \"TfIdf2 Drama\", \"TfIdf3 Marvel\"])\n",
    "# Ordenamos el Dataset por valores (Descendente)\n",
    "df.sort_values(by=[\"TfIdf1 CiFi\", \"TfIdf2 Drama\", \"TfIdf3 Marvel\"],ascending=False)"
   ]
  },
  {
   "cell_type": "code",
   "execution_count": 17,
   "metadata": {},
   "outputs": [
    {
     "name": "stdout",
     "output_type": "stream",
     "text": [
      "[[0.07061858 0.         0.        ]\n",
      " [0.         0.         0.05028232]\n",
      " [0.         0.         0.05028232]\n",
      " ...\n",
      " [0.07061858 0.         0.        ]\n",
      " [0.07061858 0.         0.        ]\n",
      " [0.07061858 0.         0.        ]]\n"
     ]
    }
   ],
   "source": [
    "print(tf_idf_vector.T.todense())"
   ]
  },
  {
   "cell_type": "code",
   "execution_count": 18,
   "metadata": {
    "colab": {
     "base_uri": "https://localhost:8080/",
     "height": 359
    },
    "id": "ACwtjmNoAdZb",
    "outputId": "879e90a6-be77-4710-cead-08584d086b2d"
   },
   "outputs": [
    {
     "data": {
      "text/html": [
       "<div>\n",
       "<style scoped>\n",
       "    .dataframe tbody tr th:only-of-type {\n",
       "        vertical-align: middle;\n",
       "    }\n",
       "\n",
       "    .dataframe tbody tr th {\n",
       "        vertical-align: top;\n",
       "    }\n",
       "\n",
       "    .dataframe thead th {\n",
       "        text-align: right;\n",
       "    }\n",
       "</style>\n",
       "<table border=\"1\" class=\"dataframe\">\n",
       "  <thead>\n",
       "    <tr style=\"text-align: right;\">\n",
       "      <th></th>\n",
       "      <th>TfIdf1 CiFi</th>\n",
       "    </tr>\n",
       "  </thead>\n",
       "  <tbody>\n",
       "    <tr>\n",
       "      <th>rick</th>\n",
       "      <td>0.282474</td>\n",
       "    </tr>\n",
       "    <tr>\n",
       "      <th>prsons</th>\n",
       "      <td>0.211856</td>\n",
       "    </tr>\n",
       "    <tr>\n",
       "      <th>ri</th>\n",
       "      <td>0.166834</td>\n",
       "    </tr>\n",
       "    <tr>\n",
       "      <th>histori</th>\n",
       "      <td>0.141237</td>\n",
       "    </tr>\n",
       "    <tr>\n",
       "      <th>cutr</th>\n",
       "      <td>0.141237</td>\n",
       "    </tr>\n",
       "    <tr>\n",
       "      <th>robrt</th>\n",
       "      <td>0.141237</td>\n",
       "    </tr>\n",
       "    <tr>\n",
       "      <th>murtos</th>\n",
       "      <td>0.141237</td>\n",
       "    </tr>\n",
       "    <tr>\n",
       "      <th>mort</th>\n",
       "      <td>0.141237</td>\n",
       "    </tr>\n",
       "    <tr>\n",
       "      <th>nito</th>\n",
       "      <td>0.141237</td>\n",
       "    </tr>\n",
       "    <tr>\n",
       "      <th>vivs</th>\n",
       "      <td>0.141237</td>\n",
       "    </tr>\n",
       "  </tbody>\n",
       "</table>\n",
       "</div>"
      ],
      "text/plain": [
       "         TfIdf1 CiFi\n",
       "rick        0.282474\n",
       "prsons      0.211856\n",
       "ri          0.166834\n",
       "histori     0.141237\n",
       "cutr        0.141237\n",
       "robrt       0.141237\n",
       "murtos      0.141237\n",
       "mort        0.141237\n",
       "nito        0.141237\n",
       "vivs        0.141237"
      ]
     },
     "execution_count": 18,
     "metadata": {},
     "output_type": "execute_result"
    }
   ],
   "source": [
    "# Impresión de sólo la primer columna del DataFrame ordenada\n",
    "# (Primeros 10 elementos)\n",
    "df_tfidf1 = pd.DataFrame(df['TfIdf1 CiFi'])\n",
    "df_tfidf1.sort_values(by=[\"TfIdf1 CiFi\"] ,ascending=False).head(10)"
   ]
  },
  {
   "cell_type": "code",
   "execution_count": 19,
   "metadata": {
    "colab": {
     "base_uri": "https://localhost:8080/",
     "height": 359
    },
    "id": "SC0BBzMXDZiP",
    "outputId": "07156b83-73ee-4eba-e0bb-0fb05c7c5920"
   },
   "outputs": [
    {
     "data": {
      "text/html": [
       "<div>\n",
       "<style scoped>\n",
       "    .dataframe tbody tr th:only-of-type {\n",
       "        vertical-align: middle;\n",
       "    }\n",
       "\n",
       "    .dataframe tbody tr th {\n",
       "        vertical-align: top;\n",
       "    }\n",
       "\n",
       "    .dataframe thead th {\n",
       "        text-align: right;\n",
       "    }\n",
       "</style>\n",
       "<table border=\"1\" class=\"dataframe\">\n",
       "  <thead>\n",
       "    <tr style=\"text-align: right;\">\n",
       "      <th></th>\n",
       "      <th>TfIdf2 Drama</th>\n",
       "    </tr>\n",
       "  </thead>\n",
       "  <tbody>\n",
       "    <tr>\n",
       "      <th>trt</th>\n",
       "      <td>0.243493</td>\n",
       "    </tr>\n",
       "    <tr>\n",
       "      <th>ri</th>\n",
       "      <td>0.189094</td>\n",
       "    </tr>\n",
       "    <tr>\n",
       "      <th>nuv</th>\n",
       "      <td>0.160082</td>\n",
       "    </tr>\n",
       "    <tr>\n",
       "      <th>glr</th>\n",
       "      <td>0.160082</td>\n",
       "    </tr>\n",
       "    <tr>\n",
       "      <th>migs</th>\n",
       "      <td>0.160082</td>\n",
       "    </tr>\n",
       "    <tr>\n",
       "      <th>pn</th>\n",
       "      <td>0.160082</td>\n",
       "    </tr>\n",
       "    <tr>\n",
       "      <th>vids</th>\n",
       "      <td>0.160082</td>\n",
       "    </tr>\n",
       "    <tr>\n",
       "      <th>vid</th>\n",
       "      <td>0.121746</td>\n",
       "    </tr>\n",
       "    <tr>\n",
       "      <th>intctuls</th>\n",
       "      <td>0.080041</td>\n",
       "    </tr>\n",
       "    <tr>\n",
       "      <th>sigu</th>\n",
       "      <td>0.080041</td>\n",
       "    </tr>\n",
       "  </tbody>\n",
       "</table>\n",
       "</div>"
      ],
      "text/plain": [
       "          TfIdf2 Drama\n",
       "trt           0.243493\n",
       "ri            0.189094\n",
       "nuv           0.160082\n",
       "glr           0.160082\n",
       "migs          0.160082\n",
       "pn            0.160082\n",
       "vids          0.160082\n",
       "vid           0.121746\n",
       "intctuls      0.080041\n",
       "sigu          0.080041"
      ]
     },
     "execution_count": 19,
     "metadata": {},
     "output_type": "execute_result"
    }
   ],
   "source": [
    "# Impresión de sólo la segunda columna del DataFrame ordenada\n",
    "# (Primeros 10 elementos)\n",
    "df_tfidf2 = pd.DataFrame(df['TfIdf2 Drama'])\n",
    "df_tfidf2.sort_values(by=[\"TfIdf2 Drama\"] ,ascending=False).head(10)"
   ]
  },
  {
   "cell_type": "code",
   "execution_count": 20,
   "metadata": {
    "colab": {
     "base_uri": "https://localhost:8080/",
     "height": 359
    },
    "id": "Ph7fzcVMDs5d",
    "outputId": "03c4127d-2f4e-498c-dd11-5bf7f14cd459"
   },
   "outputs": [
    {
     "data": {
      "text/html": [
       "<div>\n",
       "<style scoped>\n",
       "    .dataframe tbody tr th:only-of-type {\n",
       "        vertical-align: middle;\n",
       "    }\n",
       "\n",
       "    .dataframe tbody tr th {\n",
       "        vertical-align: top;\n",
       "    }\n",
       "\n",
       "    .dataframe thead th {\n",
       "        text-align: right;\n",
       "    }\n",
       "</style>\n",
       "<table border=\"1\" class=\"dataframe\">\n",
       "  <thead>\n",
       "    <tr style=\"text-align: right;\">\n",
       "      <th></th>\n",
       "      <th>TfIdf3 Marvel</th>\n",
       "    </tr>\n",
       "  </thead>\n",
       "  <tbody>\n",
       "    <tr>\n",
       "      <th>mrv</th>\n",
       "      <td>0.553106</td>\n",
       "    </tr>\n",
       "    <tr>\n",
       "      <th>pr</th>\n",
       "      <td>0.229446</td>\n",
       "    </tr>\n",
       "    <tr>\n",
       "      <th>rie</th>\n",
       "      <td>0.201129</td>\n",
       "    </tr>\n",
       "    <tr>\n",
       "      <th>cmics</th>\n",
       "      <td>0.150847</td>\n",
       "    </tr>\n",
       "    <tr>\n",
       "      <th>nmbre</th>\n",
       "      <td>0.150847</td>\n",
       "    </tr>\n",
       "    <tr>\n",
       "      <th>cinemtgráfic</th>\n",
       "      <td>0.150847</td>\n",
       "    </tr>\n",
       "    <tr>\n",
       "      <th>cn</th>\n",
       "      <td>0.150847</td>\n",
       "    </tr>\n",
       "    <tr>\n",
       "      <th>simplemte</th>\n",
       "      <td>0.150847</td>\n",
       "    </tr>\n",
       "    <tr>\n",
       "      <th>drevil</th>\n",
       "      <td>0.150847</td>\n",
       "    </tr>\n",
       "    <tr>\n",
       "      <th>mism</th>\n",
       "      <td>0.150847</td>\n",
       "    </tr>\n",
       "  </tbody>\n",
       "</table>\n",
       "</div>"
      ],
      "text/plain": [
       "              TfIdf3 Marvel\n",
       "mrv                0.553106\n",
       "pr                 0.229446\n",
       "rie                0.201129\n",
       "cmics              0.150847\n",
       "nmbre              0.150847\n",
       "cinemtgráfic       0.150847\n",
       "cn                 0.150847\n",
       "simplemte          0.150847\n",
       "drevil             0.150847\n",
       "mism               0.150847"
      ]
     },
     "execution_count": 20,
     "metadata": {},
     "output_type": "execute_result"
    }
   ],
   "source": [
    "# Impresión de sólo la tercera columna del DataFrame ordenada\n",
    "# (Primeros 10 elementos)\n",
    "df_tfidf3 = pd.DataFrame(df['TfIdf3 Marvel'])\n",
    "df_tfidf3.sort_values(by=[\"TfIdf3 Marvel\"] ,ascending=False).head(10)"
   ]
  },
  {
   "cell_type": "markdown",
   "metadata": {
    "id": "HI6N7GCjRvI9"
   },
   "source": [
    "## Reto: TF-IDF mejora el análisis de características"
   ]
  }
 ],
 "metadata": {
  "colab": {
   "provenance": []
  },
  "kernelspec": {
   "display_name": "Python 3 (ipykernel)",
   "language": "python",
   "name": "python3"
  },
  "language_info": {
   "codemirror_mode": {
    "name": "ipython",
    "version": 3
   },
   "file_extension": ".py",
   "mimetype": "text/x-python",
   "name": "python",
   "nbconvert_exporter": "python",
   "pygments_lexer": "ipython3",
   "version": "3.10.12"
  }
 },
 "nbformat": 4,
 "nbformat_minor": 1
}
