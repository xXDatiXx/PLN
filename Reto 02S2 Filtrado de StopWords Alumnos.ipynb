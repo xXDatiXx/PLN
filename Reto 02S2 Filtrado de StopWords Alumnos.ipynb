{
 "cells": [
  {
   "cell_type": "markdown",
   "metadata": {
    "id": "GC4JSh43njBM"
   },
   "source": [
    "# Filtrado de StopWords"
   ]
  },
  {
   "cell_type": "code",
   "execution_count": 1,
   "metadata": {
    "id": "7qZxrTO1njBQ"
   },
   "outputs": [],
   "source": [
    "# Importar librerías de NLTK\n",
    "from nltk.tokenize import RegexpTokenizer\n",
    "from nltk.tokenize.treebank import TreebankWordDetokenizer\n",
    "from nltk.corpus import stopwords"
   ]
  },
  {
   "cell_type": "code",
   "execution_count": 3,
   "metadata": {
    "id": "jsenLaSAnjBe"
   },
   "outputs": [
    {
     "name": "stdout",
     "output_type": "stream",
     "text": [
      "['de', 'la', 'que', 'el', 'en', 'y', 'a', 'los', 'del', 'se', 'las', 'por', 'un', 'para', 'con', 'no', 'una', 'su', 'al', 'lo', 'como', 'más', 'pero', 'sus', 'le', 'ya', 'o', 'este', 'sí', 'porque', 'esta', 'entre', 'cuando', 'muy', 'sin', 'sobre', 'también', 'me', 'hasta', 'hay', 'donde', 'quien', 'desde', 'todo', 'nos', 'durante', 'todos', 'uno', 'les', 'ni', 'contra', 'otros', 'ese', 'eso', 'ante', 'ellos', 'e', 'esto', 'mí', 'antes', 'algunos', 'qué', 'unos', 'yo', 'otro', 'otras', 'otra', 'él', 'tanto', 'esa', 'estos', 'mucho', 'quienes', 'nada', 'muchos', 'cual', 'poco', 'ella', 'estar', 'estas', 'algunas', 'algo', 'nosotros', 'mi', 'mis', 'tú', 'te', 'ti', 'tu', 'tus', 'ellas', 'nosotras', 'vosotros', 'vosotras', 'os', 'mío', 'mía', 'míos', 'mías', 'tuyo', 'tuya', 'tuyos', 'tuyas', 'suyo', 'suya', 'suyos', 'suyas', 'nuestro', 'nuestra', 'nuestros', 'nuestras', 'vuestro', 'vuestra', 'vuestros', 'vuestras', 'esos', 'esas', 'estoy', 'estás', 'está', 'estamos', 'estáis', 'están', 'esté', 'estés', 'estemos', 'estéis', 'estén', 'estaré', 'estarás', 'estará', 'estaremos', 'estaréis', 'estarán', 'estaría', 'estarías', 'estaríamos', 'estaríais', 'estarían', 'estaba', 'estabas', 'estábamos', 'estabais', 'estaban', 'estuve', 'estuviste', 'estuvo', 'estuvimos', 'estuvisteis', 'estuvieron', 'estuviera', 'estuvieras', 'estuviéramos', 'estuvierais', 'estuvieran', 'estuviese', 'estuvieses', 'estuviésemos', 'estuvieseis', 'estuviesen', 'estando', 'estado', 'estada', 'estados', 'estadas', 'estad', 'he', 'has', 'ha', 'hemos', 'habéis', 'han', 'haya', 'hayas', 'hayamos', 'hayáis', 'hayan', 'habré', 'habrás', 'habrá', 'habremos', 'habréis', 'habrán', 'habría', 'habrías', 'habríamos', 'habríais', 'habrían', 'había', 'habías', 'habíamos', 'habíais', 'habían', 'hube', 'hubiste', 'hubo', 'hubimos', 'hubisteis', 'hubieron', 'hubiera', 'hubieras', 'hubiéramos', 'hubierais', 'hubieran', 'hubiese', 'hubieses', 'hubiésemos', 'hubieseis', 'hubiesen', 'habiendo', 'habido', 'habida', 'habidos', 'habidas', 'soy', 'eres', 'es', 'somos', 'sois', 'son', 'sea', 'seas', 'seamos', 'seáis', 'sean', 'seré', 'serás', 'será', 'seremos', 'seréis', 'serán', 'sería', 'serías', 'seríamos', 'seríais', 'serían', 'era', 'eras', 'éramos', 'erais', 'eran', 'fui', 'fuiste', 'fue', 'fuimos', 'fuisteis', 'fueron', 'fuera', 'fueras', 'fuéramos', 'fuerais', 'fueran', 'fuese', 'fueses', 'fuésemos', 'fueseis', 'fuesen', 'sintiendo', 'sentido', 'sentida', 'sentidos', 'sentidas', 'siente', 'sentid', 'tengo', 'tienes', 'tiene', 'tenemos', 'tenéis', 'tienen', 'tenga', 'tengas', 'tengamos', 'tengáis', 'tengan', 'tendré', 'tendrás', 'tendrá', 'tendremos', 'tendréis', 'tendrán', 'tendría', 'tendrías', 'tendríamos', 'tendríais', 'tendrían', 'tenía', 'tenías', 'teníamos', 'teníais', 'tenían', 'tuve', 'tuviste', 'tuvo', 'tuvimos', 'tuvisteis', 'tuvieron', 'tuviera', 'tuvieras', 'tuviéramos', 'tuvierais', 'tuvieran', 'tuviese', 'tuvieses', 'tuviésemos', 'tuvieseis', 'tuviesen', 'teniendo', 'tenido', 'tenida', 'tenidos', 'tenidas', 'tened']\n"
     ]
    },
    {
     "name": "stderr",
     "output_type": "stream",
     "text": [
      "[nltk_data] Downloading package stopwords to\n",
      "[nltk_data]     C:\\Users\\mich-\\AppData\\Roaming\\nltk_data...\n",
      "[nltk_data]   Package stopwords is already up-to-date!\n"
     ]
    }
   ],
   "source": [
    "# Asignación de StopWords predefinidas para idioma Español\n",
    "import nltk\n",
    "nltk.download('stopwords')\n",
    "stop_words = nltk.corpus.stopwords.words('spanish')\n",
    "print(stop_words)"
   ]
  },
  {
   "cell_type": "code",
   "execution_count": 4,
   "metadata": {
    "id": "wfn-TAvanjBn"
   },
   "outputs": [
    {
     "ename": "FileNotFoundError",
     "evalue": "[WinError 3] El sistema no puede encontrar la ruta especificada: 'Descargas/'",
     "output_type": "error",
     "traceback": [
      "\u001b[1;31m---------------------------------------------------------------------------\u001b[0m",
      "\u001b[1;31mFileNotFoundError\u001b[0m                         Traceback (most recent call last)",
      "Cell \u001b[1;32mIn[4], line 8\u001b[0m\n\u001b[0;32m      4\u001b[0m Palabras \u001b[38;5;241m=\u001b[39m []\n\u001b[0;32m      6\u001b[0m path \u001b[38;5;241m=\u001b[39m \u001b[38;5;124m'\u001b[39m\u001b[38;5;124mDescargas/\u001b[39m\u001b[38;5;124m'\u001b[39m\n\u001b[1;32m----> 8\u001b[0m \u001b[38;5;28;01mfor\u001b[39;00m File \u001b[38;5;129;01min\u001b[39;00m listdir(path):\n\u001b[0;32m      9\u001b[0m     \u001b[38;5;66;03m#listdir regresa una lista con los nombres de los archivos\u001b[39;00m\n\u001b[0;32m     10\u001b[0m     \u001b[38;5;66;03m# Escribir la RUTA COMPLETA de cada archivo\u001b[39;00m\n\u001b[0;32m     11\u001b[0m     \u001b[38;5;28;01mwith\u001b[39;00m \u001b[38;5;28mopen\u001b[39m(path \u001b[38;5;241m+\u001b[39m File) \u001b[38;5;28;01mas\u001b[39;00m Text:\n\u001b[0;32m     12\u001b[0m         \u001b[38;5;66;03m# LEER el texto y pasar todo a minúsculas y reemplazar signos de puntuación \u001b[39;00m\n\u001b[0;32m     13\u001b[0m         Texto \u001b[38;5;241m=\u001b[39m Text\u001b[38;5;241m.\u001b[39mread()\u001b[38;5;241m.\u001b[39mlower()\n",
      "\u001b[1;31mFileNotFoundError\u001b[0m: [WinError 3] El sistema no puede encontrar la ruta especificada: 'Descargas/'"
     ]
    }
   ],
   "source": [
    "# Creamos un diccionario con el formato\n",
    "# {Veces_que_aparece_la_palabra: [Palabra1, Palbra2, Palabra3, etc..]}\n",
    "from os import listdir\n",
    "Palabras = []\n",
    "\n",
    "path = 'Descargas/'\n",
    "\n",
    "for File in listdir(path):\n",
    "    #listdir regresa una lista con los nombres de los archivos\n",
    "    # Escribir la RUTA COMPLETA de cada archivo\n",
    "    with open(path + File) as Text:\n",
    "        # LEER el texto y pasar todo a minúsculas y reemplazar signos de puntuación \n",
    "        Texto = Text.read().lower()\n",
    "        #quitar todos los caracteres especiales y signos de puntuacion\n",
    "        Texto = Texto.replace('.','').replace(',','').replace(';','').replace('-','')\n",
    "        Texto = Texto.replace('¿','').replace('?','').replace('¡','').replace('!','')\n",
    "        Texto = Texto.replace('(','').replace(')','').replace('—','')\n",
    "        # Solo se agregan las que no sean StopWords\n",
    "        for palabra in Texto.split():\n",
    "            #.split() divide el texto por palabras\n",
    "            if(palabra not in stop_words):\n",
    "                Palabras.append(palabra)\n",
    "    \n",
    "# Crear el diccionario con las frecuencias como claves y listas de palabras \n",
    "# correspondientes a cada frecuencia como valores\n",
    "Palabras_unicas = {}\n",
    "#Crear diccionario cuyos valores interno sea \n",
    "#Dic {1: [pedro,juan,albyus] #frecuencia de palabras que se pepiten 1 vez\n",
    " #   2: [harry, katniss, snow]}#frecuencia de palabras que se repiten 2\n",
    "for unica in set(Palabras):\n",
    "    Frec = Palabras.count(unica) # contar la frecuencia de la palabra\n",
    "    # Preguntar si existe el elemento en el diccionario y si no, agregarlo\n",
    "    \n",
    "    if(Palabras_unicas.get(Frec) == None):\n",
    "        Palabras_unicas.setdefault(Frec, [unica])\n",
    "    else:\n",
    "        Palabras_unicas[Frec].append(unica)\n",
    "print(Palabras_unicas)"
   ]
  },
  {
   "cell_type": "code",
   "execution_count": null,
   "metadata": {
    "id": "EM1KN9HZnjB3"
   },
   "outputs": [],
   "source": [
    "# Ploteo de la gráfica de palabras para cada frecuencia de repetición\n",
    "# Declarar la librería para plotear y los parámetros de la gráfica\n",
    "import matplotlib._____ as plt\n",
    "plt.rcParams.update({'font.size': 22})\n",
    "plt.figure(figsize=(30,10))\n",
    "\n",
    "# Extraer la cantidad de palabras de cada categoría\n",
    "Frecuencias = []\n",
    "for Lista in Palabras_unicas._____():\n",
    "    Frecuencias.append(len(Lista))\n",
    "\n",
    "# Parámetros de ploteo\n",
    "plt.bar(Palabras_unicas._____(), Frecuencias, color=['cornflowerblue', 'lightblue', 'steelblue'])  \n",
    "plt.ylabel('Palabras distintas')\n",
    "plt.xlabel('Cantidad de repeticiones')\n",
    "plt.title('Cantidad de palabras por cantidad de apariciones')\n",
    "plt.xticks(rotation=80)"
   ]
  },
  {
   "cell_type": "code",
   "execution_count": null,
   "metadata": {
    "id": "uM6xhyytnjCJ"
   },
   "outputs": [],
   "source": [
    "# Impresión de las palabras que corresponden a cada frecuencia:\n",
    "# (Se suma +1 porque el primer índice debe ser 1 y no 0)\n",
    "for x in range(max(Palabras_unicas._____())):\n",
    "    print(\"\\nPalabras que se repiten \" + str(x+1) + \" veces:\")\n",
    "    if(Palabras_unicas.get(x+1) != None):\n",
    "        print(set(_____[x+1]))"
   ]
  },
  {
   "cell_type": "code",
   "execution_count": null,
   "metadata": {
    "id": "DNGqWxLMnjDi"
   },
   "outputs": [],
   "source": [
    "# Agregar palabras adicionales (Personalizadas) al diccionario de StopWords\n",
    "\n",
    "nuevas_StopWords = ['si','no', 'hola', 'adios', 'a', 'ante', 'bajo', 'cabe', 'con', 'contra', 'de', 'desde']\n",
    "stop_words.extend(_____)"
   ]
  },
  {
   "cell_type": "code",
   "execution_count": null,
   "metadata": {
    "id": "ehQoHiqHnjDx"
   },
   "outputs": [],
   "source": [
    "# Ploteo de la nueva gráfica\n",
    "import matplotlib._____ as plt\n",
    "plt.rcParams.update({'font.size': 22})\n",
    "plt.figure(figsize=(30,10))\n",
    "\n",
    "# Extraer la cantidad de palabras de cada categoría\n",
    "Frecuencias = []\n",
    "for Lista in Palabras_unicas._____():\n",
    "    Frecuencias.append(len(Lista))\n",
    "\n",
    "# Parámetros de ploteo\n",
    "plt.bar(Palabras_unicas._____(), Frecuencias, color=['cornflowerblue', 'lightblue', 'steelblue'])  \n",
    "plt.ylabel('Palabras distintas')\n",
    "plt.xlabel('Cantidad de repeticiones')\n",
    "plt.title('Cantidad de palabras por cantidad de apariciones')\n",
    "plt.xticks(rotation=80)"
   ]
  }
 ],
 "metadata": {
  "colab": {
   "collapsed_sections": [],
   "name": "Reto 02S2 Filtrado de StopWords Alumnos.ipynb",
   "provenance": []
  },
  "kernelspec": {
   "display_name": "Python 3 (ipykernel)",
   "language": "python",
   "name": "python3"
  },
  "language_info": {
   "codemirror_mode": {
    "name": "ipython",
    "version": 3
   },
   "file_extension": ".py",
   "mimetype": "text/x-python",
   "name": "python",
   "nbconvert_exporter": "python",
   "pygments_lexer": "ipython3",
   "version": "3.11.4"
  }
 },
 "nbformat": 4,
 "nbformat_minor": 1
}
