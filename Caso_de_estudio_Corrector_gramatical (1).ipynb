{
 "cells": [
  {
   "cell_type": "markdown",
   "metadata": {
    "id": "N921vKRx4RIH"
   },
   "source": [
    "# Tarea 01: Corrector gramatical"
   ]
  },
  {
   "cell_type": "markdown",
   "metadata": {
    "id": "nd_x9Fv4rMre"
   },
   "source": [
    "### Para esta tarea, deberás de generar un corrector gramatical que evalué 5 tipos de errores comunes, llenando los métodos que aparecen en este notebook. Deberás de utilizar la lógica adecuada para cada uno y usar el formato de docstring correspondiente para documentar el uso de cada método."
   ]
  },
  {
   "cell_type": "code",
   "execution_count": 1,
   "metadata": {
    "id": "7InFgho6rytt"
   },
   "outputs": [],
   "source": [
    "# Ejemplo de formato Docstrings:\n",
    "\n",
    "def NombreFuncion(arg1, arg2, arg3):\n",
    "  \"\"\"\n",
    "  Este método sirve para... utilizando... y devuelve...\n",
    "\n",
    "  Args:\n",
    "    string arg1: Esta es una cadena de texto que...\n",
    "    int arg 2: Es un número entero que se usa para...\n",
    "    dict arg 3: Diccionario que sirve para...\n",
    "\n",
    "  Returns:\n",
    "    string: Cadena del texto ya corregido...\n",
    "  \"\"\"\n",
    "\n",
    "  # Aquí debe de ir la lógica de la función (Después de la documentación)\n",
    "  Texto = \"ola x fabor, balla usted a resar por la informasion sobre la buelta que hemos echo en la bida; aver tomado esta desición es lo que hacemos con determinación.\"\n",
    "  return Texto"
   ]
  },
  {
   "cell_type": "markdown",
   "metadata": {
    "id": "wvSGW06Rsxdq"
   },
   "source": [
    "#### Plantilla de tarea 1: Corrector gramatical"
   ]
  },
  {
   "cell_type": "code",
   "execution_count": 1,
   "metadata": {
    "id": "FeohFnXD4RIM"
   },
   "outputs": [],
   "source": [
    "# Importar la librería de SpaCy y su núcleo de trabajo en Español\n",
    "import spacy\n",
    "import nltk\n",
    "\n",
    "# Cargamos núcleo de trabajo (Español)\n",
    "pln_es = spacy.load(\"es_core_news_sm\")"
   ]
  },
  {
   "cell_type": "code",
   "execution_count": 3,
   "metadata": {
    "id": "bzhE-GB64RIO"
   },
   "outputs": [
    {
     "ename": "TypeError",
     "evalue": "'str' object cannot be interpreted as an integer",
     "output_type": "error",
     "traceback": [
      "\u001b[0;31m---------------------------------------------------------------------------\u001b[0m",
      "\u001b[0;31mTypeError\u001b[0m                                 Traceback (most recent call last)",
      "Cell \u001b[0;32mIn[3], line 33\u001b[0m\n\u001b[1;32m     30\u001b[0m     \u001b[39mreturn\u001b[39;00m texto_corregido\n\u001b[1;32m     31\u001b[0m Texto \u001b[39m=\u001b[39m \u001b[39m\"\u001b[39m\u001b[39mola x fabor, balla usted a resar por la informasion sobre la buelta que hemos echo en la bida; aver tomado esta desición es lo que hacemos con determinación.\u001b[39m\u001b[39m\"\u001b[39m\n\u001b[0;32m---> 33\u001b[0m \u001b[39mprint\u001b[39m(ERRORES_COMUNES(Texto))\n",
      "Cell \u001b[0;32mIn[3], line 27\u001b[0m, in \u001b[0;36mERRORES_COMUNES\u001b[0;34m(Texto)\u001b[0m\n\u001b[1;32m     25\u001b[0m \u001b[39mfor\u001b[39;00m clave, valor \u001b[39min\u001b[39;00m Diccionario\u001b[39m.\u001b[39mitems():\n\u001b[1;32m     26\u001b[0m     \u001b[39mif\u001b[39;00m token \u001b[39m==\u001b[39m valor:\n\u001b[0;32m---> 27\u001b[0m         texto_corregido \u001b[39m=\u001b[39m texto_corregido\u001b[39m.\u001b[39;49minsert(token, clave) \n\u001b[1;32m     28\u001b[0m         corregido \u001b[39m=\u001b[39m \u001b[39mTrue\u001b[39;00m\n\u001b[1;32m     29\u001b[0m         \u001b[39mbreak\u001b[39;00m\n",
      "\u001b[0;31mTypeError\u001b[0m: 'str' object cannot be interpreted as an integer"
     ]
    }
   ],
   "source": [
    "# Módulo para correguir errores de ortografía comunes\n",
    "# Utilizando un diccionario\n",
    "# Agregar mas ejemplos al diccionario\n",
    "\n",
    "Diccionario = {'hola' : 'ola',\n",
    "               'favor': 'fabor',\n",
    "               'por':'x',\n",
    "               'rezar':'resar',\n",
    "               'información':'informasion',\n",
    "               'vaya':'balla',\n",
    "               'hecho': 'echo',\n",
    "               'vida':'bida', \n",
    "               'vuelta': 'buelta',\n",
    "               'haber':'aver',\n",
    "               'hacemos':'asemos',\n",
    "               'decisión':'desición'\n",
    "               }\n",
    "\n",
    "def ERRORES_COMUNES(Texto):\n",
    "    # Documentación y lógica aquí\n",
    "    Texto = nltk.word_tokenize(Texto)\n",
    "    texto_corregido = Texto\n",
    "    for token in Texto: \n",
    "        corregido = False\n",
    "        for clave, valor in Diccionario.items():\n",
    "            if token == valor:\n",
    "                texto_corregido = texto_corregido.replace(token, clave) \n",
    "                corregido = True\n",
    "                break\n",
    "    return texto_corregido\n",
    "Texto = \"ola x fabor, balla usted a resar por la informasion sobre la buelta que hemos echo en la bida; aver tomado esta desición es lo que hacemos con determinación.\"\n",
    "\n",
    "print(ERRORES_COMUNES(Texto))"
   ]
  },
  {
   "cell_type": "code",
   "execution_count": null,
   "metadata": {
    "id": "fyiF2RVn4RIP"
   },
   "outputs": [],
   "source": [
    "# Módulo para correguir errores dentre singulares y plurales\n",
    "# Investigar si existe algún atributo en Spacy que pueda devolver dicha característica\n",
    "# O implementar alguna lógica que pueda detectar si una palabra es sing, o plural\n",
    "\n",
    "def TIEMPOS_VERBALES(Texto):\n",
    "    # Documentación y lógica aquí\n",
    "    Texto = nltk.word_tokenize(Texto)   \n",
    "    Texto_corregido = Texto\n",
    "        for token in Texto:\n",
    "            \n",
    "    \n",
    "    return Texto_corregido"
   ]
  },
  {
   "cell_type": "code",
   "execution_count": 6,
   "metadata": {
    "id": "JZriCF1o4RIR"
   },
   "outputs": [
    {
     "data": {
      "text/plain": [
       "['hola', '', ',', 'como', 'estas', '?', '']"
      ]
     },
     "execution_count": 6,
     "metadata": {},
     "output_type": "execute_result"
    }
   ],
   "source": [
    "# Módulo para detectar palabras repetidas\n",
    "\n",
    "def PALABRA_REPETIDA(Texto):\n",
    "    # Documentación y lógica aquí\n",
    "    Texto = nltk.word_tokenize(Texto)\n",
    "    Texto_corregido = Texto\n",
    "    for i in range(len(Texto)):\n",
    "        if Texto[i] == Texto[i-1]:\n",
    "            #borramos el elemento repetido\n",
    "            Texto_corregido[i] = \"\"\n",
    "    return Texto_corregido\n",
    "\n",
    "texto = \"hola hola, como estas??\"\n",
    "PALABRA_REPETIDA(texto)"
   ]
  },
  {
   "cell_type": "code",
   "execution_count": null,
   "metadata": {
    "id": "yNuF3Hbc4RIS"
   },
   "outputs": [],
   "source": [
    "# Módulo para detectar problemas con mayúsculas y minúsculas\n",
    "# Recuerda que si una palabra son SIGLAS (Es decir, se trata de una organización\n",
    "# o lugar), NO se considera un error gramatical\n",
    "\n",
    "def MAYUSC_MINUSC(Texto):\n",
    "    # Documentación y lógica aquí\n",
    "    return Texto_corregido"
   ]
  },
  {
   "cell_type": "code",
   "execution_count": null,
   "metadata": {
    "id": "H5EG4pz14RIT"
   },
   "outputs": [],
   "source": [
    "# Modulo para detectar nouns juntos que no son un nombre propio\n",
    "# Recuerda que \"Juega el perro gato en el parque\" es incorrecto\n",
    "# porque hay dos NOUNS juntos (perro y gato), pero el texto \"mi\n",
    "# amigo Pedro\" es correcto, sin embargo aquí se trata de un NOUN\n",
    "# seguido de un PNOUN (Nombre propio), deberás de identificar si\n",
    "# si ocurre un caso como este, o si por ejemplo, todo el nombre\n",
    "# pertenece a una persona (entidad) para validar que no sea un error\n",
    "\n",
    "def NOUNS(Texto):\n",
    "    # Documentación y lógica aquí\n",
    "    return Texto_corregido"
   ]
  },
  {
   "cell_type": "code",
   "execution_count": null,
   "metadata": {
    "id": "rQcemrD14RIT"
   },
   "outputs": [
    {
     "ename": "UnboundLocalError",
     "evalue": "local variable 'Texto_corregido' referenced before assignment",
     "output_type": "error",
     "traceback": [
      "\u001b[0;31m---------------------------------------------------------------------------\u001b[0m",
      "\u001b[0;31mUnboundLocalError\u001b[0m                         Traceback (most recent call last)",
      "Cell \u001b[0;32mIn[10], line 10\u001b[0m\n\u001b[1;32m      7\u001b[0m Utterance \u001b[39m=\u001b[39m \u001b[39minput\u001b[39m(\u001b[39m\"\u001b[39m\u001b[39mTexto para revisión: \u001b[39m\u001b[39m\\n\u001b[39;00m\u001b[39m\"\u001b[39m)\n\u001b[1;32m      9\u001b[0m \u001b[39m# Pipeline de funciones definidas previamente\u001b[39;00m\n\u001b[0;32m---> 10\u001b[0m Texto_Corregido \u001b[39m=\u001b[39m NOUNS(MAYUSC_MINUSC(PALABRA_REPETIDA(TIEMPOS_VERBALES(ERRORES_COMUNES(Utterance)))))\n\u001b[1;32m     12\u001b[0m \u001b[39mprint\u001b[39m(\u001b[39m'\u001b[39m\u001b[39m\\n\u001b[39;00m\u001b[39mTexto corregido:\u001b[39m\u001b[39m\\n\u001b[39;00m\u001b[39m'\u001b[39m \u001b[39m+\u001b[39m Texto_Corregido)\n",
      "Cell \u001b[0;32mIn[5], line 27\u001b[0m, in \u001b[0;36mERRORES_COMUNES\u001b[0;34m(Texto)\u001b[0m\n\u001b[1;32m     25\u001b[0m             \u001b[39mprint\u001b[39m(Diccionario[y])\n\u001b[1;32m     26\u001b[0m             \u001b[39mreturn\u001b[39;00m\n\u001b[0;32m---> 27\u001b[0m \u001b[39mreturn\u001b[39;00m Texto_corregido\n",
      "\u001b[0;31mUnboundLocalError\u001b[0m: local variable 'Texto_corregido' referenced before assignment"
     ]
    }
   ],
   "source": [
    "# El siguiente código debe de poder ser ejecutado y obtener una respuesta que\n",
    "# muestre cláramente la diferencia entre el texto inicial y el corregido\n",
    "\n",
    "# Cada método deberá marcar el lugar donde encuentre un error con corchetes\n",
    "# e imprimir una lista con los errores encontrados\n",
    "\n",
    "Utterance = input(\"Texto para revisión: \\n\")\n",
    "\n",
    "# Pipeline de funciones definidas previamente\n",
    "Texto_Corregido = NOUNS(MAYUSC_MINUSC(PALABRA_REPETIDA(TIEMPOS_VERBALES(ERRORES_COMUNES(Utterance)))))\n",
    "\n",
    "print('\\nTexto corregido:\\n' + Texto_Corregido)"
   ]
  },
  {
   "cell_type": "code",
   "execution_count": null,
   "metadata": {
    "id": "UQXt2ZvN4RIU"
   },
   "outputs": [],
   "source": [
    "# Frases que puedes probar:\n",
    "# ola, me das mi zaldo por fabor, grasias\n",
    "# Quiero una casas en la playa\n",
    "# los niño salieron a jugar al patio\n",
    "# Palabras que se repiten repiten\n",
    "\n",
    "# ola señorita, me puede dar mi zaldo por fabor, grasias, lo que pasa pasa es que quiero Comprar una casas en la playa playa para que los niño jueguen en el patio. Mi PeRRo es muy juguetón, por eso me mudo a la CDMX. EL casero mE dijo: \"debes pagado antes del viernes viernes\"."
   ]
  }
 ],
 "metadata": {
  "colab": {
   "provenance": []
  },
  "kernelspec": {
   "display_name": "Python 3 (ipykernel)",
   "language": "python",
   "name": "python3"
  },
  "language_info": {
   "codemirror_mode": {
    "name": "ipython",
    "version": 3
   },
   "file_extension": ".py",
   "mimetype": "text/x-python",
   "name": "python",
   "nbconvert_exporter": "python",
   "pygments_lexer": "ipython3",
   "version": "3.10.12"
  }
 },
 "nbformat": 4,
 "nbformat_minor": 1
}
