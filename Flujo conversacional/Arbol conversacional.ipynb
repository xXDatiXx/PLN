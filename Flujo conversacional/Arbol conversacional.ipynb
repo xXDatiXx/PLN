{
 "cells": [
  {
   "cell_type": "code",
   "execution_count": 1,
   "metadata": {
    "id": "F27k_d1FqDwV",
    "outputId": "4dee50c0-ef32-481e-e812-099f12b10ba1"
   },
   "outputs": [
    {
     "name": "stderr",
     "output_type": "stream",
     "text": [
      "2023-10-22 19:10:23.700867: I tensorflow/tsl/cuda/cudart_stub.cc:28] Could not find cuda drivers on your machine, GPU will not be used.\n",
      "2023-10-22 19:10:24.966549: E tensorflow/compiler/xla/stream_executor/cuda/cuda_dnn.cc:9342] Unable to register cuDNN factory: Attempting to register factory for plugin cuDNN when one has already been registered\n",
      "2023-10-22 19:10:24.966585: E tensorflow/compiler/xla/stream_executor/cuda/cuda_fft.cc:609] Unable to register cuFFT factory: Attempting to register factory for plugin cuFFT when one has already been registered\n",
      "2023-10-22 19:10:24.970643: E tensorflow/compiler/xla/stream_executor/cuda/cuda_blas.cc:1518] Unable to register cuBLAS factory: Attempting to register factory for plugin cuBLAS when one has already been registered\n",
      "2023-10-22 19:10:25.556939: I tensorflow/tsl/cuda/cudart_stub.cc:28] Could not find cuda drivers on your machine, GPU will not be used.\n",
      "2023-10-22 19:10:25.558036: I tensorflow/core/platform/cpu_feature_guard.cc:182] This TensorFlow binary is optimized to use available CPU instructions in performance-critical operations.\n",
      "To enable the following instructions: AVX2 FMA, in other operations, rebuild TensorFlow with the appropriate compiler flags.\n",
      "2023-10-22 19:10:31.973307: W tensorflow/compiler/tf2tensorrt/utils/py_utils.cc:38] TF-TRT Warning: Could not find TensorRT\n"
     ]
    }
   ],
   "source": [
    "# Declaración de librerías\n",
    "#hola\n",
    "import nltk\n",
    "import numpy\n",
    "import tensorflow\n",
    "import random\n",
    "import json"
   ]
  },
  {
   "cell_type": "code",
   "execution_count": 2,
   "metadata": {
    "id": "ugsfnO0pqDwn"
   },
   "outputs": [],
   "source": [
    "# Lectura de formatos .json para entrenar cada modelo y asignación\n",
    "# de información correspondiente\n",
    "with open('Intenciones_NivelI.json', encoding='utf-8') as file:\n",
    "    data_NivelI = json.load(file)\n",
    "    \n",
    "with open('Intenciones_NivelIIA.json', encoding='utf-8') as file:\n",
    "    data_NivelIIA = json.load(file)\n",
    "    \n",
    "with open('Intenciones_NivelIIB.json', encoding='utf-8') as file:\n",
    "    data_NivelIIB = json.load(file)"
   ]
  },
  {
   "cell_type": "code",
   "execution_count": 3,
   "metadata": {
    "id": "HogXD3MyqDwx",
    "outputId": "50b17eeb-89c4-4ea0-cb93-a9b6635e4a4d"
   },
   "outputs": [
    {
     "name": "stdout",
     "output_type": "stream",
     "text": [
      "{'Jugar_Juego': ['Quiero jugar un juego', '¿Qué tal si jugamos un juego?', 'Juguemos un juego', '¿Qué juegos conoces', 'Podemos jugar un juego', 'Juguemos algo', 'Quiero que juguemos', 'Vamos a jugar un juego'], 'Reproducir_Musica': ['Quiero escuchar música', '¿Puedes reproducir música?', 'Quiero que reproduzcas música', 'Quiero que pongas una canción', 'Activa el reproductor de música', 'Me agradaría escuchar algo de música', 'Puedes poner música en algún servicio de streamming', 'Abre el reproductor musical por favor']}\n",
      "{'Adivinanzas': ['Vamos a jugar a las adivinanzas', 'Quiero jugar adivinanzas', 'Juguemos adivinanzas', 'Quisiera jugar a adivinar cosas', 'Sabes como jugar a las adivinanzas', 'Quiero que me digas algo y yo lo intente adivinar', 'Puedes jugar adivinanzas conmigo', 'Quiero que juegues conmigo a adivinar cosas'], '20_preguntas': ['Juguemos a las 20 preguntas', '¿Sabes cómo jugar a las 20 preguntas?', 'Quiero jugar a 20 preguntas', 'Juguemos 20 preguntas ahora', 'Quiero jugar el juego de las preguntas', 'Quiero que me hagas preguntas y trates de adivinar en lo que estoy pensando', 'El juego en el que adivinas lo que estoy pensando después de hacer 20 preguntas', 'Activa el juego de las 20 preguntas'], 'Cierto_Falso': ['Quiero jugar a cierto o falso', 'Puedes poner el juego de cierto o falso', 'Sabes cómo jugar a cierto o falso?', 'Preguntas ciertas y falsas', 'Quiero jugar al juego de preguntas para saber si una es cierta o falsa', 'Te sabes el juego de verdadero o falso?', 'Me haces unas preguntas y yo te digo si son ciertas o falsas?', 'Hoy quiero que juguemos a cierto o falso']}\n",
      "{'Youtube': ['Youtube', 'Utiliza Youtube', 'Quiero que uses youtube para la reproducción', '¿Puedes hacerlo desde youtube?', 'Utiliza la plataforma roja de reproducción de videos', 'Desde la plataforma roja con el triángulo', 'Por favor, utiliza youtube para reproducir la música', 'Por favor pon la música en Youtube'], 'Spotify': ['Spotify', 'Utiliza la plataforma de Spotify', 'Por favor utiliza la plataforma verde de música', 'No sé como se llama, pero la que es verde con rayas', 'De la plataforma que se llama spotify', 'Utiliza Spotify por favor', 'Usa mi cuenta de spotify', 'Quiero escuchar la música en Spotify'], 'Amazon': ['Usa Amazon', 'Reprodúcela en Amazon Music por favor', 'Con mi cuenta de Amazon Music', 'Desde la plataforma de amazon', 'Desde la plataforma azul de los que hacen entregas a domicilio', '¿Puedes usar mi cuenta de Amazon Music para eso?', 'Quiero escuchar una play list que tengo en Amazon', 'Hoy quiero escuchar música en Amazon Music por favor']}\n"
     ]
    }
   ],
   "source": [
    "# Creación de diccionarios con los nombres de las clases y textos\n",
    "# presentes en cada uno de los archivos\n",
    "NI = dict()\n",
    "NIIA = dict()\n",
    "NIIB = dict()\n",
    "\n",
    "for info in data_NivelI['intents']:\n",
    "    NI.setdefault(info['tag'], info['patterns'])\n",
    "\n",
    "for info in data_NivelIIA['intents']:\n",
    "    NIIA.setdefault(info['tag'], info['patterns'])\n",
    "    \n",
    "for info in data_NivelIIB['intents']:\n",
    "    NIIB.setdefault(info['tag'], info['patterns'])\n",
    "        \n",
    "print(NI)\n",
    "print(NIIA)\n",
    "print(NIIB)"
   ]
  },
  {
   "cell_type": "code",
   "execution_count": 4,
   "metadata": {
    "id": "cKAqS2HpqDxU",
    "outputId": "7e9491b9-200f-44c7-ecb3-673edbf78cf6"
   },
   "outputs": [
    {
     "name": "stdout",
     "output_type": "stream",
     "text": [
      "Vector de salidas Y para N1:\n",
      "[0, 0, 0, 0, 0, 0, 0, 0, 1, 1, 1, 1, 1, 1, 1, 1]\n",
      "Vector de salidas Y para N2A:\n",
      "[0, 0, 0, 0, 0, 0, 0, 0, 1, 1, 1, 1, 1, 1, 1, 1, 2, 2, 2, 2, 2, 2, 2, 2]\n",
      "Vector de salidas Y para N2B:\n",
      "[0, 0, 0, 0, 0, 0, 0, 0, 1, 1, 1, 1, 1, 1, 1, 1, 2, 2, 2, 2, 2, 2, 2, 2]\n"
     ]
    }
   ],
   "source": [
    "# Generamos los vectores de respuestas para cada nivel contextual\n",
    "# (Cada clase tiene una salida numérica asociada)\n",
    "# (Las salidas empiezan en 0 para cada clase inicial de cada modelo)\n",
    "Y_NI = list()\n",
    "Y_NIIA = list()\n",
    "Y_NIIB = list()\n",
    "\n",
    "for clase, lista_textos in NI.items():\n",
    "    for text in lista_textos:\n",
    "        Y_NI.append(list(NI.keys()).index(clase))\n",
    "        \n",
    "for clase, lista_textos in NIIA.items():\n",
    "    for text in lista_textos:\n",
    "        Y_NIIA.append(list(NIIA.keys()).index(clase))\n",
    "        \n",
    "for clase, lista_textos in NIIB.items():\n",
    "    for text in lista_textos:\n",
    "        Y_NIIB.append(list(NIIB.keys()).index(clase))\n",
    "    \n",
    "print(\"Vector de salidas Y para N1:\")\n",
    "print(Y_NI)\n",
    "print(\"Vector de salidas Y para N2A:\")\n",
    "print(Y_NIIA)\n",
    "print(\"Vector de salidas Y para N2B:\")\n",
    "print(Y_NIIB)"
   ]
  },
  {
   "cell_type": "code",
   "execution_count": 5,
   "metadata": {
    "id": "b_zEiblNqDxc",
    "outputId": "1f3aa9c1-f628-4e75-e037-e250f68dcd02"
   },
   "outputs": [],
   "source": [
    "# Importamos librerías para el filtrado de StopWords y tokenicación\n",
    "from nltk.tokenize import RegexpTokenizer\n",
    "from nltk.tokenize.treebank import TreebankWordDetokenizer\n",
    "from nltk.corpus import stopwords\n",
    "from keras.preprocessing.text import Tokenizer\n",
    "import re\n",
    "\n",
    "stop_words = set(stopwords.words('spanish'))"
   ]
  },
  {
   "cell_type": "code",
   "execution_count": 6,
   "metadata": {
    "id": "6EmAmUbVqDxn"
   },
   "outputs": [],
   "source": [
    "# Para cada enunciado quitamos las StopWords\n",
    "# También quitamos los acentos y filtramos signos de puntuación\n",
    "# lo hacemos mediante un metodo\n",
    "def Quitar_Stopwords(Textos):\n",
    "    X = list()\n",
    "    for sen in Textos:\n",
    "        sentence = sen\n",
    "        # Filtrado de stopword\n",
    "        for stopword in stop_words:\n",
    "            sentence = sentence.replace(\" \" + stopword + \" \", \" \")\n",
    "        sentence = sentence.replace(\"á\", \"a\")\n",
    "        sentence = sentence.replace(\"é\", \"e\")\n",
    "        sentence = sentence.replace(\"í\", \"i\")\n",
    "        sentence = sentence.replace(\"ó\", \"o\")\n",
    "        sentence = sentence.replace(\"ú\", \"u\")\n",
    "\n",
    "        # Remover espacios múltiples\n",
    "        sentence = re.sub(r'\\s+', ' ', sentence)\n",
    "        # Convertir todo a minúsculas\n",
    "        sentence = sentence.lower()\n",
    "        # Filtrado de signos de puntuación\n",
    "        tokenizer = RegexpTokenizer(r'\\w+')\n",
    "        # Tokenización del resultado\n",
    "        result = tokenizer.tokenize(sentence)\n",
    "        # Agregar al arreglo los textos \"destokenizados\" (Como texto nuevamente)\n",
    "        X.append(TreebankWordDetokenizer().detokenize(result))\n",
    "    return X"
   ]
  },
  {
   "cell_type": "code",
   "execution_count": 7,
   "metadata": {
    "id": "_8EIY5ZMqDxz"
   },
   "outputs": [],
   "source": [
    "# Obtenemos el vector de entradas (Textos limpios de StopWords)\n",
    "# para cada uno de los modelos que vamos a generar\n",
    "Textos_NI = list()\n",
    "for Lista in NI.values():\n",
    "    for Texto in Lista:\n",
    "        Textos_NI.append(Texto)\n",
    "        \n",
    "X_NI = Quitar_Stopwords(Textos_NI)\n",
    "\n",
    "Textos_NIIA = list()\n",
    "for Lista in NIIA.values():\n",
    "    for Texto in Lista:\n",
    "        Textos_NIIA.append(Texto)\n",
    "        \n",
    "X_NIIA = Quitar_Stopwords(Textos_NIIA)\n",
    "\n",
    "Textos_NIIB = list()\n",
    "for Lista in NIIB.values():\n",
    "    for Texto in Lista:\n",
    "        Textos_NIIB.append(Texto)\n",
    "        \n",
    "X_NIIB = Quitar_Stopwords(Textos_NIIB)"
   ]
  },
  {
   "cell_type": "code",
   "execution_count": 8,
   "metadata": {
    "id": "V_8rv5yPqDyX",
    "outputId": "6dae233e-db00-4936-c653-76e4bf3e746e"
   },
   "outputs": [
    {
     "name": "stdout",
     "output_type": "stream",
     "text": [
      "['quiero jugar juego', 'que tal si jugamos juego', 'juguemos juego', 'que juegos conoces', 'podemos jugar juego', 'juguemos algo', 'quiero juguemos', 'vamos jugar juego', 'quiero escuchar musica', 'puedes reproducir musica', 'quiero reproduzcas musica', 'quiero pongas cancion', 'activa reproductor musica', 'me agradaria escuchar musica', 'puedes poner musica algun servicio streamming', 'abre reproductor musical favor']\n",
      "['vamos jugar adivinanzas', 'quiero jugar adivinanzas', 'juguemos adivinanzas', 'quisiera jugar adivinar cosas', 'sabes jugar adivinanzas', 'quiero digas intente adivinar', 'puedes jugar adivinanzas conmigo', 'quiero juegues conmigo adivinar cosas', 'juguemos 20 preguntas', 'sabes como jugar 20 preguntas', 'quiero jugar 20 preguntas', 'juguemos 20 preguntas ahora', 'quiero jugar juego preguntas', 'quiero hagas preguntas trates adivinar pensando', 'el juego adivinas pensando despues hacer 20 preguntas', 'activa juego 20 preguntas', 'quiero jugar cierto falso', 'puedes poner juego cierto falso', 'sabes como jugar cierto falso', 'preguntas ciertas falsas', 'quiero jugar juego preguntas saber si cierta falsa', 'te sabes juego verdadero falso', 'me haces unas preguntas digo si ciertas falsas', 'hoy quiero juguemos cierto falso']\n",
      "['youtube', 'utiliza youtube', 'quiero uses youtube reproduccion', 'puedes hacerlo youtube', 'utiliza plataforma roja reproduccion videos', 'desde plataforma roja triangulo', 'por favor utiliza youtube reproducir musica', 'por favor pon musica youtube', 'spotify', 'utiliza plataforma spotify', 'por favor utiliza plataforma verde musica', 'no se llama verde rayas', 'de plataforma llama spotify', 'utiliza spotify favor', 'usa cuenta spotify', 'quiero escuchar musica spotify', 'usa amazon', 'reproducela amazon music favor', 'con cuenta amazon music', 'desde plataforma amazon', 'desde plataforma azul hacen entregas domicilio', 'puedes usar cuenta amazon music eso', 'quiero escuchar play list amazon', 'hoy quiero escuchar musica amazon music favor']\n"
     ]
    }
   ],
   "source": [
    "# Imprimimos la lista de los enunciados que resultan\n",
    "print(X_NI)\n",
    "print(X_NIIA)\n",
    "print(X_NIIB)"
   ]
  },
  {
   "cell_type": "code",
   "execution_count": 9,
   "metadata": {
    "id": "rVSHyayPqDyi"
   },
   "outputs": [],
   "source": [
    "# Importamos la librería para generar la matriz de entrada de textos\n",
    "# (El pad_sequence)\n",
    "from keras_preprocessing.sequence import pad_sequences\n",
    "\n",
    "# Cantidad de palabras máximas por ejemplo\n",
    "# (Las más utilizadas)\n",
    "maxlen = 5\n",
    "\n",
    "# Preparamos la capa de embeddingsn(Predefinimos una cantidad de\n",
    "# 5000 palabras consideradas como tokens\n",
    "tokenizer_NI = Tokenizer(num_words=5000)\n",
    "tokenizer_NIIA = Tokenizer(num_words=5000)\n",
    "tokenizer_NIIB = Tokenizer(num_words=5000)\n",
    "\n",
    "# Transforma cada texto en una secuencia de valores enteros para cada modelo que haremos\n",
    "tokenizer_NI.fit_on_texts(X_NI)\n",
    "X_NI_Tok = tokenizer_NI.texts_to_sequences(X_NI)\n",
    "tokenizer_NIIA.fit_on_texts(X_NIIA)\n",
    "X_NIIA_Tok = tokenizer_NIIA.texts_to_sequences(X_NIIA)\n",
    "tokenizer_NIIB.fit_on_texts(X_NIIB)\n",
    "X_NIIB_Tok = tokenizer_NIIB.texts_to_sequences(X_NIIB)\n",
    "\n",
    "# Especificamos la matriz (Con padding hasta maxlen)\n",
    "X_NI_train = pad_sequences(X_NI_Tok, padding='post', maxlen=maxlen)\n",
    "X_NIIA_train = pad_sequences(X_NIIA_Tok, padding='post', maxlen=maxlen)\n",
    "X_NIIB_train = pad_sequences(X_NIIB_Tok, padding='post', maxlen=maxlen)\n"
   ]
  },
  {
   "cell_type": "code",
   "execution_count": 10,
   "metadata": {
    "id": "lPCepYiWqDyr",
    "outputId": "cc179339-358f-4c64-96c8-9346a1a87bde"
   },
   "outputs": [
    {
     "name": "stdout",
     "output_type": "stream",
     "text": [
      "Matriz de entrada para NI:\n",
      "[[ 2  4  3  0  0]\n",
      " [ 6 10 11 12  3]\n",
      " [ 5  3  0  0  0]\n",
      " [ 6 13 14  0  0]\n",
      " [15  4  3  0  0]\n",
      " [ 5 16  0  0  0]\n",
      " [ 2  5  0  0  0]\n",
      " [17  4  3  0  0]\n",
      " [ 2  7  1  0  0]\n",
      " [ 8 18  1  0  0]\n",
      " [ 2 19  1  0  0]\n",
      " [ 2 20 21  0  0]\n",
      " [22  9  1  0  0]\n",
      " [23 24  7  1  0]\n",
      " [25  1 26 27 28]\n",
      " [29  9 30 31  0]]\n"
     ]
    }
   ],
   "source": [
    "print(\"Matriz de entrada para NI:\")\n",
    "print(X_NI_train)"
   ]
  },
  {
   "cell_type": "code",
   "execution_count": 11,
   "metadata": {
    "id": "jrkhqGluqDy3",
    "outputId": "920cfd66-d0f2-46b0-d751-ff002f8cfd11"
   },
   "outputs": [
    {
     "name": "stdout",
     "output_type": "stream",
     "text": [
      "Matriz de entrada para NIIA:\n",
      "[[20  1  6  0  0]\n",
      " [ 3  1  6  0  0]\n",
      " [ 8  6  0  0  0]\n",
      " [21  1  9 12  0]\n",
      " [10  1  6  0  0]\n",
      " [ 3 22 23  9  0]\n",
      " [13  1  6 14  0]\n",
      " [ 3 24 14  9 12]\n",
      " [ 8  4  2  0  0]\n",
      " [10 15  1  4  2]\n",
      " [ 3  1  4  2  0]\n",
      " [ 8  4  2 25  0]\n",
      " [ 3  1  5  2  0]\n",
      " [26  2 27  9 16]\n",
      " [16 30 31  4  2]\n",
      " [32  5  4  2  0]\n",
      " [ 3  1 11  7  0]\n",
      " [13 33  5 11  7]\n",
      " [10 15  1 11  7]\n",
      " [ 2 17 18  0  0]\n",
      " [ 2 34 19 35 36]\n",
      " [37 10  5 38  7]\n",
      " [ 2 42 19 17 18]\n",
      " [43  3  8 11  7]]\n"
     ]
    }
   ],
   "source": [
    "print(\"Matriz de entrada para NIIA:\")\n",
    "print(X_NIIA_train)"
   ]
  },
  {
   "cell_type": "code",
   "execution_count": 12,
   "metadata": {
    "id": "gcndmB1GqDzI",
    "outputId": "fb8ab50c-bc4f-4ddb-d760-eeeda30c326e"
   },
   "outputs": [
    {
     "name": "stdout",
     "output_type": "stream",
     "text": [
      "Matriz de entrada para NIIB:\n",
      "[[ 3  0  0  0  0]\n",
      " [ 4  3  0  0  0]\n",
      " [ 8 20  3 14  0]\n",
      " [15 21  3  0  0]\n",
      " [ 4  1 16 14 22]\n",
      " [10  1 16 23  0]\n",
      " [ 5  4  3 24  7]\n",
      " [11  5 25  7  3]\n",
      " [ 6  0  0  0  0]\n",
      " [ 4  1  6  0  0]\n",
      " [ 5  4  1 17  7]\n",
      " [26 27 18 17 28]\n",
      " [29  1 18  6  0]\n",
      " [ 4  6  5  0  0]\n",
      " [19 12  6  0  0]\n",
      " [ 8 13  7  6  0]\n",
      " [19  2  0  0  0]\n",
      " [30  2  9  5  0]\n",
      " [31 12  2  9  0]\n",
      " [10  1  2  0  0]\n",
      " [ 1 32 33 34 35]\n",
      " [36 12  2  9 37]\n",
      " [ 8 13 38 39  2]\n",
      " [13  7  2  9  5]]\n"
     ]
    }
   ],
   "source": [
    "print(\"Matriz de entrada para NIIB:\")\n",
    "print(X_NIIB_train)"
   ]
  },
  {
   "cell_type": "code",
   "execution_count": 15,
   "metadata": {
    "id": "KqwMAfx-qDzS"
   },
   "outputs": [],
   "source": [
    "# Declaración de librerías para manejo de arreglos (Numpy)\n",
    "from numpy import asarray\n",
    "from numpy import zeros\n",
    "\n",
    "# Lectura del archivo de embeddings\n",
    "embeddings_dictionary = dict()\n",
    "Embeddings_file = open('/home/dati/Desktop/UP/Word2Vect_Spanish.txt', encoding=\"utf8\")\n",
    "\n",
    "# Extraemos las características del archivo de embeddings\n",
    "# y las agregamos a un diccionario (Cada elemento es un vextor)\n",
    "for linea in Embeddings_file:\n",
    "    caracts = linea.split()\n",
    "    palabra = caracts[0]\n",
    "    vector = asarray(caracts[1:], dtype='float32')\n",
    "    embeddings_dictionary [palabra] = vector\n",
    "Embeddings_file.close()"
   ]
  },
  {
   "cell_type": "code",
   "execution_count": 16,
   "metadata": {
    "id": "StTQjg7rqDzb"
   },
   "outputs": [],
   "source": [
    "# Asignamos los embeddings correspondientes a cada matriz \n",
    "# con la que se entrenarán los modelos por medio de un método\n",
    "def Asignar_Embeddings(tokenizer, vocab_size):\n",
    "    # Generamos la matriz de embeddings (Con 300 Características)\n",
    "    embedding_matrix = zeros((vocab_size, 300))\n",
    "    for word, index in tokenizer.word_index.items():\n",
    "        # Extraemos el vector de embedding para cada palabra\n",
    "        embedding_vector = embeddings_dictionary.get(word)\n",
    "        # Si la palbra si existía en el vocabulario\n",
    "        # agregamos su vector de embeddings en la matriz\n",
    "        if embedding_vector is not None:\n",
    "            embedding_matrix[index] = embedding_vector\n",
    "    return embedding_matrix"
   ]
  },
  {
   "cell_type": "code",
   "execution_count": 17,
   "metadata": {
    "id": "eHCZerdtqDzh"
   },
   "outputs": [],
   "source": [
    "# Obtenemos las matrices de Embeddings para cada modelo\n",
    "# Y también el tamaño del vocabulario para cada uno\n",
    "vocab_size_NI = len(tokenizer_NI.word_index) + 1\n",
    "embedding_matrix_NI = Asignar_Embeddings(tokenizer_NI, vocab_size_NI)\n",
    "\n",
    "vocab_size_NIIA = len(tokenizer_NIIA.word_index) + 1\n",
    "embedding_matrix_NIIA = Asignar_Embeddings(tokenizer_NIIA, vocab_size_NIIA)\n",
    "\n",
    "vocab_size_NIIB = len(tokenizer_NIIB.word_index) + 1\n",
    "embedding_matrix_NIIB = Asignar_Embeddings(tokenizer_NIIB, vocab_size_NIIB)"
   ]
  },
  {
   "cell_type": "code",
   "execution_count": 18,
   "metadata": {
    "id": "6OOVzOViqDzr"
   },
   "outputs": [],
   "source": [
    "# Declaración de modelo Secuencial que usaremos para todos los casos\n",
    "try:\n",
    "    from keras.models import Sequential\n",
    "    from keras.layers.core import Dense\n",
    "    from keras.layers import LSTM\n",
    "    from keras.layers import Embedding\n",
    "except:\n",
    "    from tensorflow.keras.models import Sequential\n",
    "    from tensorflow.keras.layers import Dense\n",
    "    from tensorflow.keras.layers import LSTM\n",
    "    from tensorflow.keras.layers import Embedding"
   ]
  },
  {
   "cell_type": "code",
   "execution_count": 19,
   "metadata": {
    "id": "5pWpDUTnqD0D"
   },
   "outputs": [],
   "source": [
    "# Definición del método para tener la arquitectura de los modelos para cada nivel contextual\n",
    "def Definir_Modelos(vocab_size, embedding_matrix, X_train, labels):\n",
    "    # Declaración de las capas del modelo LSTM\n",
    "    model = Sequential()\n",
    "    embedding_layer = Embedding(vocab_size, 300, weights=[embedding_matrix], input_length=X_train.shape[1] , trainable=False)\n",
    "    model.add(embedding_layer)\n",
    "    model.add(LSTM(100, dropout=0.2, recurrent_dropout=0.2))\n",
    "    model.add(Dense(len(labels), activation='softmax'))\n",
    "\n",
    "    # Compilación del modelo\n",
    "    model.compile(loss='categorical_crossentropy', optimizer='adam', metrics=['accuracy'])\n",
    "    print(model.summary())\n",
    "\n",
    "    print(\"\\nPalabras en el vocabulario:\")\n",
    "    print(vocab_size)\n",
    "    return model"
   ]
  },
  {
   "cell_type": "code",
   "execution_count": 20,
   "metadata": {
    "id": "0fagAWujqD0M",
    "outputId": "ebd13cee-1f44-450a-d8df-efb7a0db57ea"
   },
   "outputs": [
    {
     "name": "stdout",
     "output_type": "stream",
     "text": [
      "Model: \"sequential\"\n",
      "_________________________________________________________________\n",
      " Layer (type)                Output Shape              Param #   \n",
      "=================================================================\n",
      " embedding (Embedding)       (None, 5, 300)            9600      \n",
      "                                                                 \n",
      " lstm (LSTM)                 (None, 100)               160400    \n",
      "                                                                 \n",
      " dense (Dense)               (None, 2)                 202       \n",
      "                                                                 \n",
      "=================================================================\n",
      "Total params: 170202 (664.85 KB)\n",
      "Trainable params: 160602 (627.35 KB)\n",
      "Non-trainable params: 9600 (37.50 KB)\n",
      "_________________________________________________________________\n",
      "None\n",
      "\n",
      "Palabras en el vocabulario:\n",
      "32\n"
     ]
    }
   ],
   "source": [
    "# Generamos la arquitectura para el modelo de NI\n",
    "model_NI = Definir_Modelos(vocab_size_NI, embedding_matrix_NI, X_NI_train, NI.keys())"
   ]
  },
  {
   "cell_type": "code",
   "execution_count": 21,
   "metadata": {
    "id": "gr9tY4nAqD0a",
    "outputId": "90ca207d-24e6-4705-a67b-e5f79ef0aa28"
   },
   "outputs": [
    {
     "name": "stdout",
     "output_type": "stream",
     "text": [
      "Model: \"sequential_1\"\n",
      "_________________________________________________________________\n",
      " Layer (type)                Output Shape              Param #   \n",
      "=================================================================\n",
      " embedding_1 (Embedding)     (None, 5, 300)            13200     \n",
      "                                                                 \n",
      " lstm_1 (LSTM)               (None, 100)               160400    \n",
      "                                                                 \n",
      " dense_1 (Dense)             (None, 3)                 303       \n",
      "                                                                 \n",
      "=================================================================\n",
      "Total params: 173903 (679.31 KB)\n",
      "Trainable params: 160703 (627.75 KB)\n",
      "Non-trainable params: 13200 (51.56 KB)\n",
      "_________________________________________________________________\n",
      "None\n",
      "\n",
      "Palabras en el vocabulario:\n",
      "44\n"
     ]
    }
   ],
   "source": [
    "# Generamos la arquitectura para el modelo de NIIA\n",
    "model_NIIA = Definir_Modelos(vocab_size_NIIA, embedding_matrix_NIIA, X_NIIA_train, NIIA.keys())"
   ]
  },
  {
   "cell_type": "code",
   "execution_count": 22,
   "metadata": {
    "id": "2LOUkuR4qD0h",
    "outputId": "cce08e90-3504-4be2-9cfd-4561e05e3249"
   },
   "outputs": [
    {
     "name": "stdout",
     "output_type": "stream",
     "text": [
      "Model: \"sequential_2\"\n",
      "_________________________________________________________________\n",
      " Layer (type)                Output Shape              Param #   \n",
      "=================================================================\n",
      " embedding_2 (Embedding)     (None, 5, 300)            12300     \n",
      "                                                                 \n",
      " lstm_2 (LSTM)               (None, 100)               160400    \n",
      "                                                                 \n",
      " dense_2 (Dense)             (None, 3)                 303       \n",
      "                                                                 \n",
      "=================================================================\n",
      "Total params: 173003 (675.79 KB)\n",
      "Trainable params: 160703 (627.75 KB)\n",
      "Non-trainable params: 12300 (48.05 KB)\n",
      "_________________________________________________________________\n",
      "None\n",
      "\n",
      "Palabras en el vocabulario:\n",
      "41\n"
     ]
    }
   ],
   "source": [
    "# Generamos la arquitectura para el modelo de NIIB\n",
    "model_NIIB = Definir_Modelos(vocab_size_NIIB, embedding_matrix_NIIB, X_NIIB_train, NIIB.keys())"
   ]
  },
  {
   "cell_type": "code",
   "execution_count": 24,
   "metadata": {
    "id": "N4jIB2_jqD0p"
   },
   "outputs": [],
   "source": [
    "# Declaramos el método para entrenar cada modelo\n",
    "try:\n",
    "    from keras.utils.np_utils import to_categorical \n",
    "except:\n",
    "    from tensorflow.keras.utils import to_categorical\n",
    "\n",
    "def Entrenar_Modelos(X_train, Y, model, labels):\n",
    "    # Declaramos librería para convertir la salida en un vector \n",
    "    # de X elementos con activación en la columna correspondiente\n",
    "    # a su categoría\n",
    "    train_labels = to_categorical(Y, num_classes=len(labels))\n",
    "    print('Matriz de salidas')\n",
    "    print(train_labels)\n",
    "\n",
    "    # Ajuste de los datos de entrenamiento al modelo creado\n",
    "    history = model.fit(X_train, train_labels, epochs=30, batch_size=1, verbose=1)\n",
    "\n",
    "    # Cálculo de los procentajes de Eficiencia y pérdida \n",
    "    score = model.evaluate(X_train, train_labels, verbose=1)\n",
    "    print(\"\\nTest Loss:\", score[0])\n",
    "    print(\"Test Accuracy:\", score[1])\n",
    "    return history"
   ]
  },
  {
   "cell_type": "code",
   "execution_count": 25,
   "metadata": {
    "id": "Z-MVeuwKqD0w",
    "outputId": "59ec4dee-801c-4e1f-d15e-332fa2890a5a"
   },
   "outputs": [
    {
     "name": "stdout",
     "output_type": "stream",
     "text": [
      "Matriz de salidas\n",
      "[[1. 0.]\n",
      " [1. 0.]\n",
      " [1. 0.]\n",
      " [1. 0.]\n",
      " [1. 0.]\n",
      " [1. 0.]\n",
      " [1. 0.]\n",
      " [1. 0.]\n",
      " [0. 1.]\n",
      " [0. 1.]\n",
      " [0. 1.]\n",
      " [0. 1.]\n",
      " [0. 1.]\n",
      " [0. 1.]\n",
      " [0. 1.]\n",
      " [0. 1.]]\n",
      "Epoch 1/30\n"
     ]
    },
    {
     "name": "stdout",
     "output_type": "stream",
     "text": [
      "16/16 [==============================] - 3s 14ms/step - loss: 0.6683 - accuracy: 0.6250\n",
      "Epoch 2/30\n",
      "16/16 [==============================] - 0s 14ms/step - loss: 0.5181 - accuracy: 1.0000\n",
      "Epoch 3/30\n",
      "16/16 [==============================] - 0s 14ms/step - loss: 0.2034 - accuracy: 1.0000\n",
      "Epoch 4/30\n",
      "16/16 [==============================] - 0s 15ms/step - loss: 0.0210 - accuracy: 1.0000\n",
      "Epoch 5/30\n",
      "16/16 [==============================] - 0s 18ms/step - loss: 0.0050 - accuracy: 1.0000\n",
      "Epoch 6/30\n",
      "16/16 [==============================] - 0s 15ms/step - loss: 0.0012 - accuracy: 1.0000\n",
      "Epoch 7/30\n",
      "16/16 [==============================] - 0s 21ms/step - loss: 0.0011 - accuracy: 1.0000\n",
      "Epoch 8/30\n",
      "16/16 [==============================] - 0s 18ms/step - loss: 7.8899e-04 - accuracy: 1.0000\n",
      "Epoch 9/30\n",
      "16/16 [==============================] - 0s 21ms/step - loss: 6.3185e-04 - accuracy: 1.0000\n",
      "Epoch 10/30\n",
      "16/16 [==============================] - 0s 17ms/step - loss: 7.5399e-04 - accuracy: 1.0000\n",
      "Epoch 11/30\n",
      "16/16 [==============================] - 0s 14ms/step - loss: 2.8466e-04 - accuracy: 1.0000\n",
      "Epoch 12/30\n",
      "16/16 [==============================] - 0s 16ms/step - loss: 7.1450e-04 - accuracy: 1.0000\n",
      "Epoch 13/30\n",
      "16/16 [==============================] - 0s 16ms/step - loss: 3.7182e-04 - accuracy: 1.0000\n",
      "Epoch 14/30\n",
      "16/16 [==============================] - 0s 15ms/step - loss: 2.8748e-04 - accuracy: 1.0000\n",
      "Epoch 15/30\n",
      "16/16 [==============================] - 0s 22ms/step - loss: 5.4627e-04 - accuracy: 1.0000\n",
      "Epoch 16/30\n",
      "16/16 [==============================] - 0s 14ms/step - loss: 4.3097e-04 - accuracy: 1.0000\n",
      "Epoch 17/30\n",
      "16/16 [==============================] - 0s 17ms/step - loss: 1.5307e-04 - accuracy: 1.0000\n",
      "Epoch 18/30\n",
      "16/16 [==============================] - 0s 15ms/step - loss: 1.5338e-04 - accuracy: 1.0000\n",
      "Epoch 19/30\n",
      "16/16 [==============================] - 0s 15ms/step - loss: 2.0595e-04 - accuracy: 1.0000\n",
      "Epoch 20/30\n",
      "16/16 [==============================] - 0s 15ms/step - loss: 1.8108e-04 - accuracy: 1.0000\n",
      "Epoch 21/30\n",
      "16/16 [==============================] - 0s 13ms/step - loss: 7.3613e-05 - accuracy: 1.0000\n",
      "Epoch 22/30\n",
      "16/16 [==============================] - 0s 15ms/step - loss: 1.2426e-04 - accuracy: 1.0000\n",
      "Epoch 23/30\n",
      "16/16 [==============================] - 0s 14ms/step - loss: 8.9216e-05 - accuracy: 1.0000\n",
      "Epoch 24/30\n",
      "16/16 [==============================] - 0s 15ms/step - loss: 1.1705e-04 - accuracy: 1.0000\n",
      "Epoch 25/30\n",
      "16/16 [==============================] - 0s 20ms/step - loss: 1.4829e-04 - accuracy: 1.0000\n",
      "Epoch 26/30\n",
      "16/16 [==============================] - 0s 15ms/step - loss: 4.9052e-05 - accuracy: 1.0000\n",
      "Epoch 27/30\n",
      "16/16 [==============================] - 0s 15ms/step - loss: 5.2502e-05 - accuracy: 1.0000\n",
      "Epoch 28/30\n",
      "16/16 [==============================] - 0s 14ms/step - loss: 4.4916e-05 - accuracy: 1.0000\n",
      "Epoch 29/30\n",
      "16/16 [==============================] - 0s 16ms/step - loss: 9.4948e-05 - accuracy: 1.0000\n",
      "Epoch 30/30\n",
      "16/16 [==============================] - 0s 14ms/step - loss: 6.5846e-05 - accuracy: 1.0000\n",
      "1/1 [==============================] - 1s 551ms/step - loss: 4.4526e-05 - accuracy: 1.0000\n",
      "\n",
      "Test Loss: 4.4526121200760826e-05\n",
      "Test Accuracy: 1.0\n"
     ]
    }
   ],
   "source": [
    "# Entrenamos el modelo del nivel NI y obtenemos el historial de las épocas para realizar su gráfica\n",
    "history_NI = Entrenar_Modelos(X_NI_train, Y_NI, model_NI, NI.keys())"
   ]
  },
  {
   "cell_type": "code",
   "execution_count": 26,
   "metadata": {
    "id": "ILAqDd2wqD06",
    "outputId": "1b9cd1cd-aac4-4622-90c2-f8c2cc3e2387"
   },
   "outputs": [
    {
     "name": "stdout",
     "output_type": "stream",
     "text": [
      "Matriz de salidas\n",
      "[[1. 0. 0.]\n",
      " [1. 0. 0.]\n",
      " [1. 0. 0.]\n",
      " [1. 0. 0.]\n",
      " [1. 0. 0.]\n",
      " [1. 0. 0.]\n",
      " [1. 0. 0.]\n",
      " [1. 0. 0.]\n",
      " [0. 1. 0.]\n",
      " [0. 1. 0.]\n",
      " [0. 1. 0.]\n",
      " [0. 1. 0.]\n",
      " [0. 1. 0.]\n",
      " [0. 1. 0.]\n",
      " [0. 1. 0.]\n",
      " [0. 1. 0.]\n",
      " [0. 0. 1.]\n",
      " [0. 0. 1.]\n",
      " [0. 0. 1.]\n",
      " [0. 0. 1.]\n",
      " [0. 0. 1.]\n",
      " [0. 0. 1.]\n",
      " [0. 0. 1.]\n",
      " [0. 0. 1.]]\n",
      "Epoch 1/30\n",
      "24/24 [==============================] - 3s 13ms/step - loss: 1.0790 - accuracy: 0.2917\n",
      "Epoch 2/30\n",
      "24/24 [==============================] - 0s 13ms/step - loss: 0.9486 - accuracy: 0.8333\n",
      "Epoch 3/30\n",
      "24/24 [==============================] - 0s 13ms/step - loss: 0.7859 - accuracy: 0.8750\n",
      "Epoch 4/30\n",
      "24/24 [==============================] - 0s 13ms/step - loss: 0.4744 - accuracy: 1.0000\n",
      "Epoch 5/30\n",
      "24/24 [==============================] - 0s 13ms/step - loss: 0.2448 - accuracy: 0.9167\n",
      "Epoch 6/30\n",
      "24/24 [==============================] - 0s 14ms/step - loss: 0.2322 - accuracy: 0.9167\n",
      "Epoch 7/30\n",
      "24/24 [==============================] - 0s 13ms/step - loss: 0.1311 - accuracy: 1.0000\n",
      "Epoch 8/30\n",
      "24/24 [==============================] - 0s 15ms/step - loss: 0.0458 - accuracy: 1.0000\n",
      "Epoch 9/30\n",
      "24/24 [==============================] - 0s 17ms/step - loss: 0.0184 - accuracy: 1.0000\n",
      "Epoch 10/30\n",
      "24/24 [==============================] - 0s 13ms/step - loss: 0.0116 - accuracy: 1.0000\n",
      "Epoch 11/30\n",
      "24/24 [==============================] - 0s 14ms/step - loss: 0.0091 - accuracy: 1.0000\n",
      "Epoch 12/30\n",
      "24/24 [==============================] - 0s 14ms/step - loss: 0.0056 - accuracy: 1.0000\n",
      "Epoch 13/30\n",
      "24/24 [==============================] - 0s 14ms/step - loss: 0.0064 - accuracy: 1.0000\n",
      "Epoch 14/30\n",
      "24/24 [==============================] - 0s 19ms/step - loss: 0.0067 - accuracy: 1.0000\n",
      "Epoch 15/30\n",
      "24/24 [==============================] - 0s 14ms/step - loss: 0.0034 - accuracy: 1.0000\n",
      "Epoch 16/30\n",
      "24/24 [==============================] - 0s 14ms/step - loss: 0.0029 - accuracy: 1.0000\n",
      "Epoch 17/30\n",
      "24/24 [==============================] - 0s 17ms/step - loss: 7.6477e-04 - accuracy: 1.0000\n",
      "Epoch 18/30\n",
      "24/24 [==============================] - 0s 14ms/step - loss: 0.0019 - accuracy: 1.0000\n",
      "Epoch 19/30\n",
      "24/24 [==============================] - 0s 14ms/step - loss: 0.0022 - accuracy: 1.0000\n",
      "Epoch 20/30\n",
      "24/24 [==============================] - 0s 14ms/step - loss: 0.0024 - accuracy: 1.0000\n",
      "Epoch 21/30\n",
      "24/24 [==============================] - 0s 13ms/step - loss: 0.0015 - accuracy: 1.0000\n",
      "Epoch 22/30\n",
      "24/24 [==============================] - 0s 14ms/step - loss: 0.0014 - accuracy: 1.0000\n",
      "Epoch 23/30\n",
      "24/24 [==============================] - 0s 14ms/step - loss: 0.0015 - accuracy: 1.0000\n",
      "Epoch 24/30\n",
      "24/24 [==============================] - 0s 13ms/step - loss: 9.2096e-04 - accuracy: 1.0000\n",
      "Epoch 25/30\n",
      "24/24 [==============================] - 0s 17ms/step - loss: 0.0013 - accuracy: 1.0000\n",
      "Epoch 26/30\n",
      "24/24 [==============================] - 0s 13ms/step - loss: 0.0012 - accuracy: 1.0000\n",
      "Epoch 27/30\n",
      "24/24 [==============================] - 0s 14ms/step - loss: 0.0014 - accuracy: 1.0000\n",
      "Epoch 28/30\n",
      "24/24 [==============================] - 0s 13ms/step - loss: 0.0014 - accuracy: 1.0000\n",
      "Epoch 29/30\n",
      "24/24 [==============================] - 0s 14ms/step - loss: 0.0020 - accuracy: 1.0000\n",
      "Epoch 30/30\n",
      "24/24 [==============================] - 0s 13ms/step - loss: 8.5838e-04 - accuracy: 1.0000\n",
      "1/1 [==============================] - 0s 379ms/step - loss: 3.4495e-04 - accuracy: 1.0000\n",
      "\n",
      "Test Loss: 0.00034494756255298853\n",
      "Test Accuracy: 1.0\n"
     ]
    }
   ],
   "source": [
    "# Entrenamos el modelo del nivel NIIA y obtenemos el historial de las épocas para realizar su gráfica\n",
    "history_NIIA = Entrenar_Modelos(X_NIIA_train, Y_NIIA, model_NIIA, NIIA.keys())"
   ]
  },
  {
   "cell_type": "code",
   "execution_count": 27,
   "metadata": {
    "id": "YWlw-BCFqD1C",
    "outputId": "c0bafdb6-c70a-4cca-80b1-b3201fa5084e"
   },
   "outputs": [
    {
     "name": "stdout",
     "output_type": "stream",
     "text": [
      "Matriz de salidas\n",
      "[[1. 0. 0.]\n",
      " [1. 0. 0.]\n",
      " [1. 0. 0.]\n",
      " [1. 0. 0.]\n",
      " [1. 0. 0.]\n",
      " [1. 0. 0.]\n",
      " [1. 0. 0.]\n",
      " [1. 0. 0.]\n",
      " [0. 1. 0.]\n",
      " [0. 1. 0.]\n",
      " [0. 1. 0.]\n",
      " [0. 1. 0.]\n",
      " [0. 1. 0.]\n",
      " [0. 1. 0.]\n",
      " [0. 1. 0.]\n",
      " [0. 1. 0.]\n",
      " [0. 0. 1.]\n",
      " [0. 0. 1.]\n",
      " [0. 0. 1.]\n",
      " [0. 0. 1.]\n",
      " [0. 0. 1.]\n",
      " [0. 0. 1.]\n",
      " [0. 0. 1.]\n",
      " [0. 0. 1.]]\n",
      "Epoch 1/30\n",
      "24/24 [==============================] - 3s 11ms/step - loss: 1.0889 - accuracy: 0.3333\n",
      "Epoch 2/30\n",
      "24/24 [==============================] - 0s 14ms/step - loss: 1.0235 - accuracy: 0.5000\n",
      "Epoch 3/30\n",
      "24/24 [==============================] - 0s 11ms/step - loss: 0.9124 - accuracy: 0.8333\n",
      "Epoch 4/30\n",
      "24/24 [==============================] - 0s 11ms/step - loss: 0.7235 - accuracy: 0.8333\n",
      "Epoch 5/30\n",
      "24/24 [==============================] - 0s 11ms/step - loss: 0.4480 - accuracy: 0.8750\n",
      "Epoch 6/30\n",
      "24/24 [==============================] - 0s 11ms/step - loss: 0.2228 - accuracy: 0.9583\n",
      "Epoch 7/30\n",
      "24/24 [==============================] - 0s 11ms/step - loss: 0.1765 - accuracy: 0.9583\n",
      "Epoch 8/30\n",
      "24/24 [==============================] - 0s 11ms/step - loss: 0.2706 - accuracy: 0.8750\n",
      "Epoch 9/30\n",
      "24/24 [==============================] - 0s 11ms/step - loss: 0.1325 - accuracy: 1.0000\n",
      "Epoch 10/30\n",
      "24/24 [==============================] - 0s 11ms/step - loss: 0.0504 - accuracy: 1.0000\n",
      "Epoch 11/30\n",
      "24/24 [==============================] - 0s 11ms/step - loss: 0.0356 - accuracy: 1.0000\n",
      "Epoch 12/30\n",
      "24/24 [==============================] - 0s 15ms/step - loss: 0.0664 - accuracy: 0.9583\n",
      "Epoch 13/30\n",
      "24/24 [==============================] - 0s 11ms/step - loss: 0.0215 - accuracy: 1.0000\n",
      "Epoch 14/30\n",
      "24/24 [==============================] - 0s 11ms/step - loss: 0.0117 - accuracy: 1.0000\n",
      "Epoch 15/30\n",
      "24/24 [==============================] - 0s 12ms/step - loss: 0.0039 - accuracy: 1.0000\n",
      "Epoch 16/30\n",
      "24/24 [==============================] - 0s 11ms/step - loss: 0.0062 - accuracy: 1.0000\n",
      "Epoch 17/30\n",
      "24/24 [==============================] - 0s 11ms/step - loss: 0.0034 - accuracy: 1.0000\n",
      "Epoch 18/30\n",
      "24/24 [==============================] - 0s 11ms/step - loss: 0.0041 - accuracy: 1.0000\n",
      "Epoch 19/30\n",
      "24/24 [==============================] - 0s 11ms/step - loss: 0.0071 - accuracy: 1.0000\n",
      "Epoch 20/30\n",
      "24/24 [==============================] - 0s 11ms/step - loss: 0.0035 - accuracy: 1.0000\n",
      "Epoch 21/30\n",
      "24/24 [==============================] - 0s 11ms/step - loss: 0.0027 - accuracy: 1.0000\n",
      "Epoch 22/30\n",
      "24/24 [==============================] - 0s 14ms/step - loss: 0.0017 - accuracy: 1.0000\n",
      "Epoch 23/30\n",
      "24/24 [==============================] - 0s 11ms/step - loss: 0.0023 - accuracy: 1.0000\n",
      "Epoch 24/30\n",
      "24/24 [==============================] - 0s 11ms/step - loss: 0.0067 - accuracy: 1.0000\n",
      "Epoch 25/30\n",
      "24/24 [==============================] - 0s 11ms/step - loss: 0.0024 - accuracy: 1.0000\n",
      "Epoch 26/30\n",
      "24/24 [==============================] - 0s 11ms/step - loss: 0.0013 - accuracy: 1.0000\n",
      "Epoch 27/30\n",
      "24/24 [==============================] - 0s 11ms/step - loss: 8.6841e-04 - accuracy: 1.0000\n",
      "Epoch 28/30\n",
      "24/24 [==============================] - 0s 11ms/step - loss: 7.5316e-04 - accuracy: 1.0000\n",
      "Epoch 29/30\n",
      "24/24 [==============================] - 0s 15ms/step - loss: 2.4880e-04 - accuracy: 1.0000\n",
      "Epoch 30/30\n",
      "24/24 [==============================] - 0s 14ms/step - loss: 8.2939e-04 - accuracy: 1.0000\n",
      "1/1 [==============================] - 1s 584ms/step - loss: 3.3178e-04 - accuracy: 1.0000\n",
      "\n",
      "Test Loss: 0.0003317765367683023\n",
      "Test Accuracy: 1.0\n"
     ]
    }
   ],
   "source": [
    "# Entrenamos el modelo del nivel NIIB y obtenemos el historial de las épocas para realizar su gráfica\n",
    "history_NIIB = Entrenar_Modelos(X_NIIB_train, Y_NIIB, model_NIIB, NIIB.keys())"
   ]
  },
  {
   "cell_type": "code",
   "execution_count": 28,
   "metadata": {
    "id": "jV7UPQIHqD1P"
   },
   "outputs": [],
   "source": [
    "# Método para hacer la gráfica de cada modelo\n",
    "# época a época para ver su evolución\n",
    "import matplotlib.pyplot as plt\n",
    "\n",
    "def Grafica_Modelo(history):\n",
    "    # Parámetros de ploteo para la gráfica\n",
    "    plt.figure(figsize=(12,5))\n",
    "    plt.ylim(-0.1, 1.1)\n",
    "    plt.plot(history.history['accuracy'])\n",
    "    plt.plot(history.history['loss'])\n",
    "    plt.title('model accuracy')\n",
    "    plt.ylabel('accuracy')\n",
    "    plt.xlabel('epoch')\n",
    "    plt.legend(['Acc','Loss'])\n",
    "    plt.show()"
   ]
  },
  {
   "cell_type": "code",
   "execution_count": 29,
   "metadata": {
    "id": "m7X-IjGsqD1W",
    "outputId": "f59a7610-4adb-4eba-ff5c-16d840add32d"
   },
   "outputs": [
    {
     "data": {
      "image/png": "[encoded data removed]",
      "text/plain": [
       "<Figure size 1200x500 with 1 Axes>"
      ]
     },
     "metadata": {},
     "output_type": "display_data"
    }
   ],
   "source": [
    "# Graficar el modelo NI\n",
    "Grafica_Modelo(history_NI)"
   ]
  },
  {
   "cell_type": "code",
   "execution_count": 30,
   "metadata": {
    "id": "sfir3uYHqD1h",
    "outputId": "381d747b-a309-466f-d4ae-3732d05f9363"
   },
   "outputs": [
    {
     "data": {
      "image/png": "[encoded data removed]",
      "text/plain": [
       "<Figure size 1200x500 with 1 Axes>"
      ]
     },
     "metadata": {},
     "output_type": "display_data"
    }
   ],
   "source": [
    "# Graficar el modelo NIIA\n",
    "Grafica_Modelo(history_NIIA)"
   ]
  },
  {
   "cell_type": "code",
   "execution_count": 31,
   "metadata": {
    "id": "le9epcUPqD1n",
    "outputId": "9adce420-b1da-4759-c948-4ec43f08f4e5"
   },
   "outputs": [
    {
     "data": {
      "image/png": "[encoded data removed]",
      "text/plain": [
       "<Figure size 1200x500 with 1 Axes>"
      ]
     },
     "metadata": {},
     "output_type": "display_data"
    }
   ],
   "source": [
    "# Graficar el modelo NIIB\n",
    "Grafica_Modelo(history_NIIB)"
   ]
  },
  {
   "cell_type": "markdown",
   "metadata": {
    "id": "In7eWoTIqD1u"
   },
   "source": [
    "# Programación del Árbol conversacional"
   ]
  },
  {
   "cell_type": "code",
   "execution_count": 32,
   "metadata": {
    "id": "PCsNvV_oqD1y"
   },
   "outputs": [],
   "source": [
    "# El árbol conversacional debe de estar en un estado específico\n",
    "# iniciar en el nivel contextual 1, e ir avanzando conforme a\n",
    "# las decisiones que toma el usuario, como si fuera una máquina \n",
    "# de estados\n",
    "\n",
    "def instancer(inp, model, tags):\n",
    "    inp = inp.lower().replace(\"á\", \"a\").replace(\"é\", \"e\").replace(\"í\", \"i\").replace(\"ó\", \"o\")\n",
    "    inp = inp.replace(\"ú\", \"u\").replace(\"¿\", \"\").replace(\"?\", \"\")\n",
    "    txt = [inp]\n",
    "    seq = tokenizer_NI.texts_to_sequences(txt)\n",
    "    padded = pad_sequences(seq, maxlen=maxlen)\n",
    "    results = model.predict(padded)\n",
    "    results_index = numpy.argmax(results)\n",
    "    tag = list(tags.keys())[results_index]\n",
    "    maxscore = numpy.max(results)\n",
    "    return tag, maxscore"
   ]
  },
  {
   "cell_type": "code",
   "execution_count": 33,
   "metadata": {
    "id": "hACpbGDKqD14"
   },
   "outputs": [],
   "source": [
    "# Función del Nivel contextual 1:\n",
    "def Activar_NI():\n",
    "    # Pregunta inicial cuando se ingresa en el nivel contextual NI\n",
    "    print(\"\\nChatBot: ¿En qué puedo ayudarte?\\n\")    \n",
    "    \n",
    "    while True:\n",
    "        inp = input(\"     Tú: \")\n",
    "        tag, maxscore = instancer(inp, model_NI, NI)\n",
    "        \n",
    "        if maxscore > 0.8 or inp == 'salir':\n",
    "            break\n",
    "        else:\n",
    "            print(\"\\nChatBot: Lo siento, pero no entendí tu petición, ¿Podrías decirlo de otra forma?\\n\")\n",
    "    \n",
    "    if inp == 'salir':\n",
    "        print(\"\\nChatBot: Hasta luego, fue un gusto hablar contigo\\n\")\n",
    "        return 'salir'\n",
    "    \n",
    "    if tag == 'Jugar_Juego':\n",
    "        if inp.count('adivinanzas') > 0:\n",
    "            return 'NIIA1'\n",
    "        elif inp.count('20 preguntas') > 0:\n",
    "            return 'NIIA2'\n",
    "        elif inp.count('cierto o falso') > 0:\n",
    "            return 'NIIA3'\n",
    "        else:\n",
    "            return 'NIIA'\n",
    "    \n",
    "    if tag == 'Reproducir_Musica':\n",
    "        if inp.count('youtube') > 0:\n",
    "            return 'NIIB1'\n",
    "        elif inp.count('spotify') > 0:\n",
    "            return 'NIIB2'\n",
    "        elif inp.count('amazon') > 0:\n",
    "            return 'NIIB3'\n",
    "        else:\n",
    "            return 'NIIB'"
   ]
  },
  {
   "cell_type": "code",
   "execution_count": 34,
   "metadata": {
    "id": "iK-5AY2LqD2E"
   },
   "outputs": [],
   "source": [
    "# Función del Nivel contextual IIA:\n",
    "def Activar_NIIA():\n",
    "    # Pregunta inicial cuando se ingresa en el nivel contextual NIIA\n",
    "    print(\"\\nChatBot: Perfecto ¿Qué te gustaría jugar?\\n\")    \n",
    "    \n",
    "    while True:\n",
    "        inp = input(\"     Tú: \")\n",
    "        tag, maxscore = instancer(inp, model_NIIA, NIIA)\n",
    "        \n",
    "        if maxscore > 0.5 or inp == 'salir' or inp == 'volver':\n",
    "            break\n",
    "        else:\n",
    "            print(\"\\nChatBot: Lo siento, pero no entendí ¿Qué juego quieres jugar?\\n\")\n",
    "    \n",
    "    if inp == 'volver':\n",
    "        return 'NI'\n",
    "    \n",
    "    if inp == 'salir':\n",
    "        print(\"\\nChatBot: Hasta luego, fue un gusto hablar contigo\\n\")\n",
    "        return 'salir'\n",
    "    \n",
    "    if tag == 'Adivinanzas':\n",
    "        return 'NIIA1'\n",
    "    \n",
    "    if tag == '20_preguntas':\n",
    "        return 'NIIA2'\n",
    "    \n",
    "    if tag == 'Cierto_Falso':\n",
    "        return 'NIIA3'"
   ]
  },
  {
   "cell_type": "code",
   "execution_count": 35,
   "metadata": {
    "id": "ZGheRQW6qD2M"
   },
   "outputs": [],
   "source": [
    "# Función del Nivel contextual IIB:\n",
    "def Activar_NIIB():\n",
    "    # Pregunta inicial cuando se ingresa en el nivel contextual NIIA\n",
    "    print(\"\\nChatBot: Perfecto ¿En qué plataforma te gustaría escuchar música?\\n\")    \n",
    "    \n",
    "    while True:\n",
    "        inp = input(\"     Tú: \")\n",
    "        tag, maxscore = instancer(inp, model_NIIB, NIIB)\n",
    "        \n",
    "        if maxscore > 0.5 or inp == 'salir' or inp == 'volver':\n",
    "            break\n",
    "        else:\n",
    "            print(\"\\nChatBot: Lo siento, pero no entendí ¿Qué plataforma quieres usar?\\n\")\n",
    "    \n",
    "    if inp == 'volver':\n",
    "        return 'NI'\n",
    "    \n",
    "    if inp == 'salir':\n",
    "        print(\"\\nChatBot: Hasta luego, fue un gusto hablar contigo\\n\")\n",
    "        return 'salir'\n",
    "    \n",
    "    if tag == 'Youtube':\n",
    "        return 'NIIB1'\n",
    "    \n",
    "    if tag == 'Spotify':\n",
    "        return 'NIIB2'\n",
    "    \n",
    "    if tag == 'Amazon':\n",
    "        return 'NIIB3'"
   ]
  },
  {
   "cell_type": "code",
   "execution_count": 36,
   "metadata": {
    "id": "4AopUVTyqD2V"
   },
   "outputs": [],
   "source": [
    "# Función del Nivel contextual IIA1:\n",
    "def Activar_NIIA1():\n",
    "    # Pregunta inicial cuando se ingresa en el nivel contextual NIIA1\n",
    "    print(\"\\nChatBot: Genial, adivinanzas, ¿Sobre qué tema quieres jugar?\\n\")    \n",
    "    \n",
    "    while True:\n",
    "        inp = input(\"     Tú: \").lower()\n",
    "        \n",
    "        if inp == 'volver':\n",
    "            return 'NI'\n",
    "        elif inp == 'salir':\n",
    "            print(\"\\nChatBot: Hasta luego, fue un gusto hablar contigo\\n\")\n",
    "            return 'salir'\n",
    "        elif inp.count('animales') > 0:\n",
    "            print(\"\\nChatBot: Muy bien, serán adivinanzas de Animales entonces, vamos a empezar\\n\")\n",
    "            return 'salir'\n",
    "        elif inp.count('planetas') > 0:\n",
    "            print(\"\\nChatBot: Muy bien, serán adivinanzas de Planetas entonces, vamos a empezar\\n\")\n",
    "            return 'salir'\n",
    "        elif inp.count('paises') > 0:\n",
    "            print(\"\\nChatBot: Muy bien, serán adivinanzas de Países entonces, vamos a empezar\\n\")\n",
    "            return 'salir'\n",
    "        else:\n",
    "            print(\"\\nChatBot: ¿Podrías repetirme qué tipo de adivinanzas quieres jugar?\\n\")"
   ]
  },
  {
   "cell_type": "code",
   "execution_count": 37,
   "metadata": {
    "id": "aDMr1CxZqD2p"
   },
   "outputs": [],
   "source": [
    "# Función del Nivel contextual IIA2:\n",
    "def Activar_NIIA2():\n",
    "    # Pregunta inicial cuando se ingresa en el nivel contextual NIIA2\n",
    "    print(\"\\nChatBot: Genial, 20 preguntas, ¿En qué dificultad quieres jugar?\\n\")    \n",
    "    \n",
    "    while True:\n",
    "        inp = input(\"     Tú: \").lower()\n",
    "        \n",
    "        if inp == 'volver':\n",
    "            return 'NI'\n",
    "        elif inp == 'salir':\n",
    "            print(\"\\nChatBot: Hasta luego, fue un gusto hablar contigo\\n\")\n",
    "            return 'salir'\n",
    "        elif inp.count('facil') > 0:\n",
    "            print(\"\\nChatBot: Muy bien, será un juego tranquilo y fáci entonces\\n\")\n",
    "            return 'salir'\n",
    "        elif inp.count('media') > 0:\n",
    "            print(\"\\nChatBot: Muy bien, será la dificultad estándar entonces\\n\")\n",
    "            return 'salir'\n",
    "        elif inp.count('dificil') > 0:\n",
    "            print(\"\\nChatBot: Muy bien, parece que te gustan los retos, será la dificultad difícil\\n\")\n",
    "            return 'salir'\n",
    "        else:\n",
    "            print(\"\\nChatBot: ¿Podrías repetirme qué tipo de adivinanzas quieres jugar?\\n\")"
   ]
  },
  {
   "cell_type": "code",
   "execution_count": 38,
   "metadata": {
    "id": "s-H8dMLsqD2y"
   },
   "outputs": [],
   "source": [
    "# Función del Nivel contextual IIB1:\n",
    "def Activar_NIIB1():\n",
    "    # Pregunta inicial cuando se ingresa en el nivel contextual NIIA1\n",
    "    print(\"\\nChatBot: ¿Tienes contratado Youtube Premium?\\n\")    \n",
    "    \n",
    "    while True:\n",
    "        inp = input(\"     Tú: \").lower()\n",
    "        \n",
    "        if inp == 'volver':\n",
    "            return 'NI'\n",
    "        elif inp == 'salir':\n",
    "            print(\"\\nChatBot: Hasta luego, fue un gusto hablar contigo\\n\")\n",
    "            return 'salir'\n",
    "        elif inp == 'si':\n",
    "            print(\"\\nChatBot: Muy bien, comenzaré con la reproducción\\n\")\n",
    "            return 'salir'\n",
    "        elif inp == 'no':\n",
    "            print(\"\\nChatBot: Lo siento, pero no puedo hacer eso si no cuentas con el servicio\\n\")\n",
    "            return 'salir'\n",
    "        else:\n",
    "            print(\"\\nChatBot: Esperaba una respuesta tal como Sí o No\\n\")"
   ]
  },
  {
   "cell_type": "code",
   "execution_count": 39,
   "metadata": {
    "id": "W2Je0fO2qD26"
   },
   "outputs": [],
   "source": [
    "# Función del Nivel contextual IIB2:\n",
    "def Activar_NIIB2():\n",
    "    # Pregunta inicial cuando se ingresa en el nivel contextual NIIA1\n",
    "    print(\"\\nChatBot: ¿Tienes contratado Spotify?\\n\")    \n",
    "    \n",
    "    while True:\n",
    "        inp = input(\"     Tú: \").lower()\n",
    "        \n",
    "        if inp == 'volver':\n",
    "            return 'NI'\n",
    "        elif inp == 'salir':\n",
    "            print(\"\\nChatBot: Hasta luego, fue un gusto hablar contigo\\n\")\n",
    "            return 'salir'\n",
    "        elif inp == 'si':\n",
    "            print(\"\\nChatBot: Muy bien, comenzaré con la reproducción\\n\")\n",
    "            return 'salir'\n",
    "        elif inp == 'no':\n",
    "            print(\"\\nChatBot: Lo siento, pero no puedo hacer eso si no cuentas con el servicio\\n\")\n",
    "            return 'salir'\n",
    "        else:\n",
    "            print(\"\\nChatBot: Esperaba una respuesta tal como Sí o No\\n\")"
   ]
  },
  {
   "cell_type": "code",
   "execution_count": 40,
   "metadata": {
    "id": "OvVGmziKqD3F"
   },
   "outputs": [],
   "source": [
    "# Función del Nivel contextual IIB3:\n",
    "def Activar_NIIB3():\n",
    "    # Pregunta inicial cuando se ingresa en el nivel contextual NIIA1\n",
    "    print(\"\\nChatBot: ¿Tienes contratado Amazon Music?\\n\")    \n",
    "    \n",
    "    while True:\n",
    "        inp = input(\"     Tú: \").lower()\n",
    "        \n",
    "        if inp == 'volver':\n",
    "            return 'NI'\n",
    "        elif inp == 'salir':\n",
    "            print(\"\\nChatBot: Hasta luego, fue un gusto hablar contigo\\n\")\n",
    "            return 'salir'\n",
    "        elif inp == 'si':\n",
    "            print(\"\\nChatBot: Muy bien, comenzaré con la reproducción\\n\")\n",
    "            return 'salir'\n",
    "        elif inp == 'no':\n",
    "            print(\"\\nChatBot: ¿Te gustaría contratarlo ahora?\\n\")\n",
    "            return 'salir'\n",
    "        else:\n",
    "            print(\"\\nChatBot: Esperaba una respuesta tal como Sí o No\\n\")"
   ]
  },
  {
   "cell_type": "code",
   "execution_count": 41,
   "metadata": {},
   "outputs": [],
   "source": [
    "# Implementación de casos correspondientes para cada nivel del ChatBot\n",
    "# Nivel contextual inicial por defecto, el primero\n",
    "\n",
    "maquina_estados = {'NI': Activar_NI,\n",
    "                   'NIIA': Activar_NIIA,\n",
    "                   'NIIA1': Activar_NIIA1,\n",
    "                   'NIIA2': Activar_NIIA2,\n",
    "                   'NIIB': Activar_NIIB,\n",
    "                   'NIIB1': Activar_NIIB1,\n",
    "                   'NIIB2': Activar_NIIB2,\n",
    "                   'NIIB3': Activar_NIIB3}\n",
    "\n",
    "def chat1():  \n",
    "    Nivel = 'NI'\n",
    "    #Pregunta inicial, solo cuando se inicia el ChatBot\n",
    "    print(\"\\nChatBot: Hola, soy el ChatBot, comienza a Hablar conmigo\")\n",
    "    \n",
    "    while True:        \n",
    "        Nivel = maquina_estados[Nivel]()\n",
    "        print(Nivel)\n",
    "        if Nivel == 'salir':\n",
    "            break"
   ]
  },
  {
   "cell_type": "code",
   "execution_count": null,
   "metadata": {},
   "outputs": [],
   "source": []
  },
  {
   "cell_type": "code",
   "execution_count": 42,
   "metadata": {
    "id": "vhDSeGlUqD3X",
    "outputId": "bed08f99-6158-4a4e-e258-7c052307be75"
   },
   "outputs": [
    {
     "name": "stdout",
     "output_type": "stream",
     "text": [
      "\n",
      "ChatBot: Hola, soy el ChatBot, comienza a Hablar conmigo\n",
      "\n",
      "ChatBot: ¿En qué puedo ayudarte?\n",
      "\n"
     ]
    },
    {
     "ename": "KeyboardInterrupt",
     "evalue": "Interrupted by user",
     "output_type": "error",
     "traceback": [
      "\u001b[0;31m---------------------------------------------------------------------------\u001b[0m",
      "\u001b[0;31mKeyboardInterrupt\u001b[0m                         Traceback (most recent call last)",
      "\u001b[1;32m/home/dati/Desktop/UP/PLN/Flujo conversacional/Arbol conversacional.ipynb Cell 41\u001b[0m line \u001b[0;36m2\n\u001b[1;32m      <a href='vscode-notebook-cell:/home/dati/Desktop/UP/PLN/Flujo%20conversacional/Arbol%20conversacional.ipynb#X54sZmlsZQ%3D%3D?line=0'>1</a>\u001b[0m \u001b[39m# Activar el ChatBot\u001b[39;00m\n\u001b[0;32m----> <a href='vscode-notebook-cell:/home/dati/Desktop/UP/PLN/Flujo%20conversacional/Arbol%20conversacional.ipynb#X54sZmlsZQ%3D%3D?line=1'>2</a>\u001b[0m chat1()\n",
      "\u001b[1;32m/home/dati/Desktop/UP/PLN/Flujo conversacional/Arbol conversacional.ipynb Cell 41\u001b[0m line \u001b[0;36m1\n\u001b[1;32m     <a href='vscode-notebook-cell:/home/dati/Desktop/UP/PLN/Flujo%20conversacional/Arbol%20conversacional.ipynb#X54sZmlsZQ%3D%3D?line=15'>16</a>\u001b[0m \u001b[39mprint\u001b[39m(\u001b[39m\"\u001b[39m\u001b[39m\\n\u001b[39;00m\u001b[39mChatBot: Hola, soy el ChatBot, comienza a Hablar conmigo\u001b[39m\u001b[39m\"\u001b[39m)\n\u001b[1;32m     <a href='vscode-notebook-cell:/home/dati/Desktop/UP/PLN/Flujo%20conversacional/Arbol%20conversacional.ipynb#X54sZmlsZQ%3D%3D?line=17'>18</a>\u001b[0m \u001b[39mwhile\u001b[39;00m \u001b[39mTrue\u001b[39;00m:        \n\u001b[0;32m---> <a href='vscode-notebook-cell:/home/dati/Desktop/UP/PLN/Flujo%20conversacional/Arbol%20conversacional.ipynb#X54sZmlsZQ%3D%3D?line=18'>19</a>\u001b[0m     Nivel \u001b[39m=\u001b[39m maquina_estados[Nivel]()\n\u001b[1;32m     <a href='vscode-notebook-cell:/home/dati/Desktop/UP/PLN/Flujo%20conversacional/Arbol%20conversacional.ipynb#X54sZmlsZQ%3D%3D?line=19'>20</a>\u001b[0m     \u001b[39mprint\u001b[39m(Nivel)\n\u001b[1;32m     <a href='vscode-notebook-cell:/home/dati/Desktop/UP/PLN/Flujo%20conversacional/Arbol%20conversacional.ipynb#X54sZmlsZQ%3D%3D?line=20'>21</a>\u001b[0m     \u001b[39mif\u001b[39;00m Nivel \u001b[39m==\u001b[39m \u001b[39m'\u001b[39m\u001b[39msalir\u001b[39m\u001b[39m'\u001b[39m:\n",
      "\u001b[1;32m/home/dati/Desktop/UP/PLN/Flujo conversacional/Arbol conversacional.ipynb Cell 41\u001b[0m line \u001b[0;36m7\n\u001b[1;32m      <a href='vscode-notebook-cell:/home/dati/Desktop/UP/PLN/Flujo%20conversacional/Arbol%20conversacional.ipynb#X54sZmlsZQ%3D%3D?line=3'>4</a>\u001b[0m \u001b[39mprint\u001b[39m(\u001b[39m\"\u001b[39m\u001b[39m\\n\u001b[39;00m\u001b[39mChatBot: ¿En qué puedo ayudarte?\u001b[39m\u001b[39m\\n\u001b[39;00m\u001b[39m\"\u001b[39m)    \n\u001b[1;32m      <a href='vscode-notebook-cell:/home/dati/Desktop/UP/PLN/Flujo%20conversacional/Arbol%20conversacional.ipynb#X54sZmlsZQ%3D%3D?line=5'>6</a>\u001b[0m \u001b[39mwhile\u001b[39;00m \u001b[39mTrue\u001b[39;00m:\n\u001b[0;32m----> <a href='vscode-notebook-cell:/home/dati/Desktop/UP/PLN/Flujo%20conversacional/Arbol%20conversacional.ipynb#X54sZmlsZQ%3D%3D?line=6'>7</a>\u001b[0m     inp \u001b[39m=\u001b[39m \u001b[39minput\u001b[39;49m(\u001b[39m\"\u001b[39;49m\u001b[39m     Tú: \u001b[39;49m\u001b[39m\"\u001b[39;49m)\n\u001b[1;32m      <a href='vscode-notebook-cell:/home/dati/Desktop/UP/PLN/Flujo%20conversacional/Arbol%20conversacional.ipynb#X54sZmlsZQ%3D%3D?line=7'>8</a>\u001b[0m     tag, maxscore \u001b[39m=\u001b[39m instancer(inp, model_NI, NI)\n\u001b[1;32m     <a href='vscode-notebook-cell:/home/dati/Desktop/UP/PLN/Flujo%20conversacional/Arbol%20conversacional.ipynb#X54sZmlsZQ%3D%3D?line=9'>10</a>\u001b[0m     \u001b[39mif\u001b[39;00m maxscore \u001b[39m>\u001b[39m \u001b[39m0.8\u001b[39m \u001b[39mor\u001b[39;00m inp \u001b[39m==\u001b[39m \u001b[39m'\u001b[39m\u001b[39msalir\u001b[39m\u001b[39m'\u001b[39m:\n",
      "File \u001b[0;32m~/.local/lib/python3.10/site-packages/ipykernel/kernelbase.py:1202\u001b[0m, in \u001b[0;36mKernel.raw_input\u001b[0;34m(self, prompt)\u001b[0m\n\u001b[1;32m   1200\u001b[0m     msg \u001b[39m=\u001b[39m \u001b[39m\"\u001b[39m\u001b[39mraw_input was called, but this frontend does not support input requests.\u001b[39m\u001b[39m\"\u001b[39m\n\u001b[1;32m   1201\u001b[0m     \u001b[39mraise\u001b[39;00m StdinNotImplementedError(msg)\n\u001b[0;32m-> 1202\u001b[0m \u001b[39mreturn\u001b[39;00m \u001b[39mself\u001b[39;49m\u001b[39m.\u001b[39;49m_input_request(\n\u001b[1;32m   1203\u001b[0m     \u001b[39mstr\u001b[39;49m(prompt),\n\u001b[1;32m   1204\u001b[0m     \u001b[39mself\u001b[39;49m\u001b[39m.\u001b[39;49m_parent_ident[\u001b[39m\"\u001b[39;49m\u001b[39mshell\u001b[39;49m\u001b[39m\"\u001b[39;49m],\n\u001b[1;32m   1205\u001b[0m     \u001b[39mself\u001b[39;49m\u001b[39m.\u001b[39;49mget_parent(\u001b[39m\"\u001b[39;49m\u001b[39mshell\u001b[39;49m\u001b[39m\"\u001b[39;49m),\n\u001b[1;32m   1206\u001b[0m     password\u001b[39m=\u001b[39;49m\u001b[39mFalse\u001b[39;49;00m,\n\u001b[1;32m   1207\u001b[0m )\n",
      "File \u001b[0;32m~/.local/lib/python3.10/site-packages/ipykernel/kernelbase.py:1245\u001b[0m, in \u001b[0;36mKernel._input_request\u001b[0;34m(self, prompt, ident, parent, password)\u001b[0m\n\u001b[1;32m   1242\u001b[0m \u001b[39mexcept\u001b[39;00m \u001b[39mKeyboardInterrupt\u001b[39;00m:\n\u001b[1;32m   1243\u001b[0m     \u001b[39m# re-raise KeyboardInterrupt, to truncate traceback\u001b[39;00m\n\u001b[1;32m   1244\u001b[0m     msg \u001b[39m=\u001b[39m \u001b[39m\"\u001b[39m\u001b[39mInterrupted by user\u001b[39m\u001b[39m\"\u001b[39m\n\u001b[0;32m-> 1245\u001b[0m     \u001b[39mraise\u001b[39;00m \u001b[39mKeyboardInterrupt\u001b[39;00m(msg) \u001b[39mfrom\u001b[39;00m \u001b[39mNone\u001b[39;00m\n\u001b[1;32m   1246\u001b[0m \u001b[39mexcept\u001b[39;00m \u001b[39mException\u001b[39;00m:\n\u001b[1;32m   1247\u001b[0m     \u001b[39mself\u001b[39m\u001b[39m.\u001b[39mlog\u001b[39m.\u001b[39mwarning(\u001b[39m\"\u001b[39m\u001b[39mInvalid Message:\u001b[39m\u001b[39m\"\u001b[39m, exc_info\u001b[39m=\u001b[39m\u001b[39mTrue\u001b[39;00m)\n",
      "\u001b[0;31mKeyboardInterrupt\u001b[0m: Interrupted by user"
     ]
    }
   ],
   "source": [
    "# Activar el ChatBot\n",
    "chat1()"
   ]
  },
  {
   "cell_type": "code",
   "execution_count": null,
   "metadata": {},
   "outputs": [],
   "source": []
  },
  {
   "cell_type": "code",
   "execution_count": null,
   "metadata": {},
   "outputs": [],
   "source": []
  }
 ],
 "metadata": {
  "colab": {
   "name": "Reto 28.- Flujos conversaconales",
   "provenance": []
  },
  "kernelspec": {
   "display_name": "Python 3 (ipykernel)",
   "language": "python",
   "name": "python3"
  },
  "language_info": {
   "codemirror_mode": {
    "name": "ipython",
    "version": 3
   },
   "file_extension": ".py",
   "mimetype": "text/x-python",
   "name": "python",
   "nbconvert_exporter": "python",
   "pygments_lexer": "ipython3",
   "version": "3.10.12"
  }
 },
 "nbformat": 4,
 "nbformat_minor": 1
}
