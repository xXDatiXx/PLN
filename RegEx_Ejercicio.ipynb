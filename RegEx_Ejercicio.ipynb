{
 "cells": [
  {
   "cell_type": "code",
   "execution_count": 6,
   "metadata": {
    "colab": {
     "base_uri": "https://localhost:8080/"
    },
    "id": "wJnZpKp3Gygd",
    "outputId": "37cddd21-fd97-47d5-fe1c-98aab35f7a19"
   },
   "outputs": [
    {
     "name": "stdout",
     "output_type": "stream",
     "text": [
      "'(123)456-7890' es válido\n",
      "'123-456-7890' es válido\n",
      "'(123) 456-7890' no es válido\n",
      "'123 456-7890' no es válido\n"
     ]
    }
   ],
   "source": [
    "import re\n",
    "\n",
    "# Expresión regular para los formatos (123)456-7890 y 123-456-7890\n",
    "pattern = r\"\\(?\\d{3}\\)?\\-?\\d{3}-\\d{4}\"\n",
    "\n",
    "# Función de prueba\n",
    "def validar_telefono(numero):\n",
    "    if re.match(pattern, numero):\n",
    "        return f\"'{numero}' es válido\"\n",
    "    else:\n",
    "        return f\"'{numero}' no es válido\"\n",
    "\n",
    "# Ejemplos de prueba\n",
    "print(validar_telefono(\"(123)456-7890\"))  # Válido\n",
    "print(validar_telefono(\"123-456-7890\"))   # Válido\n",
    "print(validar_telefono(\"(123) 456-7890\")) # No válido\n",
    "print(validar_telefono(\"123 456-7890\"))   # No válido"
   ]
  },
  {
   "cell_type": "code",
   "execution_count": 7,
   "metadata": {
    "id": "pIolUuTqG8Fn"
   },
   "outputs": [
    {
     "name": "stdout",
     "output_type": "stream",
     "text": [
      "'nombre.apellido_123@ejemplo.com' es válido\n",
      "'nombre.apellido@123.com' no es válido\n",
      "'nombre@ejemplo' no es válido\n",
      "'nombre.apellido@ejemplo.co.mx' es válido\n",
      "'nombre.apellido@ejem_plo.com' no es válido\n"
     ]
    }
   ],
   "source": [
    "# Expresión regular para validar el correo electrónico\n",
    "pattern = r\"[A-Za-z0-9_.]+@[a-z]+\\.[a-z]{2,3}\\.?([a-z]{2,3})?\"\n",
    "\n",
    "# Función de prueba\n",
    "def validar_correo(email):\n",
    "    if re.match(pattern, email):\n",
    "        return f\"'{email}' es válido\"\n",
    "    else:\n",
    "        return f\"'{email}' no es válido\"\n",
    "\n",
    "# Ejemplos de prueba\n",
    "print(validar_correo(\"nombre.apellido_123@ejemplo.com\"))     # Válido\n",
    "print(validar_correo(\"nombre.apellido@123.com\"))             # No válido\n",
    "print(validar_correo(\"nombre@ejemplo\"))                      # No válido\n",
    "print(validar_correo(\"nombre.apellido@ejemplo.co.mx\"))       # Válido\n",
    "print(validar_correo(\"nombre.apellido@ejem_plo.com\"))        # No válido\n"
   ]
  },
  {
   "cell_type": "code",
   "execution_count": 8,
   "metadata": {
    "id": "P9iaJD6aHl0Q"
   },
   "outputs": [
    {
     "name": "stdout",
     "output_type": "stream",
     "text": [
      "'16/08/2023' es válido\n",
      "'31/02/2023' es válido\n",
      "'05/13/2023' no es válido\n",
      "'05/12/23' no es válido\n",
      "'31/12/2023' es válido\n"
     ]
    }
   ],
   "source": [
    "# Expresión regular para validar la fecha\n",
    "pattern = r\"^(0[1-9]|[12][0-9]|3[01])/(0[1-9]|1[0-2])/\\d{4}$\"\n",
    "\n",
    "# Función de prueba\n",
    "def validar_fecha(date):\n",
    "    if re.match(pattern, date):\n",
    "        return f\"'{date}' es válido\"\n",
    "    else:\n",
    "        return f\"'{date}' no es válido\"\n",
    "\n",
    "# Ejemplos de prueba\n",
    "print(validar_fecha(\"16/08/2023\"))    # Válido\n",
    "print(validar_fecha(\"31/02/2023\"))    # Válido (aunque en realidad no lo es, pero nuestra regex valida el formato, no la lógica de la fecha)\n",
    "print(validar_fecha(\"05/13/2023\"))    # No válido\n",
    "print(validar_fecha(\"05/12/23\"))      # No válido\n",
    "print(validar_fecha(\"31/12/2023\"))    # Válido"
   ]
  },
  {
   "cell_type": "code",
   "execution_count": null,
   "metadata": {},
   "outputs": [],
   "source": []
  }
 ],
 "metadata": {
  "colab": {
   "provenance": []
  },
  "kernelspec": {
   "display_name": "Python 3 (ipykernel)",
   "language": "python",
   "name": "python3"
  },
  "language_info": {
   "codemirror_mode": {
    "name": "ipython",
    "version": 3
   },
   "file_extension": ".py",
   "mimetype": "text/x-python",
   "name": "python",
   "nbconvert_exporter": "python",
   "pygments_lexer": "ipython3",
   "version": "3.9.17"
  }
 },
 "nbformat": 4,
 "nbformat_minor": 1
}
