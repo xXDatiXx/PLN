{
  "nbformat": 4,
  "nbformat_minor": 0,
  "metadata": {
    "colab": {
      "provenance": []
    },
    "kernelspec": {
      "name": "python3",
      "display_name": "Python 3"
    },
    "language_info": {
      "name": "python"
    }
  },
  "cells": [
    {
      "cell_type": "code",
      "execution_count": null,
      "metadata": {
        "id": "_yZReXhyVki4"
      },
      "outputs": [],
      "source": [
        "# Importamos librerías de NLTK\n",
        "import nltk\n",
        "from nltk import bigrams\n",
        "from nltk.tokenize import word_tokenize\n",
        "from nltk.probability import FreqDist\n",
        "\n",
        "# Descargamos recursos de NLTK (punkt divide textos en subtextos (Tokenizador)\n",
        "nltk.download('punkt')\n",
        "\n",
        "# Texto de ejemplo\n",
        "text = \"\"\"El niño dijo 'no quiero comerme la sopa'\n",
        "          Amanda, no quiero romperte el corazón\n",
        "          Mi jefe siempre repite la frase 'no quiero tener que reptirlo'\"\"\"\n",
        "\n",
        "# Tokenizamos el texto\n",
        "tokens = word_tokenize(text)\n",
        "\n",
        "# Convertimos todo el texto en minúsculas\n",
        "filtered_tokens = [word.lower() for word in tokens]\n",
        "\n",
        "# Generamos los bigramas\n",
        "bi_grams = list(bigrams(filtered_tokens))\n",
        "\n",
        "# Contamos la frecuencia de cada bigrama\n",
        "bi_gram_freq = FreqDist(bi_grams)\n",
        "\n",
        "for bg, freq in bi_gram_freq.items():\n",
        "  if freq >= 2:\n",
        "    print(f\"Bigrama: {bg}, Frecuencia: {freq}\")\n"
      ]
    },
    {
      "cell_type": "code",
      "source": [
        "# Ejercicio:\n",
        "\n",
        "# De la siguiente lista de textos:\n",
        "\n",
        "# 1) Realizar una tokenización de los mismos (Usando NLTK)\n",
        "# 2) Lematizarlos utilizando \"WordNetLemmatizer\" (Investigar cómo utilizarlo con NLTK)\n",
        "# 3) Generar una lista de tokens llamada \"filtered_tokens\" en la cuál, solo se deberán\n",
        "# conservar los tokens lematizados, en letras minúsculas y sólo si son caracteres\n",
        "# alfabéticos (letras), además, cada token debe contener al menos 2 letras (elimar los de 2 o 1 caracteres)\n",
        "# 4) Generar la lista de bigramas usando \"bigrams\"\n",
        "# 5) Generar Obtener la frecuencia de los n-gramas usando \"FreqDist\"\n",
        "# 6) Imprimir las tuplas de bigramas y su frecuencia correspondiente\n",
        "\n",
        "\n",
        "Texto = \"\"\"Oye ChatBot, necesito por favor hacer una transferencia de mi cuenta principal a mi cuenta secundaria\n",
        "           Me ayudas por favor a realizar un retiro sin tarjeta?\n",
        "           Quiero transferir dinero, pero necesito saber mi número de cuenta y no lo tengo a la mano\n",
        "           Me intentaron robar, y no sé cómo proteger mi cuenta desde la APP\n",
        "           Dónde puedo consultar mi número de cuenta para que me hagan una transferencia de dinero?\n",
        "           El cajero no me dejó hacer un retiro sin tarjeta y no sé por qué\n",
        "           Tengo una tarjeta de crédito, pero me dice que el pago no pasa cuando la pongo en la terminal\n",
        "           Cómo puedo apagar mi tardeta de crédito para no hacer transacciones?\n",
        "           ¿A qué hora abre la sucursal para que pueda sacar mi dinero?\n",
        "           Chat, me puedes ayudar a hacer una transferencia de dinero por favor?\n",
        "           ¿Cómo y dónde puedo usar los puntos de mi tarjeta de crédito?\"\"\"\n"
      ],
      "metadata": {
        "id": "vklTgSSOVm7l"
      },
      "execution_count": null,
      "outputs": []
    },
    {
      "cell_type": "code",
      "source": [],
      "metadata": {
        "id": "hakP8rNcwK1O"
      },
      "execution_count": null,
      "outputs": []
    }
  ]
}